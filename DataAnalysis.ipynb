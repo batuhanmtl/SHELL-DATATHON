{
 "cells": [
  {
   "cell_type": "code",
   "execution_count": 3,
   "metadata": {},
   "outputs": [],
   "source": [
    "import sys\n",
    "import warnings\n",
    "warnings.filterwarnings('ignore')\n",
    "\n",
    "import pandas as pd\n",
    "import numpy as np\n",
    "import matplotlib.pyplot as plt\n",
    "import seaborn as sns\n",
    "\n",
    "from pandas_profiling import ProfileReport\n",
    "from ipywidgets import widgets\n",
    "\n",
    "pd.set_option('display.max_columns', 500)\n",
    "pd.set_option('display.max_rows', 500)\n"
   ]
  },
  {
   "cell_type": "code",
   "execution_count": null,
   "metadata": {},
   "outputs": [],
   "source": [
    "train = pd.read_csv('train.csv')\n",
    "test = pd.read_csv('test.csv')\n",
    "df_test = test.copy()\n",
    "df_train = train.copy()\n",
    "\n",
    "submission = pd.read_csv('sample_submission.csv')\n",
    "price = pd.read_csv('price.csv')\n",
    "\n",
    "tasit = pd.read_csv('tasitsayisi.csv')\n",
    "tufe = pd.read_csv('tufe.csv')\n",
    "brent = pd.read_csv('Brent Petrol Vadeli İşlemleri Geçmiş Verileri.csv')\n",
    "usd = pd.read_csv('USD_TRY Geçmiş Verileri.csv')\n",
    "gini = pd.read_csv('gini_set.csv')\n"
   ]
  },
  {
   "cell_type": "code",
   "execution_count": null,
   "metadata": {},
   "outputs": [],
   "source": []
  }
 ],
 "metadata": {
  "kernelspec": {
   "display_name": "Python 3",
   "language": "python",
   "name": "python3"
  },
  "language_info": {
   "codemirror_mode": {
    "name": "ipython",
    "version": 3
   },
   "file_extension": ".py",
   "mimetype": "text/x-python",
   "name": "python",
   "nbconvert_exporter": "python",
   "pygments_lexer": "ipython3",
   "version": "3.8.10"
  },
  "orig_nbformat": 4,
  "vscode": {
   "interpreter": {
    "hash": "3b86cf26b111134157ebe845dcff7287e37fbcdfe2e6a1ab798ab9bf32d5b708"
   }
  }
 },
 "nbformat": 4,
 "nbformat_minor": 2
}
