{
 "cells": [
  {
   "cell_type": "code",
   "execution_count": 3,
   "metadata": {},
   "outputs": [],
   "source": [
    "import sys\n",
    "import warnings\n",
    "warnings.filterwarnings('ignore')\n",
    "\n",
    "import pandas as pd\n",
    "import numpy as np\n",
    "import matplotlib.pyplot as plt\n",
    "import seaborn as sns\n",
    "\n",
    "from pandas_profiling import ProfileReport\n",
    "from ipywidgets import widgets\n",
    "\n",
    "pd.set_option('display.max_columns', 500)\n",
    "pd.set_option('display.max_rows', 500)\n"
   ]
  },
  {
   "cell_type": "code",
   "execution_count": null,
   "metadata": {},
   "outputs": [],
   "source": [
    "train = pd.read_csv('train.csv')\n",
    "test = pd.read_csv('test.csv')\n",
    "df_test = test.copy()\n",
    "df_train = train.copy()\n",
    "\n",
    "submission = pd.read_csv('sample_submission.csv')\n",
    "price = pd.read_csv('price.csv')\n",
    "\n",
    "tasit = pd.read_csv('tasitsayisi.csv')\n",
    "tufe = pd.read_csv('tufe.csv')\n",
    "brent = pd.read_csv('Brent Petrol Vadeli İşlemleri Geçmiş Verileri.csv')\n",
    "usd = pd.read_csv('USD_TRY Geçmiş Verileri.csv')\n",
    "gini = pd.read_csv('gini_set.csv')\n"
   ]
  },
  {
   "cell_type": "code",
   "execution_count": null,
   "metadata": {},
   "outputs": [],
   "source": [
    "df_train[\"Billing Date\"] = pd.to_datetime(train[\"Billing Date\"])\n",
    "df_test[\"Week Start Date\"] = pd.to_datetime(test[\"Week Start Date\"])\n",
    "\n",
    "price[\"Validfrom\"] = pd.to_datetime(price[\"Validfrom\"])\n",
    "tufe[\"date\"] = pd.to_datetime(tufe[\"date\"])\n",
    "\n",
    "usd[\"Tarih\"] = pd.to_datetime(usd[\"Tarih\"])\n",
    "brent[\"Tarih\"] = pd.to_datetime(brent[\"Tarih\"])\n",
    "\n",
    "df_train[\"year\"] = df_train[\"Billing Date\"].dt.year\n",
    "df_train[\"month\"] = df_train[\"Billing Date\"].dt.month\n",
    "df_train[\"week\"] = df_train[\"Billing Date\"].dt.weekofyear\n",
    "\n",
    "df_test[\"year\"] = df_test[\"Week Start Date\"].dt.year\n",
    "df_test[\"month\"] = df_test[\"Week Start Date\"].dt.month\n",
    "df_test[\"week\"] = df_test[\"Week Start Date\"].dt.weekofyear\n",
    "\n",
    "price[\"year\"] = price[\"Validfrom\"].dt.year\n",
    "price[\"month\"] = price[\"Validfrom\"].dt.month\n",
    "price[\"week\"] = price[\"Validfrom\"].dt.weekofyear\n",
    "\n",
    "tufe[\"year\"] = tufe[\"date\"].dt.year\n",
    "tufe[\"month\"] = tufe[\"date\"].dt.month\n",
    "\n",
    "\n",
    "usd[\"year\"] = usd[\"Tarih\"].dt.year\n",
    "usd[\"month\"] = usd[\"Tarih\"].dt.month\n",
    "usd[\"week\"] = usd[\"Tarih\"].dt.weekofyear\n",
    "\n",
    "brent[\"year\"] = brent[\"Tarih\"].dt.year\n",
    "brent[\"month\"] = brent[\"Tarih\"].dt.month\n",
    "brent[\"week\"] = brent[\"Tarih\"].dt.weekofyear"
   ]
  },
  {
   "cell_type": "code",
   "execution_count": null,
   "metadata": {},
   "outputs": [],
   "source": [
    "price = price.groupby([\"City Code\",\"year\",\"week\",\"Product\"])[\"CRP\"].agg([\"mean\",\"std\",\"max\",\"min\"]).reset_index()\n",
    "\n",
    "price.columns = [\"City Code\",\"year\",\"week\",\"Product\",\"CRP_mean\",\"CRP_std\",\"CRP_max\",\"CRP_min\"]"
   ]
  },
  {
   "cell_type": "code",
   "execution_count": null,
   "metadata": {},
   "outputs": [],
   "source": [
    "usd.drop([\"Açılış\",\"Yüksek\",\"Düşük\",\"Hac.\",\"Fark %\",\"Düşük\"],axis=1,inplace=True)\n",
    "\n",
    "usd[\"Şimdi\"] = usd[\"Şimdi\"].apply(lambda x: x.replace(\",\",\".\")).astype(float)\n",
    "\n",
    "brent[\"Şimdi\"] = brent[\"Şimdi\"].apply(lambda x: x.replace(\",\",\".\")).astype(float)"
   ]
  },
  {
   "cell_type": "code",
   "execution_count": null,
   "metadata": {},
   "outputs": [],
   "source": [
    "usd = usd.groupby([\"year\",\"week\"])[\"Şimdi\"].agg([\"mean\",\"std\",\"max\",\"min\"]).reset_index()\n",
    "\n",
    "usd.columns = [\"year\",\"week\",\"USD_mean\",\"USD_std\",\"USD_max\",\"USD_min\"]\n",
    "\n",
    "brent = brent.groupby([\"year\",\"week\"])[\"Şimdi\"].agg([\"mean\",\"std\",\"max\",\"min\"]).reset_index()\n",
    "\n",
    "brent.columns = [\"year\",\"week\",\"Brent_mean\",\"Brent_std\",\"Brent_max\",\"Brent_min\"]"
   ]
  },
  {
   "cell_type": "code",
   "execution_count": null,
   "metadata": {},
   "outputs": [],
   "source": [
    "il_bölge = {\"Antalya\":\"Akdeniz Bölgesi\",\n",
    "            \"Burdur\":\"Akdeniz Bölgesi\",\n",
    "            \"Isparta\":\"Akdeniz Bölgesi\",\n",
    "            \"Mersin\":\"Akdeniz Bölgesi\",\n",
    "            \"Adana\":\"Akdeniz Bölgesi\",\n",
    "            \"Hatay\":\"Akdeniz Bölgesi\",\n",
    "            \"Osmaniye\":\"Akdeniz Bölgesi\",\n",
    "            \"K.Maraş\":\"Akdeniz Bölgesi\",\n",
    "            \"İzmir\":\"Ege Bölgesi\",\n",
    "            \"Aydın\":\"Ege Bölgesi\",\n",
    "            \"Muğla\":\"Ege Bölgesi\",\n",
    "            \"Manisa\":\"Ege Bölgesi\",\n",
    "            \"Denizli\":\"Ege Bölgesi\",\n",
    "            \"Uşak\":\"Ege Bölgesi\",\n",
    "            \"Kütahya\":\"Ege Bölgesi\",\n",
    "            \"Afyonkarahisar\":\"Ege Bölgesi\",\n",
    "            \"Gaziantep\":\"Güneydoğu Anadolu Bölgesi\",\n",
    "            \"Kilis\":\"Güneydoğu Anadolu Bölgesi\",\n",
    "            \"Adıyaman\":\"Güneydoğu Anadolu Bölgesi\",\n",
    "            \"Ş.Urfa\":\"Güneydoğu Anadolu Bölgesi\",\n",
    "            \"Diyarbakır\":\"Güneydoğu Anadolu Bölgesi\",\n",
    "            \"Mardin\":\"Güneydoğu Anadolu Bölgesi\",\n",
    "            \"Batman\":\"Güneydoğu Anadolu Bölgesi\",\n",
    "            \"Siirt\":\"Güneydoğu Anadolu Bölgesi\",\n",
    "            \"Bolu\":\"Karadeniz Bölgesi\",\n",
    "            \"Düzce\":\"Karadeniz Bölgesi\",\n",
    "            \"Zonguldak\":\"Karadeniz Bölgesi\",\n",
    "            \"Karabük\":\"Karadeniz Bölgesi\",\n",
    "            \"Bartın\":\"Karadeniz Bölgesi\",\n",
    "            \"Kastamonu\":\"Karadeniz Bölgesi\",\n",
    "            \"Çorum\":\"Karadeniz Bölgesi\",\n",
    "            \"Sinop\":\"Karadeniz Bölgesi\",\n",
    "            \"Samsun\":\"Karadeniz Bölgesi\",\n",
    "            \"Amasya\":\"Karadeniz Bölgesi\",\n",
    "            \"Tokat\":\"Karadeniz Bölgesi\",\n",
    "            \"Ordu\":\"Karadeniz Bölgesi\",\n",
    "            \"Giresun\":\"Karadeniz Bölgesi\",\n",
    "            \"Gümüşhane\":\"Karadeniz Bölgesi\",\n",
    "            \"Trabzon\":\"Karadeniz Bölgesi\",\n",
    "            \"Bayburt\":\"Karadeniz Bölgesi\",\n",
    "            \"Rize\":\"Karadeniz Bölgesi\",\n",
    "            \"Artvin\":\"Karadeniz Bölgesi\",\n",
    "            \"Çanakkale\":\"Marmara Bölgesi\",\n",
    "            \"Balıkesir\":\"Marmara Bölgesi\",\n",
    "            \"Edirne\":\"Marmara Bölgesi\",\n",
    "            \"Tekirdağ\":\"Marmara Bölgesi\",\n",
    "            \"Kırklareli\":\"Marmara Bölgesi\",\n",
    "            \"İstanbul\":\"Marmara Bölgesi\",\n",
    "            \"Bursa\":\"Marmara Bölgesi\",\n",
    "            \"Yalova\":\"Marmara Bölgesi\",\n",
    "            \"Kocaeli\":\"Marmara Bölgesi\",\n",
    "            \"Sakarya\":\"Marmara Bölgesi\",\n",
    "            \"Bilecik\":\"Marmara Bölgesi\",\n",
    "            \"Eskişehir\":\"İç Anadolu Bölgesi\",\n",
    "            \"Konya\":\"İç Anadolu Bölgesi\",\n",
    "            \"Ankara\":\"İç Anadolu Bölgesi\",\n",
    "            \"Çankırı\":\"İç Anadolu Bölgesi\",\n",
    "            \"Aksaray\":\"İç Anadolu Bölgesi\",\n",
    "            \"Kırıkkale\":\"İç Anadolu Bölgesi\",\n",
    "            \"Kırşehir\":\"İç Anadolu Bölgesi\",\n",
    "            \"Yozgat\":\"İç Anadolu Bölgesi\",\n",
    "            \"Niğde\":\"İç Anadolu Bölgesi\",\n",
    "            \"Nevşehir\":\"İç Anadolu Bölgesi\",\n",
    "            \"Kayseri\":\"İç Anadolu Bölgesi\",\n",
    "            \"Karaman\":\"İç Anadolu Bölgesi\",\n",
    "            \"Sivas\":\"İç Anadolu Bölgesi\",\n",
    "            \"Malatya\":\"Doğu Anadolu Bölgesi\",\n",
    "            \"Erzincan\":\"Doğu Anadolu Bölgesi\",\n",
    "            \"Elazığ\":\"Doğu Anadolu Bölgesi\",\n",
    "            \"Tunceli\":\"Doğu Anadolu Bölgesi\",\n",
    "            \"Bingöl\":\"Doğu Anadolu Bölgesi\",\n",
    "            \"Erzurum\":\"Doğu Anadolu Bölgesi\",\n",
    "            \"Muş\":\"Doğu Anadolu Bölgesi\",\n",
    "            \"Bitlis\":\"Doğu Anadolu Bölgesi\",\n",
    "            \"Şırnak\":\"Doğu Anadolu Bölgesi\",\n",
    "            \"Kars\":\"Doğu Anadolu Bölgesi\",\n",
    "            \"Ağrı\":\"Doğu Anadolu Bölgesi\",\n",
    "            \"Ardahan\":\"Doğu Anadolu Bölgesi\",\n",
    "            \"Van\":\"Doğu Anadolu Bölgesi\",\n",
    "            \"Iğdır\":\"Doğu Anadolu Bölgesi\",\n",
    "            \"Hakkari\":\"Doğu Anadolu Bölgesi\"}"
   ]
  },
  {
   "cell_type": "code",
   "execution_count": null,
   "metadata": {},
   "outputs": [],
   "source": [
    "# giniye bölge ismini ekliyoruz\n",
    "gini[\"bölge\"] = gini[\"il\"].map(il_bölge)"
   ]
  },
  {
   "cell_type": "code",
   "execution_count": null,
   "metadata": {},
   "outputs": [],
   "source": []
  },
  {
   "cell_type": "code",
   "execution_count": null,
   "metadata": {},
   "outputs": [],
   "source": []
  }
 ],
 "metadata": {
  "kernelspec": {
   "display_name": "Python 3",
   "language": "python",
   "name": "python3"
  },
  "language_info": {
   "codemirror_mode": {
    "name": "ipython",
    "version": 3
   },
   "file_extension": ".py",
   "mimetype": "text/x-python",
   "name": "python",
   "nbconvert_exporter": "python",
   "pygments_lexer": "ipython3",
   "version": "3.8.10"
  },
  "orig_nbformat": 4,
  "vscode": {
   "interpreter": {
    "hash": "3b86cf26b111134157ebe845dcff7287e37fbcdfe2e6a1ab798ab9bf32d5b708"
   }
  }
 },
 "nbformat": 4,
 "nbformat_minor": 2
}
