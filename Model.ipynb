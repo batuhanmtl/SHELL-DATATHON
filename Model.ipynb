{
 "cells": [
  {
   "cell_type": "code",
   "execution_count": 1,
   "metadata": {},
   "outputs": [],
   "source": [
    "import warnings\n",
    "warnings.filterwarnings('ignore')\n",
    "\n",
    "import pandas as pd\n",
    "import numpy as np\n",
    "import matplotlib.pyplot as plt\n",
    "import seaborn as sns\n",
    "\n",
    "import lightgbm as lgbm\n",
    "from sklearn.model_selection import KFold,GroupKFold\n",
    "from catboost import CatBoostRegressor,Pool\n",
    "from lightgbm import LGBMRegressor\n",
    "\n",
    "from sklearn.metrics import mean_squared_log_error\n",
    "\n",
    "import optuna \n",
    "\n",
    "pd.set_option('display.max_columns', 500)\n",
    "pd.set_option('display.max_rows', 500)"
   ]
  },
  {
   "cell_type": "code",
   "execution_count": 2,
   "metadata": {},
   "outputs": [],
   "source": [
    "train = pd.read_csv('train.csv')\n",
    "test = pd.read_csv('test.csv')\n",
    "df_test = test.copy()\n",
    "df_train = train.copy()\n",
    "\n",
    "submission = pd.read_csv('sample_submission.csv')\n",
    "price = pd.read_csv('price.csv')\n",
    "\n",
    "tasit = pd.read_csv('tasitsayisi.csv')\n",
    "tufe = pd.read_csv('tufe.csv')\n",
    "brent = pd.read_csv('Brent Petrol Vadeli İşlemleri Geçmiş Verileri.csv')\n",
    "usd = pd.read_csv('USD_TRY Geçmiş Verileri.csv')\n",
    "gini = pd.read_csv('gini_set.csv')\n"
   ]
  },
  {
   "cell_type": "code",
   "execution_count": 3,
   "metadata": {},
   "outputs": [],
   "source": [
    "df_train[\"Billing Date\"] = pd.to_datetime(train[\"Billing Date\"])\n",
    "df_test[\"Week Start Date\"] = pd.to_datetime(test[\"Week Start Date\"])\n",
    "\n",
    "price[\"Validfrom\"] = pd.to_datetime(price[\"Validfrom\"])\n",
    "tufe[\"date\"] = pd.to_datetime(tufe[\"date\"])\n",
    "\n",
    "usd[\"Tarih\"] = pd.to_datetime(usd[\"Tarih\"])\n",
    "brent[\"Tarih\"] = pd.to_datetime(brent[\"Tarih\"])\n",
    "\n",
    "df_train[\"year\"] = df_train[\"Billing Date\"].dt.year\n",
    "df_train[\"month\"] = df_train[\"Billing Date\"].dt.month\n",
    "df_train[\"week\"] = df_train[\"Billing Date\"].dt.weekofyear\n",
    "\n",
    "df_test[\"year\"] = df_test[\"Week Start Date\"].dt.year\n",
    "df_test[\"month\"] = df_test[\"Week Start Date\"].dt.month\n",
    "df_test[\"week\"] = df_test[\"Week Start Date\"].dt.weekofyear\n",
    "\n",
    "price[\"year\"] = price[\"Validfrom\"].dt.year\n",
    "price[\"month\"] = price[\"Validfrom\"].dt.month\n",
    "price[\"week\"] = price[\"Validfrom\"].dt.weekofyear\n",
    "\n",
    "tufe[\"year\"] = tufe[\"date\"].dt.year\n",
    "tufe[\"month\"] = tufe[\"date\"].dt.month\n",
    "\n",
    "\n",
    "usd[\"year\"] = usd[\"Tarih\"].dt.year\n",
    "usd[\"month\"] = usd[\"Tarih\"].dt.month\n",
    "usd[\"week\"] = usd[\"Tarih\"].dt.weekofyear\n",
    "\n",
    "brent[\"year\"] = brent[\"Tarih\"].dt.year\n",
    "brent[\"month\"] = brent[\"Tarih\"].dt.month\n",
    "brent[\"week\"] = brent[\"Tarih\"].dt.weekofyear"
   ]
  },
  {
   "cell_type": "code",
   "execution_count": 4,
   "metadata": {},
   "outputs": [],
   "source": [
    "price = price.groupby([\"City Code\",\"year\",\"week\",\"Product\"])[\"CRP\"].agg([\"mean\",\"std\",\"max\",\"min\"]).reset_index()\n",
    "\n",
    "price.columns = [\"City Code\",\"year\",\"week\",\"Product\",\"CRP_mean\",\"CRP_std\",\"CRP_max\",\"CRP_min\"]"
   ]
  },
  {
   "cell_type": "code",
   "execution_count": 5,
   "metadata": {},
   "outputs": [],
   "source": [
    "usd.drop([\"Açılış\",\"Yüksek\",\"Düşük\",\"Hac.\",\"Fark %\",\"Düşük\"],axis=1,inplace=True)\n",
    "\n",
    "usd[\"Şimdi\"] = usd[\"Şimdi\"].apply(lambda x: x.replace(\",\",\".\")).astype(float)\n",
    "\n",
    "brent[\"Şimdi\"] = brent[\"Şimdi\"].apply(lambda x: x.replace(\",\",\".\")).astype(float)\n",
    "\n"
   ]
  },
  {
   "cell_type": "code",
   "execution_count": 6,
   "metadata": {},
   "outputs": [
    {
     "data": {
      "text/html": [
       "<div>\n",
       "<style scoped>\n",
       "    .dataframe tbody tr th:only-of-type {\n",
       "        vertical-align: middle;\n",
       "    }\n",
       "\n",
       "    .dataframe tbody tr th {\n",
       "        vertical-align: top;\n",
       "    }\n",
       "\n",
       "    .dataframe thead th {\n",
       "        text-align: right;\n",
       "    }\n",
       "</style>\n",
       "<table border=\"1\" class=\"dataframe\">\n",
       "  <thead>\n",
       "    <tr style=\"text-align: right;\">\n",
       "      <th></th>\n",
       "      <th>Tarih</th>\n",
       "      <th>Şimdi</th>\n",
       "      <th>year</th>\n",
       "      <th>month</th>\n",
       "      <th>week</th>\n",
       "    </tr>\n",
       "  </thead>\n",
       "  <tbody>\n",
       "    <tr>\n",
       "      <th>0</th>\n",
       "      <td>2019-12-31</td>\n",
       "      <td>5.9479</td>\n",
       "      <td>2019</td>\n",
       "      <td>12</td>\n",
       "      <td>1</td>\n",
       "    </tr>\n",
       "    <tr>\n",
       "      <th>1</th>\n",
       "      <td>2019-12-30</td>\n",
       "      <td>5.9441</td>\n",
       "      <td>2019</td>\n",
       "      <td>12</td>\n",
       "      <td>1</td>\n",
       "    </tr>\n",
       "    <tr>\n",
       "      <th>2</th>\n",
       "      <td>2019-12-27</td>\n",
       "      <td>5.9492</td>\n",
       "      <td>2019</td>\n",
       "      <td>12</td>\n",
       "      <td>52</td>\n",
       "    </tr>\n",
       "    <tr>\n",
       "      <th>3</th>\n",
       "      <td>2019-12-26</td>\n",
       "      <td>5.9286</td>\n",
       "      <td>2019</td>\n",
       "      <td>12</td>\n",
       "      <td>52</td>\n",
       "    </tr>\n",
       "    <tr>\n",
       "      <th>4</th>\n",
       "      <td>2019-12-25</td>\n",
       "      <td>5.9340</td>\n",
       "      <td>2019</td>\n",
       "      <td>12</td>\n",
       "      <td>52</td>\n",
       "    </tr>\n",
       "  </tbody>\n",
       "</table>\n",
       "</div>"
      ],
      "text/plain": [
       "       Tarih   Şimdi  year  month  week\n",
       "0 2019-12-31  5.9479  2019     12     1\n",
       "1 2019-12-30  5.9441  2019     12     1\n",
       "2 2019-12-27  5.9492  2019     12    52\n",
       "3 2019-12-26  5.9286  2019     12    52\n",
       "4 2019-12-25  5.9340  2019     12    52"
      ]
     },
     "execution_count": 6,
     "metadata": {},
     "output_type": "execute_result"
    }
   ],
   "source": [
    "usd.head()"
   ]
  },
  {
   "cell_type": "code",
   "execution_count": 7,
   "metadata": {},
   "outputs": [],
   "source": [
    "usd = usd.groupby([\"year\",\"week\"])[\"Şimdi\"].agg([\"mean\",\"std\",\"max\",\"min\"]).reset_index()\n",
    "\n",
    "usd.columns = [\"year\",\"week\",\"USD_mean\",\"USD_std\",\"USD_max\",\"USD_min\"]\n",
    "\n",
    "brent = brent.groupby([\"year\",\"week\"])[\"Şimdi\"].agg([\"mean\",\"std\",\"max\",\"min\"]).reset_index()\n",
    "\n",
    "brent.columns = [\"year\",\"week\",\"Brent_mean\",\"Brent_std\",\"Brent_max\",\"Brent_min\"]\n"
   ]
  },
  {
   "cell_type": "code",
   "execution_count": 8,
   "metadata": {},
   "outputs": [],
   "source": [
    "il_bölge = {\"Antalya\":\"Akdeniz Bölgesi\",\n",
    "            \"Burdur\":\"Akdeniz Bölgesi\",\n",
    "            \"Isparta\":\"Akdeniz Bölgesi\",\n",
    "            \"Mersin\":\"Akdeniz Bölgesi\",\n",
    "            \"Adana\":\"Akdeniz Bölgesi\",\n",
    "            \"Hatay\":\"Akdeniz Bölgesi\",\n",
    "            \"Osmaniye\":\"Akdeniz Bölgesi\",\n",
    "            \"K.Maraş\":\"Akdeniz Bölgesi\",\n",
    "            \"İzmir\":\"Ege Bölgesi\",\n",
    "            \"Aydın\":\"Ege Bölgesi\",\n",
    "            \"Muğla\":\"Ege Bölgesi\",\n",
    "            \"Manisa\":\"Ege Bölgesi\",\n",
    "            \"Denizli\":\"Ege Bölgesi\",\n",
    "            \"Uşak\":\"Ege Bölgesi\",\n",
    "            \"Kütahya\":\"Ege Bölgesi\",\n",
    "            \"Afyonkarahisar\":\"Ege Bölgesi\",\n",
    "            \"Gaziantep\":\"Güneydoğu Anadolu Bölgesi\",\n",
    "            \"Kilis\":\"Güneydoğu Anadolu Bölgesi\",\n",
    "            \"Adıyaman\":\"Güneydoğu Anadolu Bölgesi\",\n",
    "            \"Ş.Urfa\":\"Güneydoğu Anadolu Bölgesi\",\n",
    "            \"Diyarbakır\":\"Güneydoğu Anadolu Bölgesi\",\n",
    "            \"Mardin\":\"Güneydoğu Anadolu Bölgesi\",\n",
    "            \"Batman\":\"Güneydoğu Anadolu Bölgesi\",\n",
    "            \"Siirt\":\"Güneydoğu Anadolu Bölgesi\",\n",
    "            \"Bolu\":\"Karadeniz Bölgesi\",\n",
    "            \"Düzce\":\"Karadeniz Bölgesi\",\n",
    "            \"Zonguldak\":\"Karadeniz Bölgesi\",\n",
    "            \"Karabük\":\"Karadeniz Bölgesi\",\n",
    "            \"Bartın\":\"Karadeniz Bölgesi\",\n",
    "            \"Kastamonu\":\"Karadeniz Bölgesi\",\n",
    "            \"Çorum\":\"Karadeniz Bölgesi\",\n",
    "            \"Sinop\":\"Karadeniz Bölgesi\",\n",
    "            \"Samsun\":\"Karadeniz Bölgesi\",\n",
    "            \"Amasya\":\"Karadeniz Bölgesi\",\n",
    "            \"Tokat\":\"Karadeniz Bölgesi\",\n",
    "            \"Ordu\":\"Karadeniz Bölgesi\",\n",
    "            \"Giresun\":\"Karadeniz Bölgesi\",\n",
    "            \"Gümüşhane\":\"Karadeniz Bölgesi\",\n",
    "            \"Trabzon\":\"Karadeniz Bölgesi\",\n",
    "            \"Bayburt\":\"Karadeniz Bölgesi\",\n",
    "            \"Rize\":\"Karadeniz Bölgesi\",\n",
    "            \"Artvin\":\"Karadeniz Bölgesi\",\n",
    "            \"Çanakkale\":\"Marmara Bölgesi\",\n",
    "            \"Balıkesir\":\"Marmara Bölgesi\",\n",
    "            \"Edirne\":\"Marmara Bölgesi\",\n",
    "            \"Tekirdağ\":\"Marmara Bölgesi\",\n",
    "            \"Kırklareli\":\"Marmara Bölgesi\",\n",
    "            \"İstanbul\":\"Marmara Bölgesi\",\n",
    "            \"Bursa\":\"Marmara Bölgesi\",\n",
    "            \"Yalova\":\"Marmara Bölgesi\",\n",
    "            \"Kocaeli\":\"Marmara Bölgesi\",\n",
    "            \"Sakarya\":\"Marmara Bölgesi\",\n",
    "            \"Bilecik\":\"Marmara Bölgesi\",\n",
    "            \"Eskişehir\":\"İç Anadolu Bölgesi\",\n",
    "            \"Konya\":\"İç Anadolu Bölgesi\",\n",
    "            \"Ankara\":\"İç Anadolu Bölgesi\",\n",
    "            \"Çankırı\":\"İç Anadolu Bölgesi\",\n",
    "            \"Aksaray\":\"İç Anadolu Bölgesi\",\n",
    "            \"Kırıkkale\":\"İç Anadolu Bölgesi\",\n",
    "            \"Kırşehir\":\"İç Anadolu Bölgesi\",\n",
    "            \"Yozgat\":\"İç Anadolu Bölgesi\",\n",
    "            \"Niğde\":\"İç Anadolu Bölgesi\",\n",
    "            \"Nevşehir\":\"İç Anadolu Bölgesi\",\n",
    "            \"Kayseri\":\"İç Anadolu Bölgesi\",\n",
    "            \"Karaman\":\"İç Anadolu Bölgesi\",\n",
    "            \"Sivas\":\"İç Anadolu Bölgesi\",\n",
    "            \"Malatya\":\"Doğu Anadolu Bölgesi\",\n",
    "            \"Erzincan\":\"Doğu Anadolu Bölgesi\",\n",
    "            \"Elazığ\":\"Doğu Anadolu Bölgesi\",\n",
    "            \"Tunceli\":\"Doğu Anadolu Bölgesi\",\n",
    "            \"Bingöl\":\"Doğu Anadolu Bölgesi\",\n",
    "            \"Erzurum\":\"Doğu Anadolu Bölgesi\",\n",
    "            \"Muş\":\"Doğu Anadolu Bölgesi\",\n",
    "            \"Bitlis\":\"Doğu Anadolu Bölgesi\",\n",
    "            \"Şırnak\":\"Doğu Anadolu Bölgesi\",\n",
    "            \"Kars\":\"Doğu Anadolu Bölgesi\",\n",
    "            \"Ağrı\":\"Doğu Anadolu Bölgesi\",\n",
    "            \"Ardahan\":\"Doğu Anadolu Bölgesi\",\n",
    "            \"Van\":\"Doğu Anadolu Bölgesi\",\n",
    "            \"Iğdır\":\"Doğu Anadolu Bölgesi\",\n",
    "            \"Hakkari\":\"Doğu Anadolu Bölgesi\"}"
   ]
  },
  {
   "cell_type": "code",
   "execution_count": 9,
   "metadata": {},
   "outputs": [],
   "source": [
    "# giniye bölge ismini ekliyoruz\n",
    "gini[\"bölge\"] = gini[\"il\"].map(il_bölge)\n"
   ]
  },
  {
   "cell_type": "code",
   "execution_count": 10,
   "metadata": {},
   "outputs": [],
   "source": [
    "# otomobil,minibus,otobüs,kamyon ve kamyonet strip\n",
    "\n",
    "tasit[\"otomobil\"] = tasit[\"otomobil\"].astype(str).str.replace(' ', '')\n",
    "tasit[\"minibus\"] = tasit[\"minibus\"].astype(str).str.replace(' ', '')\n",
    "tasit[\"otobus\"] = tasit[\"otobus\"].astype(str).str.replace(' ', '')\n",
    "tasit[\"kamyon\"] = tasit[\"kamyon\"].astype(str).str.replace(' ', '')\n",
    "tasit[\"kamyonet\"] = tasit[\"kamyonet\"].astype(str).str.replace(' ', '')"
   ]
  },
  {
   "cell_type": "code",
   "execution_count": 11,
   "metadata": {},
   "outputs": [],
   "source": [
    "tasit[\"otomobil\"] = tasit[\"otomobil\"].astype(float)\n",
    "tasit[\"minibus\"] = tasit[\"minibus\"].astype(float)\n",
    "tasit[\"otobus\"] = tasit[\"otobus\"].astype(float)\n",
    "tasit[\"kamyon\"] = tasit[\"kamyon\"].astype(float)\n",
    "tasit[\"kamyonet\"] = tasit[\"kamyonet\"].astype(float)"
   ]
  },
  {
   "cell_type": "code",
   "execution_count": 12,
   "metadata": {},
   "outputs": [],
   "source": [
    "tasit = tasit.groupby([\"year\",\"bölge\"]).agg({\"otomobil\":\"sum\",\n",
    "                    \"minibus\":\"sum\",\n",
    "                    \"otobus\":\"sum\",\n",
    "                    \"kamyonet\":\"sum\",\n",
    "                    \"kamyon\":\"sum\"}).reset_index()"
   ]
  },
  {
   "cell_type": "code",
   "execution_count": 13,
   "metadata": {},
   "outputs": [
    {
     "data": {
      "text/html": [
       "<div>\n",
       "<style scoped>\n",
       "    .dataframe tbody tr th:only-of-type {\n",
       "        vertical-align: middle;\n",
       "    }\n",
       "\n",
       "    .dataframe tbody tr th {\n",
       "        vertical-align: top;\n",
       "    }\n",
       "\n",
       "    .dataframe thead th {\n",
       "        text-align: right;\n",
       "    }\n",
       "</style>\n",
       "<table border=\"1\" class=\"dataframe\">\n",
       "  <thead>\n",
       "    <tr style=\"text-align: right;\">\n",
       "      <th></th>\n",
       "      <th>City Code</th>\n",
       "      <th>week</th>\n",
       "      <th>month</th>\n",
       "      <th>year</th>\n",
       "      <th>Customer</th>\n",
       "      <th>Product</th>\n",
       "      <th>Litres</th>\n",
       "    </tr>\n",
       "  </thead>\n",
       "  <tbody>\n",
       "    <tr>\n",
       "      <th>0</th>\n",
       "      <td>116</td>\n",
       "      <td>1</td>\n",
       "      <td>1</td>\n",
       "      <td>2014</td>\n",
       "      <td>12122988</td>\n",
       "      <td>Benzin</td>\n",
       "      <td>0.0</td>\n",
       "    </tr>\n",
       "    <tr>\n",
       "      <th>1</th>\n",
       "      <td>116</td>\n",
       "      <td>1</td>\n",
       "      <td>1</td>\n",
       "      <td>2014</td>\n",
       "      <td>12122988</td>\n",
       "      <td>Motorin</td>\n",
       "      <td>0.0</td>\n",
       "    </tr>\n",
       "    <tr>\n",
       "      <th>2</th>\n",
       "      <td>116</td>\n",
       "      <td>1</td>\n",
       "      <td>1</td>\n",
       "      <td>2015</td>\n",
       "      <td>12122988</td>\n",
       "      <td>Benzin</td>\n",
       "      <td>5242.0</td>\n",
       "    </tr>\n",
       "    <tr>\n",
       "      <th>3</th>\n",
       "      <td>116</td>\n",
       "      <td>1</td>\n",
       "      <td>1</td>\n",
       "      <td>2015</td>\n",
       "      <td>12122988</td>\n",
       "      <td>Motorin</td>\n",
       "      <td>26162.0</td>\n",
       "    </tr>\n",
       "    <tr>\n",
       "      <th>4</th>\n",
       "      <td>116</td>\n",
       "      <td>1</td>\n",
       "      <td>1</td>\n",
       "      <td>2016</td>\n",
       "      <td>12122988</td>\n",
       "      <td>Benzin</td>\n",
       "      <td>3521.0</td>\n",
       "    </tr>\n",
       "  </tbody>\n",
       "</table>\n",
       "</div>"
      ],
      "text/plain": [
       "   City Code  week  month  year  Customer  Product   Litres\n",
       "0        116     1      1  2014  12122988   Benzin      0.0\n",
       "1        116     1      1  2014  12122988  Motorin      0.0\n",
       "2        116     1      1  2015  12122988   Benzin   5242.0\n",
       "3        116     1      1  2015  12122988  Motorin  26162.0\n",
       "4        116     1      1  2016  12122988   Benzin   3521.0"
      ]
     },
     "execution_count": 13,
     "metadata": {},
     "output_type": "execute_result"
    }
   ],
   "source": [
    "# citylerin haftalık litrelerinin toplamı ile date_list'i birleştiriyoruz\n",
    "\n",
    "df_train = df_train.groupby([\"City Code\", \"week\",\"month\",\"year\",\"Customer\",\"Product\"])[\"Litres\"].sum().reset_index()\n",
    "\n",
    "df_train.head()"
   ]
  },
  {
   "cell_type": "code",
   "execution_count": 14,
   "metadata": {},
   "outputs": [
    {
     "data": {
      "text/plain": [
       "(533021, 7)"
      ]
     },
     "execution_count": 14,
     "metadata": {},
     "output_type": "execute_result"
    }
   ],
   "source": [
    "df_train.shape"
   ]
  },
  {
   "cell_type": "code",
   "execution_count": 15,
   "metadata": {},
   "outputs": [
    {
     "data": {
      "text/html": [
       "<div>\n",
       "<style scoped>\n",
       "    .dataframe tbody tr th:only-of-type {\n",
       "        vertical-align: middle;\n",
       "    }\n",
       "\n",
       "    .dataframe tbody tr th {\n",
       "        vertical-align: top;\n",
       "    }\n",
       "\n",
       "    .dataframe thead th {\n",
       "        text-align: right;\n",
       "    }\n",
       "</style>\n",
       "<table border=\"1\" class=\"dataframe\">\n",
       "  <thead>\n",
       "    <tr style=\"text-align: right;\">\n",
       "      <th></th>\n",
       "      <th>City Code</th>\n",
       "      <th>week</th>\n",
       "      <th>month</th>\n",
       "      <th>year</th>\n",
       "      <th>Customer</th>\n",
       "      <th>Product</th>\n",
       "      <th>Litres</th>\n",
       "      <th>CRP_mean</th>\n",
       "      <th>CRP_std</th>\n",
       "      <th>CRP_max</th>\n",
       "      <th>CRP_min</th>\n",
       "    </tr>\n",
       "  </thead>\n",
       "  <tbody>\n",
       "    <tr>\n",
       "      <th>0</th>\n",
       "      <td>116</td>\n",
       "      <td>1</td>\n",
       "      <td>1</td>\n",
       "      <td>2014</td>\n",
       "      <td>12122988</td>\n",
       "      <td>Benzin</td>\n",
       "      <td>0.0</td>\n",
       "      <td>NaN</td>\n",
       "      <td>NaN</td>\n",
       "      <td>NaN</td>\n",
       "      <td>NaN</td>\n",
       "    </tr>\n",
       "    <tr>\n",
       "      <th>1</th>\n",
       "      <td>116</td>\n",
       "      <td>1</td>\n",
       "      <td>1</td>\n",
       "      <td>2014</td>\n",
       "      <td>12122988</td>\n",
       "      <td>Motorin</td>\n",
       "      <td>0.0</td>\n",
       "      <td>NaN</td>\n",
       "      <td>NaN</td>\n",
       "      <td>NaN</td>\n",
       "      <td>NaN</td>\n",
       "    </tr>\n",
       "    <tr>\n",
       "      <th>2</th>\n",
       "      <td>116</td>\n",
       "      <td>1</td>\n",
       "      <td>1</td>\n",
       "      <td>2015</td>\n",
       "      <td>12122988</td>\n",
       "      <td>Benzin</td>\n",
       "      <td>5242.0</td>\n",
       "      <td>NaN</td>\n",
       "      <td>NaN</td>\n",
       "      <td>NaN</td>\n",
       "      <td>NaN</td>\n",
       "    </tr>\n",
       "    <tr>\n",
       "      <th>3</th>\n",
       "      <td>116</td>\n",
       "      <td>1</td>\n",
       "      <td>1</td>\n",
       "      <td>2015</td>\n",
       "      <td>12122988</td>\n",
       "      <td>Motorin</td>\n",
       "      <td>26162.0</td>\n",
       "      <td>NaN</td>\n",
       "      <td>NaN</td>\n",
       "      <td>NaN</td>\n",
       "      <td>NaN</td>\n",
       "    </tr>\n",
       "    <tr>\n",
       "      <th>4</th>\n",
       "      <td>116</td>\n",
       "      <td>1</td>\n",
       "      <td>1</td>\n",
       "      <td>2016</td>\n",
       "      <td>12122988</td>\n",
       "      <td>Benzin</td>\n",
       "      <td>3521.0</td>\n",
       "      <td>NaN</td>\n",
       "      <td>NaN</td>\n",
       "      <td>NaN</td>\n",
       "      <td>NaN</td>\n",
       "    </tr>\n",
       "  </tbody>\n",
       "</table>\n",
       "</div>"
      ],
      "text/plain": [
       "   City Code  week  month  year  Customer  Product   Litres  CRP_mean  \\\n",
       "0        116     1      1  2014  12122988   Benzin      0.0       NaN   \n",
       "1        116     1      1  2014  12122988  Motorin      0.0       NaN   \n",
       "2        116     1      1  2015  12122988   Benzin   5242.0       NaN   \n",
       "3        116     1      1  2015  12122988  Motorin  26162.0       NaN   \n",
       "4        116     1      1  2016  12122988   Benzin   3521.0       NaN   \n",
       "\n",
       "   CRP_std  CRP_max  CRP_min  \n",
       "0      NaN      NaN      NaN  \n",
       "1      NaN      NaN      NaN  \n",
       "2      NaN      NaN      NaN  \n",
       "3      NaN      NaN      NaN  \n",
       "4      NaN      NaN      NaN  "
      ]
     },
     "execution_count": 15,
     "metadata": {},
     "output_type": "execute_result"
    }
   ],
   "source": [
    "# price ile df_train birleştiriyoruz\n",
    "df_train = pd.merge(df_train, price, on=[\"City Code\",\"year\",\"week\",\"Product\"],how=\"left\")\n",
    "df_test = pd.merge(df_test, price, on=[\"City Code\",\"year\",\"week\",\"Product\"],how=\"left\")\n",
    "df_train.head()"
   ]
  },
  {
   "cell_type": "code",
   "execution_count": 16,
   "metadata": {},
   "outputs": [
    {
     "data": {
      "text/plain": [
       "(533021, 11)"
      ]
     },
     "execution_count": 16,
     "metadata": {},
     "output_type": "execute_result"
    }
   ],
   "source": [
    "df_train.shape"
   ]
  },
  {
   "cell_type": "code",
   "execution_count": 17,
   "metadata": {},
   "outputs": [
    {
     "data": {
      "text/html": [
       "<div>\n",
       "<style scoped>\n",
       "    .dataframe tbody tr th:only-of-type {\n",
       "        vertical-align: middle;\n",
       "    }\n",
       "\n",
       "    .dataframe tbody tr th {\n",
       "        vertical-align: top;\n",
       "    }\n",
       "\n",
       "    .dataframe thead th {\n",
       "        text-align: right;\n",
       "    }\n",
       "</style>\n",
       "<table border=\"1\" class=\"dataframe\">\n",
       "  <thead>\n",
       "    <tr style=\"text-align: right;\">\n",
       "      <th></th>\n",
       "      <th>City Code</th>\n",
       "      <th>Area</th>\n",
       "    </tr>\n",
       "  </thead>\n",
       "  <tbody>\n",
       "    <tr>\n",
       "      <th>0</th>\n",
       "      <td>116</td>\n",
       "      <td>Doğu Anadolu Bölgesi</td>\n",
       "    </tr>\n",
       "    <tr>\n",
       "      <th>1</th>\n",
       "      <td>125</td>\n",
       "      <td>Karadeniz Bölgesi</td>\n",
       "    </tr>\n",
       "    <tr>\n",
       "      <th>2</th>\n",
       "      <td>126</td>\n",
       "      <td>Marmara Bölgesi</td>\n",
       "    </tr>\n",
       "    <tr>\n",
       "      <th>3</th>\n",
       "      <td>150</td>\n",
       "      <td>Güneydoğu Anadolu Bölgesi</td>\n",
       "    </tr>\n",
       "    <tr>\n",
       "      <th>4</th>\n",
       "      <td>172</td>\n",
       "      <td>Güneydoğu Anadolu Bölgesi</td>\n",
       "    </tr>\n",
       "  </tbody>\n",
       "</table>\n",
       "</div>"
      ],
      "text/plain": [
       "   City Code                       Area\n",
       "0        116       Doğu Anadolu Bölgesi\n",
       "1        125          Karadeniz Bölgesi\n",
       "2        126            Marmara Bölgesi\n",
       "3        150  Güneydoğu Anadolu Bölgesi\n",
       "4        172  Güneydoğu Anadolu Bölgesi"
      ]
     },
     "execution_count": 17,
     "metadata": {},
     "output_type": "execute_result"
    }
   ],
   "source": [
    "city_area = train.groupby([\"City Code\",\"Area\"])[\"Litres\"].sum().reset_index()\n",
    "city_area.drop(\"Litres\", axis=1, inplace=True)\n",
    "city_area.head()"
   ]
  },
  {
   "cell_type": "code",
   "execution_count": 18,
   "metadata": {},
   "outputs": [],
   "source": [
    "# df_train ile city_area area'ları birleştiriyoruz\n",
    "df_train = pd.merge(df_train, city_area, how='left', on=['City Code'])"
   ]
  },
  {
   "cell_type": "code",
   "execution_count": 19,
   "metadata": {},
   "outputs": [
    {
     "data": {
      "text/plain": [
       "((533021, 12), (108472, 13))"
      ]
     },
     "execution_count": 19,
     "metadata": {},
     "output_type": "execute_result"
    }
   ],
   "source": [
    "df_train.shape, df_test.shape"
   ]
  },
  {
   "cell_type": "code",
   "execution_count": 20,
   "metadata": {},
   "outputs": [
    {
     "data": {
      "text/html": [
       "<div>\n",
       "<style scoped>\n",
       "    .dataframe tbody tr th:only-of-type {\n",
       "        vertical-align: middle;\n",
       "    }\n",
       "\n",
       "    .dataframe tbody tr th {\n",
       "        vertical-align: top;\n",
       "    }\n",
       "\n",
       "    .dataframe thead th {\n",
       "        text-align: right;\n",
       "    }\n",
       "</style>\n",
       "<table border=\"1\" class=\"dataframe\">\n",
       "  <thead>\n",
       "    <tr style=\"text-align: right;\">\n",
       "      <th></th>\n",
       "      <th>City Code</th>\n",
       "      <th>week</th>\n",
       "      <th>month</th>\n",
       "      <th>year</th>\n",
       "      <th>Customer</th>\n",
       "      <th>Product</th>\n",
       "      <th>Litres</th>\n",
       "      <th>CRP_mean</th>\n",
       "      <th>CRP_std</th>\n",
       "      <th>CRP_max</th>\n",
       "      <th>CRP_min</th>\n",
       "      <th>Area</th>\n",
       "    </tr>\n",
       "  </thead>\n",
       "  <tbody>\n",
       "    <tr>\n",
       "      <th>0</th>\n",
       "      <td>116</td>\n",
       "      <td>1</td>\n",
       "      <td>1</td>\n",
       "      <td>2014</td>\n",
       "      <td>12122988</td>\n",
       "      <td>Benzin</td>\n",
       "      <td>0.0</td>\n",
       "      <td>NaN</td>\n",
       "      <td>NaN</td>\n",
       "      <td>NaN</td>\n",
       "      <td>NaN</td>\n",
       "      <td>Doğu Anadolu Bölgesi</td>\n",
       "    </tr>\n",
       "    <tr>\n",
       "      <th>1</th>\n",
       "      <td>116</td>\n",
       "      <td>1</td>\n",
       "      <td>1</td>\n",
       "      <td>2014</td>\n",
       "      <td>12122988</td>\n",
       "      <td>Motorin</td>\n",
       "      <td>0.0</td>\n",
       "      <td>NaN</td>\n",
       "      <td>NaN</td>\n",
       "      <td>NaN</td>\n",
       "      <td>NaN</td>\n",
       "      <td>Doğu Anadolu Bölgesi</td>\n",
       "    </tr>\n",
       "    <tr>\n",
       "      <th>2</th>\n",
       "      <td>116</td>\n",
       "      <td>1</td>\n",
       "      <td>1</td>\n",
       "      <td>2015</td>\n",
       "      <td>12122988</td>\n",
       "      <td>Benzin</td>\n",
       "      <td>5242.0</td>\n",
       "      <td>NaN</td>\n",
       "      <td>NaN</td>\n",
       "      <td>NaN</td>\n",
       "      <td>NaN</td>\n",
       "      <td>Doğu Anadolu Bölgesi</td>\n",
       "    </tr>\n",
       "    <tr>\n",
       "      <th>3</th>\n",
       "      <td>116</td>\n",
       "      <td>1</td>\n",
       "      <td>1</td>\n",
       "      <td>2015</td>\n",
       "      <td>12122988</td>\n",
       "      <td>Motorin</td>\n",
       "      <td>26162.0</td>\n",
       "      <td>NaN</td>\n",
       "      <td>NaN</td>\n",
       "      <td>NaN</td>\n",
       "      <td>NaN</td>\n",
       "      <td>Doğu Anadolu Bölgesi</td>\n",
       "    </tr>\n",
       "    <tr>\n",
       "      <th>4</th>\n",
       "      <td>116</td>\n",
       "      <td>1</td>\n",
       "      <td>1</td>\n",
       "      <td>2016</td>\n",
       "      <td>12122988</td>\n",
       "      <td>Benzin</td>\n",
       "      <td>3521.0</td>\n",
       "      <td>NaN</td>\n",
       "      <td>NaN</td>\n",
       "      <td>NaN</td>\n",
       "      <td>NaN</td>\n",
       "      <td>Doğu Anadolu Bölgesi</td>\n",
       "    </tr>\n",
       "  </tbody>\n",
       "</table>\n",
       "</div>"
      ],
      "text/plain": [
       "   City Code  week  month  year  Customer  Product   Litres  CRP_mean  \\\n",
       "0        116     1      1  2014  12122988   Benzin      0.0       NaN   \n",
       "1        116     1      1  2014  12122988  Motorin      0.0       NaN   \n",
       "2        116     1      1  2015  12122988   Benzin   5242.0       NaN   \n",
       "3        116     1      1  2015  12122988  Motorin  26162.0       NaN   \n",
       "4        116     1      1  2016  12122988   Benzin   3521.0       NaN   \n",
       "\n",
       "   CRP_std  CRP_max  CRP_min                  Area  \n",
       "0      NaN      NaN      NaN  Doğu Anadolu Bölgesi  \n",
       "1      NaN      NaN      NaN  Doğu Anadolu Bölgesi  \n",
       "2      NaN      NaN      NaN  Doğu Anadolu Bölgesi  \n",
       "3      NaN      NaN      NaN  Doğu Anadolu Bölgesi  \n",
       "4      NaN      NaN      NaN  Doğu Anadolu Bölgesi  "
      ]
     },
     "execution_count": 20,
     "metadata": {},
     "output_type": "execute_result"
    }
   ],
   "source": [
    "df_train.head()"
   ]
  },
  {
   "cell_type": "code",
   "execution_count": 21,
   "metadata": {},
   "outputs": [],
   "source": [
    "df_train = pd.merge(df_train, \n",
    "                tasit, how='left', left_on=['year',\"Area\"], right_on=['year',\"bölge\"])\n",
    "\n",
    "df_train.drop(\"bölge\", axis=1, inplace=True)\n",
    "                \n",
    "df_test = pd.merge(df_test, \n",
    "                tasit, how='left', left_on=['year',\"Area\"], right_on=['year',\"bölge\"])\n",
    "\n",
    "df_test.drop(\"bölge\", axis=1, inplace=True)"
   ]
  },
  {
   "cell_type": "code",
   "execution_count": 22,
   "metadata": {},
   "outputs": [
    {
     "data": {
      "text/plain": [
       "((533021, 17), (108472, 18))"
      ]
     },
     "execution_count": 22,
     "metadata": {},
     "output_type": "execute_result"
    }
   ],
   "source": [
    "df_train.shape, df_test.shape"
   ]
  },
  {
   "cell_type": "code",
   "execution_count": 23,
   "metadata": {},
   "outputs": [],
   "source": [
    "# tufe ile df_train ve df_test birleştirme\n",
    "df_train = pd.merge(df_train, tufe, how='left', left_on=['year',\"month\"], right_on=['year',\"month\"])\n",
    "df_train.drop(\"date\", axis=1, inplace=True)\n",
    "\n",
    "df_test = pd.merge(df_test, tufe, how='left', left_on=['year',\"month\"], right_on=['year',\"month\"])\n",
    "df_test.drop(\"date\", axis=1, inplace=True)"
   ]
  },
  {
   "cell_type": "code",
   "execution_count": 24,
   "metadata": {},
   "outputs": [
    {
     "data": {
      "text/plain": [
       "((533021, 19), (108472, 20))"
      ]
     },
     "execution_count": 24,
     "metadata": {},
     "output_type": "execute_result"
    }
   ],
   "source": [
    "df_train.shape, df_test.shape"
   ]
  },
  {
   "cell_type": "code",
   "execution_count": 25,
   "metadata": {},
   "outputs": [],
   "source": [
    "df_train  = pd.merge(df_train, usd, how='left', on=['year',\"week\"])\n",
    "df_test  = pd.merge(df_test, usd, how='left', on=['year',\"week\"])"
   ]
  },
  {
   "cell_type": "code",
   "execution_count": 26,
   "metadata": {},
   "outputs": [],
   "source": [
    "# brent ile df_train ve df_test birleştirme\n",
    "df_train = pd.merge(df_train, brent, how='left', on=['year',\"week\"])\n",
    "df_test = pd.merge(df_test, brent, how='left', on=['year',\"week\"])"
   ]
  },
  {
   "cell_type": "code",
   "execution_count": 27,
   "metadata": {},
   "outputs": [],
   "source": [
    "num_cols = [\"CRP_mean\",\"CRP_std\",\"CRP_max\",\"CRP_min\",\"otomobil\",\"minibus\",\"otobus\",\"kamyonet\",\"kamyon\",\"tufe yillik degisim orani\",\"tufe aylik degisim orani\",\n",
    "            \"USD_mean\",\"USD_std\",\"USD_max\",\"USD_min\",\"Brent_mean\",\"Brent_std\",\"Brent_max\",\"Brent_min\"]"
   ]
  },
  {
   "cell_type": "code",
   "execution_count": 28,
   "metadata": {},
   "outputs": [
    {
     "data": {
      "text/plain": [
       "City Code                       0\n",
       "week                            0\n",
       "month                           0\n",
       "year                            0\n",
       "Customer                        0\n",
       "Product                         0\n",
       "Litres                          0\n",
       "CRP_mean                     3010\n",
       "CRP_std                      3012\n",
       "CRP_max                      3010\n",
       "CRP_min                      3010\n",
       "Area                            0\n",
       "otomobil                        0\n",
       "minibus                         0\n",
       "otobus                          0\n",
       "kamyonet                        0\n",
       "kamyon                          0\n",
       "tufe yillik degisim orani       0\n",
       "tufe aylik degisim orani        0\n",
       "USD_mean                        0\n",
       "USD_std                         0\n",
       "USD_max                         0\n",
       "USD_min                         0\n",
       "Brent_mean                      0\n",
       "Brent_std                    1670\n",
       "Brent_max                       0\n",
       "Brent_min                       0\n",
       "dtype: int64"
      ]
     },
     "execution_count": 28,
     "metadata": {},
     "output_type": "execute_result"
    }
   ],
   "source": [
    "df_train.isna().sum()"
   ]
  },
  {
   "cell_type": "code",
   "execution_count": 29,
   "metadata": {},
   "outputs": [
    {
     "data": {
      "text/plain": [
       "index                          0\n",
       "Customer                       0\n",
       "Area                           0\n",
       "City Code                      0\n",
       "Product                        0\n",
       "Week Start Date                0\n",
       "year                           0\n",
       "month                          0\n",
       "week                           0\n",
       "CRP_mean                     104\n",
       "CRP_std                      104\n",
       "CRP_max                      104\n",
       "CRP_min                      104\n",
       "otomobil                       0\n",
       "minibus                        0\n",
       "otobus                         0\n",
       "kamyonet                       0\n",
       "kamyon                         0\n",
       "tufe yillik degisim orani      0\n",
       "tufe aylik degisim orani       0\n",
       "USD_mean                       0\n",
       "USD_std                        0\n",
       "USD_max                        0\n",
       "USD_min                        0\n",
       "Brent_mean                     0\n",
       "Brent_std                      0\n",
       "Brent_max                      0\n",
       "Brent_min                      0\n",
       "dtype: int64"
      ]
     },
     "execution_count": 29,
     "metadata": {},
     "output_type": "execute_result"
    }
   ],
   "source": [
    "df_test.isna().sum()"
   ]
  },
  {
   "cell_type": "code",
   "execution_count": 30,
   "metadata": {},
   "outputs": [],
   "source": [
    "train_mis_cols = [\"CRP_mean\",\"CRP_std\",\"CRP_max\",\"CRP_min\",\"Brent_std\"]\n",
    "test_mis_cols = [\"CRP_mean\",\"CRP_std\",\"CRP_max\",\"CRP_min\"]\n",
    "\n",
    "# city_code kırılımında eksik değerleri mean ile dolduruyoruz\n",
    "for col in train_mis_cols:\n",
    "    df_train[col] = df_train.groupby(\"City Code\")[col].transform(lambda x: x.fillna(x.mean()))\n",
    "\n",
    "for col in test_mis_cols:\n",
    "    df_test[col] = df_test.groupby(\"City Code\")[col].transform(lambda x: x.fillna(x.mean()))"
   ]
  },
  {
   "cell_type": "code",
   "execution_count": 31,
   "metadata": {},
   "outputs": [
    {
     "data": {
      "image/png": "[encoded data removed]",
      "text/plain": [
       "<Figure size 1200x1200 with 2 Axes>"
      ]
     },
     "metadata": {},
     "output_type": "display_data"
    }
   ],
   "source": [
    "# pearson correlation matrix\n",
    "num_cols.append(\"Litres\")\n",
    "cor = df_train[num_cols].corr(method=\"pearson\",).abs()\n",
    "upper = cor.where(np.triu(np.ones(cor.shape), k=1).astype(np.bool_))\n",
    "to_drop = [column for column in upper.columns if any(upper[column] > 0.85)]\n",
    "\n",
    "# heatmap\n",
    "plt.figure(figsize=(12,12))\n",
    "sns.heatmap(df_train[num_cols].corr(), annot=True, fmt=\".2f\")   \n",
    "plt.show()\n"
   ]
  },
  {
   "cell_type": "code",
   "execution_count": 32,
   "metadata": {},
   "outputs": [
    {
     "data": {
      "text/plain": [
       "['CRP_max',\n",
       " 'CRP_min',\n",
       " 'minibus',\n",
       " 'otobus',\n",
       " 'kamyonet',\n",
       " 'kamyon',\n",
       " 'USD_max',\n",
       " 'USD_min',\n",
       " 'Brent_max',\n",
       " 'Brent_min']"
      ]
     },
     "execution_count": 32,
     "metadata": {},
     "output_type": "execute_result"
    }
   ],
   "source": [
    "to_drop"
   ]
  },
  {
   "cell_type": "code",
   "execution_count": 33,
   "metadata": {},
   "outputs": [],
   "source": [
    "num_cols = [col for col in num_cols if col not in to_drop]\n",
    "\n",
    "cat_cols = [\"City Code\",\"Product\",\"Area\",\"week\"]\n",
    "\n",
    "useful_cols = num_cols + cat_cols\n",
    "\n",
    "# df_train_copy = df_train.copy()\n",
    "# df_test_copy = df_test.copy()\n",
    "\n",
    "df_train_copy = df_train[useful_cols]\n",
    "useful_cols.remove(\"Litres\")\n",
    "df_test_copy = df_test[useful_cols]\n",
    "\n",
    "# # frequency encoding\n",
    "# for col in cat_cols:\n",
    "#     df_train_copy[col] = df_train[col].map(df_train[col].value_counts())\n",
    "#     df_test_copy[col] = df_test[col].map(df_test[col].value_counts())"
   ]
  },
  {
   "cell_type": "code",
   "execution_count": 34,
   "metadata": {},
   "outputs": [],
   "source": [
    "group = df_train.Customer\n",
    "\n",
    "X = df_train_copy.drop(labels = [\"Litres\"], axis=1)\n",
    "y = df_train_copy[\"Litres\"]\n",
    "\n",
    "\n",
    "\n",
    "features = X.columns\n",
    "#df_test = df_test[features]\n",
    "\n",
    "for caterogical_col in cat_cols:\n",
    "    X[cat_cols] = X[cat_cols].astype(str).astype(\"category\")\n",
    "    df_test[cat_cols] = df_test[cat_cols].astype(str).astype(\"category\")"
   ]
  },
  {
   "cell_type": "code",
   "execution_count": 35,
   "metadata": {},
   "outputs": [],
   "source": [
    "gkf = GroupKFold(n_splits=10)"
   ]
  },
  {
   "cell_type": "code",
   "execution_count": 36,
   "metadata": {},
   "outputs": [],
   "source": [
    "# LGBM regressor optuna\n",
    "import gc\n",
    "from optuna.integration import LightGBMPruningCallback\n",
    "\n",
    "gc.collect()\n",
    "\n",
    "\n",
    "\n",
    "def objective_lgbm(trial):\n",
    "    param = {\n",
    "        \"objective\": \"regression\",\n",
    "        \"metric\": \"rmse\",\n",
    "        \"verbosity\": -1,\n",
    "        'seed':1,\n",
    "        \"boosting_type\": trial.suggest_categorical(\"boosting_type\", [\"gbdt\", \"gbrt\"]),\n",
    "        \"learning_rate\": trial.suggest_float(\"learning_rate\", 1e-3, 0.1, log=True),\n",
    "        \"num_leaves\": trial.suggest_int(\"num_leaves\", 2, 256),\n",
    "        \"max_depth\": trial.suggest_int(\"max_depth\", 5, 10),\n",
    "        \"min_child_samples\": trial.suggest_int(\"min_child_samples\", 0, 100),\n",
    "        \"max_bin\": trial.suggest_int(\"max_bin\", 10, 1000),\n",
    "        \"subsample\": trial.suggest_float(\"subsample\", 0.2, 1.0),\n",
    "        \"colsample_bytree\": trial.suggest_float(\"colsample_bytree\", 0.4, 1.0),\n",
    "        \"min_split_gain\": trial.suggest_float(\"min_split_gain\", 1e-8, 1.0, log=True),\n",
    "        \"feature_fraction\" : trial.suggest_float(\"feature_fraction\", 0.4, 1.0),\n",
    "    }\n",
    "    \n",
    "    score_rmsle_lgbm = []\n",
    "    for train_index, test_index in gkf.split(X, y, group):\n",
    "        X_train,X_val = X.iloc[train_index],X.iloc[test_index]\n",
    "        y_train,y_val = y.iloc[train_index],y.iloc[test_index]\n",
    "        \n",
    "        calback = LightGBMPruningCallback(trial, \"rmse\")\n",
    "        model = LGBMRegressor(**param)\n",
    "        model.fit(X_train, y_train, eval_set=[(X_val, y_val)],eval_metric=\"rmse\",\n",
    "                     early_stopping_rounds=100, verbose=100, \n",
    "                     callbacks=[calback],categorical_feature=cat_cols)\n",
    "\n",
    "        y_pred = model.predict(X_val)\n",
    "        y_pred = np.where(y_pred < 0, 0, y_pred)\n",
    "        score = np.sqrt(mean_squared_log_error(y_val, y_pred))\n",
    "        score_rmsle_lgbm.append(score)\n",
    "\n",
    "    return np.mean(score_rmsle_lgbm)"
   ]
  },
  {
   "cell_type": "code",
   "execution_count": 37,
   "metadata": {},
   "outputs": [],
   "source": [
    "# catboost optuna\n",
    "from optuna.integration import CatBoostPruningCallback\n",
    "\n",
    "def objective_cat(trial):\n",
    "    param = {\n",
    "        \"objective\": \"RMSE\",\n",
    "        \"eval_metric\": \"RMSE\",\n",
    "        \"boosting_type\": \"Plain\",\n",
    "        \"random_seed\": 1,\n",
    "        \"loss_function\":'RMSE',\n",
    "        \"allow_writing_files\":False,\n",
    "        \"random_seed\":42,\n",
    "        \"cat_features\":cat_cols,\n",
    "        \"depth\": trial.suggest_int(\"depth\", 3, 10, step=1),\n",
    "        \"subsample\": trial.suggest_float(\"subsample\", 0.5, 0.99),\n",
    "        'od_wait': trial.suggest_int('od_wait', 10, 50, step=1),\n",
    "        \"colsample_bylevel\": trial.suggest_float(\"colsample_bylevel\", 0.5, 0.99),\n",
    "        \"l2_leaf_reg\": trial.suggest_float(\"l2_leaf_reg\", 1.0, 50.0),\n",
    "        \"n_estimators\": trial.suggest_int(\"n_estimators\", 100, 2500, step=1),\n",
    "        'learning_rate': trial.suggest_loguniform(\"learning_rate\", 0.005, 0.1)\n",
    "    }\n",
    "    \n",
    "    score_rmsle_cat = []\n",
    "    for train_index, test_index in gkf.split(X, y,groups=group):\n",
    "        X_train,X_val = X.iloc[train_index],X.iloc[test_index]\n",
    "        y_train,y_val = y.iloc[train_index],y.iloc[test_index]\n",
    "        \n",
    "        \n",
    "        model = CatBoostRegressor(**param)\n",
    "        pruning_callback = CatBoostPruningCallback(trial, \"RMSE\")\n",
    "        model.fit(X_train, y_train, eval_set=[(X_val, y_val)],verbose=False,\n",
    "                            early_stopping_rounds=100,\n",
    "                            callbacks=[pruning_callback])\n",
    "\n",
    "        y_pred = model.predict(X_val)\n",
    "        y_pred = np.where(y_pred < 0, 0, y_pred)\n",
    "        score = np.sqrt(mean_squared_log_error(y_val, y_pred))\n",
    "        score_rmsle_cat.append(score)\n",
    "\n",
    "    return np.mean(score_rmsle_cat)"
   ]
  },
  {
   "cell_type": "code",
   "execution_count": 38,
   "metadata": {},
   "outputs": [
    {
     "name": "stderr",
     "output_type": "stream",
     "text": [
      "\u001b[32m[I 2023-01-06 02:36:56,195]\u001b[0m A new study created in memory with name: lgbm\u001b[0m\n"
     ]
    },
    {
     "name": "stdout",
     "output_type": "stream",
     "text": [
      "[LightGBM] [Warning] feature_fraction is set=0.841624884436728, colsample_bytree=0.8554363019923992 will be ignored. Current value: feature_fraction=0.841624884436728\n",
      "[100]\tvalid_0's rmse: 30260\n",
      "[LightGBM] [Warning] feature_fraction is set=0.841624884436728, colsample_bytree=0.8554363019923992 will be ignored. Current value: feature_fraction=0.841624884436728\n",
      "[100]\tvalid_0's rmse: 37889.5\n",
      "[LightGBM] [Warning] feature_fraction is set=0.841624884436728, colsample_bytree=0.8554363019923992 will be ignored. Current value: feature_fraction=0.841624884436728\n",
      "[100]\tvalid_0's rmse: 23427.7\n",
      "[LightGBM] [Warning] feature_fraction is set=0.841624884436728, colsample_bytree=0.8554363019923992 will be ignored. Current value: feature_fraction=0.841624884436728\n",
      "[100]\tvalid_0's rmse: 25840.1\n",
      "[LightGBM] [Warning] feature_fraction is set=0.841624884436728, colsample_bytree=0.8554363019923992 will be ignored. Current value: feature_fraction=0.841624884436728\n",
      "[100]\tvalid_0's rmse: 28601.6\n",
      "[LightGBM] [Warning] feature_fraction is set=0.841624884436728, colsample_bytree=0.8554363019923992 will be ignored. Current value: feature_fraction=0.841624884436728\n",
      "[100]\tvalid_0's rmse: 30431.3\n",
      "[LightGBM] [Warning] feature_fraction is set=0.841624884436728, colsample_bytree=0.8554363019923992 will be ignored. Current value: feature_fraction=0.841624884436728\n",
      "[100]\tvalid_0's rmse: 26346.4\n",
      "[LightGBM] [Warning] feature_fraction is set=0.841624884436728, colsample_bytree=0.8554363019923992 will be ignored. Current value: feature_fraction=0.841624884436728\n",
      "[100]\tvalid_0's rmse: 34311.4\n",
      "[LightGBM] [Warning] feature_fraction is set=0.841624884436728, colsample_bytree=0.8554363019923992 will be ignored. Current value: feature_fraction=0.841624884436728\n",
      "[100]\tvalid_0's rmse: 29341.6\n",
      "[LightGBM] [Warning] feature_fraction is set=0.841624884436728, colsample_bytree=0.8554363019923992 will be ignored. Current value: feature_fraction=0.841624884436728\n"
     ]
    },
    {
     "name": "stderr",
     "output_type": "stream",
     "text": [
      "\u001b[32m[I 2023-01-06 02:37:23,938]\u001b[0m Trial 0 finished with value: 1.9103042058095372 and parameters: {'boosting_type': 'gbdt', 'learning_rate': 0.01351603199710553, 'num_leaves': 255, 'max_depth': 6, 'min_child_samples': 12, 'max_bin': 320, 'subsample': 0.8151996129450745, 'colsample_bytree': 0.8554363019923992, 'min_split_gain': 5.0895836882085115e-05, 'feature_fraction': 0.841624884436728}. Best is trial 0 with value: 1.9103042058095372.\u001b[0m\n"
     ]
    },
    {
     "name": "stdout",
     "output_type": "stream",
     "text": [
      "[100]\tvalid_0's rmse: 30292.6\n",
      "[LightGBM] [Warning] feature_fraction is set=0.5005619513059137, colsample_bytree=0.6806588429452268 will be ignored. Current value: feature_fraction=0.5005619513059137\n",
      "[100]\tvalid_0's rmse: 28716.2\n",
      "[LightGBM] [Warning] feature_fraction is set=0.5005619513059137, colsample_bytree=0.6806588429452268 will be ignored. Current value: feature_fraction=0.5005619513059137\n",
      "[100]\tvalid_0's rmse: 35638.2\n",
      "[LightGBM] [Warning] feature_fraction is set=0.5005619513059137, colsample_bytree=0.6806588429452268 will be ignored. Current value: feature_fraction=0.5005619513059137\n",
      "[100]\tvalid_0's rmse: 21972.4\n",
      "[LightGBM] [Warning] feature_fraction is set=0.5005619513059137, colsample_bytree=0.6806588429452268 will be ignored. Current value: feature_fraction=0.5005619513059137\n",
      "[100]\tvalid_0's rmse: 23948.6\n",
      "[LightGBM] [Warning] feature_fraction is set=0.5005619513059137, colsample_bytree=0.6806588429452268 will be ignored. Current value: feature_fraction=0.5005619513059137\n",
      "[100]\tvalid_0's rmse: 27144.1\n",
      "[LightGBM] [Warning] feature_fraction is set=0.5005619513059137, colsample_bytree=0.6806588429452268 will be ignored. Current value: feature_fraction=0.5005619513059137\n",
      "[100]\tvalid_0's rmse: 28772.9\n",
      "[LightGBM] [Warning] feature_fraction is set=0.5005619513059137, colsample_bytree=0.6806588429452268 will be ignored. Current value: feature_fraction=0.5005619513059137\n",
      "[100]\tvalid_0's rmse: 25825.5\n",
      "[LightGBM] [Warning] feature_fraction is set=0.5005619513059137, colsample_bytree=0.6806588429452268 will be ignored. Current value: feature_fraction=0.5005619513059137\n",
      "[100]\tvalid_0's rmse: 32604.7\n",
      "[LightGBM] [Warning] feature_fraction is set=0.5005619513059137, colsample_bytree=0.6806588429452268 will be ignored. Current value: feature_fraction=0.5005619513059137\n",
      "[100]\tvalid_0's rmse: 27573.7\n",
      "[LightGBM] [Warning] feature_fraction is set=0.5005619513059137, colsample_bytree=0.6806588429452268 will be ignored. Current value: feature_fraction=0.5005619513059137\n",
      "[100]\tvalid_0's rmse: 28735.6\n"
     ]
    },
    {
     "name": "stderr",
     "output_type": "stream",
     "text": [
      "\u001b[32m[I 2023-01-06 02:37:58,008]\u001b[0m Trial 1 finished with value: 1.806930116450983 and parameters: {'boosting_type': 'gbrt', 'learning_rate': 0.032295767827535994, 'num_leaves': 165, 'max_depth': 9, 'min_child_samples': 43, 'max_bin': 549, 'subsample': 0.672295961436707, 'colsample_bytree': 0.6806588429452268, 'min_split_gain': 1.4869169878466528e-06, 'feature_fraction': 0.5005619513059137}. Best is trial 1 with value: 1.806930116450983.\u001b[0m\n"
     ]
    },
    {
     "name": "stdout",
     "output_type": "stream",
     "text": [
      "[LightGBM] [Warning] feature_fraction is set=0.5445944823799505, colsample_bytree=0.5370166713725536 will be ignored. Current value: feature_fraction=0.5445944823799505\n",
      "[100]\tvalid_0's rmse: 28832\n",
      "[LightGBM] [Warning] feature_fraction is set=0.5445944823799505, colsample_bytree=0.5370166713725536 will be ignored. Current value: feature_fraction=0.5445944823799505\n",
      "[100]\tvalid_0's rmse: 35156.5\n",
      "[LightGBM] [Warning] feature_fraction is set=0.5445944823799505, colsample_bytree=0.5370166713725536 will be ignored. Current value: feature_fraction=0.5445944823799505\n",
      "[100]\tvalid_0's rmse: 22039.5\n",
      "[LightGBM] [Warning] feature_fraction is set=0.5445944823799505, colsample_bytree=0.5370166713725536 will be ignored. Current value: feature_fraction=0.5445944823799505\n",
      "[100]\tvalid_0's rmse: 24066.3\n",
      "[LightGBM] [Warning] feature_fraction is set=0.5445944823799505, colsample_bytree=0.5370166713725536 will be ignored. Current value: feature_fraction=0.5445944823799505\n",
      "[100]\tvalid_0's rmse: 27069.8\n",
      "[LightGBM] [Warning] feature_fraction is set=0.5445944823799505, colsample_bytree=0.5370166713725536 will be ignored. Current value: feature_fraction=0.5445944823799505\n",
      "[100]\tvalid_0's rmse: 28590.5\n",
      "[LightGBM] [Warning] feature_fraction is set=0.5445944823799505, colsample_bytree=0.5370166713725536 will be ignored. Current value: feature_fraction=0.5445944823799505\n",
      "[100]\tvalid_0's rmse: 26500.9\n",
      "[LightGBM] [Warning] feature_fraction is set=0.5445944823799505, colsample_bytree=0.5370166713725536 will be ignored. Current value: feature_fraction=0.5445944823799505\n",
      "[100]\tvalid_0's rmse: 32408.6\n",
      "[LightGBM] [Warning] feature_fraction is set=0.5445944823799505, colsample_bytree=0.5370166713725536 will be ignored. Current value: feature_fraction=0.5445944823799505\n",
      "[100]\tvalid_0's rmse: 27334.6\n",
      "[LightGBM] [Warning] feature_fraction is set=0.5445944823799505, colsample_bytree=0.5370166713725536 will be ignored. Current value: feature_fraction=0.5445944823799505\n"
     ]
    },
    {
     "name": "stderr",
     "output_type": "stream",
     "text": [
      "\u001b[32m[I 2023-01-06 02:38:23,899]\u001b[0m Trial 2 finished with value: 1.7666345849985887 and parameters: {'boosting_type': 'gbrt', 'learning_rate': 0.08741113175334882, 'num_leaves': 178, 'max_depth': 6, 'min_child_samples': 32, 'max_bin': 979, 'subsample': 0.2029296484554166, 'colsample_bytree': 0.5370166713725536, 'min_split_gain': 3.949684178379657e-05, 'feature_fraction': 0.5445944823799505}. Best is trial 2 with value: 1.7666345849985887.\u001b[0m\n"
     ]
    },
    {
     "name": "stdout",
     "output_type": "stream",
     "text": [
      "[100]\tvalid_0's rmse: 28972.2\n",
      "[LightGBM] [Warning] feature_fraction is set=0.9139657145714318, colsample_bytree=0.4604558046504786 will be ignored. Current value: feature_fraction=0.9139657145714318\n",
      "[100]\tvalid_0's rmse: 36836.7\n",
      "[LightGBM] [Warning] feature_fraction is set=0.9139657145714318, colsample_bytree=0.4604558046504786 will be ignored. Current value: feature_fraction=0.9139657145714318\n",
      "[100]\tvalid_0's rmse: 45708.6\n",
      "[LightGBM] [Warning] feature_fraction is set=0.9139657145714318, colsample_bytree=0.4604558046504786 will be ignored. Current value: feature_fraction=0.9139657145714318\n",
      "[100]\tvalid_0's rmse: 31130.7\n",
      "[LightGBM] [Warning] feature_fraction is set=0.9139657145714318, colsample_bytree=0.4604558046504786 will be ignored. Current value: feature_fraction=0.9139657145714318\n",
      "[100]\tvalid_0's rmse: 33504.7\n",
      "[LightGBM] [Warning] feature_fraction is set=0.9139657145714318, colsample_bytree=0.4604558046504786 will be ignored. Current value: feature_fraction=0.9139657145714318\n",
      "[100]\tvalid_0's rmse: 35093.5\n",
      "[LightGBM] [Warning] feature_fraction is set=0.9139657145714318, colsample_bytree=0.4604558046504786 will be ignored. Current value: feature_fraction=0.9139657145714318\n",
      "[100]\tvalid_0's rmse: 37307.5\n",
      "[LightGBM] [Warning] feature_fraction is set=0.9139657145714318, colsample_bytree=0.4604558046504786 will be ignored. Current value: feature_fraction=0.9139657145714318\n",
      "[100]\tvalid_0's rmse: 32017.1\n",
      "[LightGBM] [Warning] feature_fraction is set=0.9139657145714318, colsample_bytree=0.4604558046504786 will be ignored. Current value: feature_fraction=0.9139657145714318\n",
      "[100]\tvalid_0's rmse: 40785.8\n",
      "[LightGBM] [Warning] feature_fraction is set=0.9139657145714318, colsample_bytree=0.4604558046504786 will be ignored. Current value: feature_fraction=0.9139657145714318\n",
      "[100]\tvalid_0's rmse: 36992.3\n",
      "[LightGBM] [Warning] feature_fraction is set=0.9139657145714318, colsample_bytree=0.4604558046504786 will be ignored. Current value: feature_fraction=0.9139657145714318\n",
      "[100]\tvalid_0's rmse: 37476\n"
     ]
    },
    {
     "name": "stderr",
     "output_type": "stream",
     "text": [
      "\u001b[32m[I 2023-01-06 02:39:05,377]\u001b[0m Trial 3 finished with value: 2.091448439824837 and parameters: {'boosting_type': 'gbdt', 'learning_rate': 0.0018737411812031807, 'num_leaves': 214, 'max_depth': 9, 'min_child_samples': 20, 'max_bin': 727, 'subsample': 0.9520977447366901, 'colsample_bytree': 0.4604558046504786, 'min_split_gain': 0.4164170659726444, 'feature_fraction': 0.9139657145714318}. Best is trial 2 with value: 1.7666345849985887.\u001b[0m\n"
     ]
    },
    {
     "name": "stdout",
     "output_type": "stream",
     "text": [
      "[LightGBM] [Warning] feature_fraction is set=0.4419504083612916, colsample_bytree=0.6808641285320051 will be ignored. Current value: feature_fraction=0.4419504083612916\n",
      "[100]\tvalid_0's rmse: 28724\n",
      "[LightGBM] [Warning] feature_fraction is set=0.4419504083612916, colsample_bytree=0.6808641285320051 will be ignored. Current value: feature_fraction=0.4419504083612916\n",
      "[100]\tvalid_0's rmse: 35237.8\n",
      "[LightGBM] [Warning] feature_fraction is set=0.4419504083612916, colsample_bytree=0.6808641285320051 will be ignored. Current value: feature_fraction=0.4419504083612916\n",
      "[100]\tvalid_0's rmse: 21987\n",
      "[LightGBM] [Warning] feature_fraction is set=0.4419504083612916, colsample_bytree=0.6808641285320051 will be ignored. Current value: feature_fraction=0.4419504083612916\n",
      "[100]\tvalid_0's rmse: 23947.3\n",
      "[LightGBM] [Warning] feature_fraction is set=0.4419504083612916, colsample_bytree=0.6808641285320051 will be ignored. Current value: feature_fraction=0.4419504083612916\n",
      "[100]\tvalid_0's rmse: 27061.5\n",
      "[LightGBM] [Warning] feature_fraction is set=0.4419504083612916, colsample_bytree=0.6808641285320051 will be ignored. Current value: feature_fraction=0.4419504083612916\n",
      "[100]\tvalid_0's rmse: 28622.4\n",
      "[LightGBM] [Warning] feature_fraction is set=0.4419504083612916, colsample_bytree=0.6808641285320051 will be ignored. Current value: feature_fraction=0.4419504083612916\n",
      "[100]\tvalid_0's rmse: 26279.6\n",
      "[LightGBM] [Warning] feature_fraction is set=0.4419504083612916, colsample_bytree=0.6808641285320051 will be ignored. Current value: feature_fraction=0.4419504083612916\n",
      "[100]\tvalid_0's rmse: 32431.5\n",
      "[LightGBM] [Warning] feature_fraction is set=0.4419504083612916, colsample_bytree=0.6808641285320051 will be ignored. Current value: feature_fraction=0.4419504083612916\n",
      "[100]\tvalid_0's rmse: 27383.7\n",
      "[LightGBM] [Warning] feature_fraction is set=0.4419504083612916, colsample_bytree=0.6808641285320051 will be ignored. Current value: feature_fraction=0.4419504083612916\n",
      "[100]\tvalid_0's rmse: 28817\n"
     ]
    },
    {
     "name": "stderr",
     "output_type": "stream",
     "text": [
      "\u001b[32m[I 2023-01-06 02:39:32,633]\u001b[0m Trial 4 finished with value: 1.765896619017051 and parameters: {'boosting_type': 'gbdt', 'learning_rate': 0.06530180415093934, 'num_leaves': 87, 'max_depth': 7, 'min_child_samples': 32, 'max_bin': 260, 'subsample': 0.44468637872433486, 'colsample_bytree': 0.6808641285320051, 'min_split_gain': 0.011172557522576145, 'feature_fraction': 0.4419504083612916}. Best is trial 4 with value: 1.765896619017051.\u001b[0m\n"
     ]
    },
    {
     "name": "stdout",
     "output_type": "stream",
     "text": [
      "[LightGBM] [Warning] feature_fraction is set=0.5896030932043355, colsample_bytree=0.5961280953427498 will be ignored. Current value: feature_fraction=0.5896030932043355\n",
      "[100]\tvalid_0's rmse: 33255.5\n",
      "[LightGBM] [Warning] feature_fraction is set=0.5896030932043355, colsample_bytree=0.5961280953427498 will be ignored. Current value: feature_fraction=0.5896030932043355\n",
      "[100]\tvalid_0's rmse: 41859.8\n",
      "[LightGBM] [Warning] feature_fraction is set=0.5896030932043355, colsample_bytree=0.5961280953427498 will be ignored. Current value: feature_fraction=0.5896030932043355\n",
      "[100]\tvalid_0's rmse: 27070.8\n",
      "[LightGBM] [Warning] feature_fraction is set=0.5896030932043355, colsample_bytree=0.5961280953427498 will be ignored. Current value: feature_fraction=0.5896030932043355\n",
      "[100]\tvalid_0's rmse: 29466\n",
      "[LightGBM] [Warning] feature_fraction is set=0.5896030932043355, colsample_bytree=0.5961280953427498 will be ignored. Current value: feature_fraction=0.5896030932043355\n",
      "[100]\tvalid_0's rmse: 31646.3\n",
      "[LightGBM] [Warning] feature_fraction is set=0.5896030932043355, colsample_bytree=0.5961280953427498 will be ignored. Current value: feature_fraction=0.5896030932043355\n",
      "[100]\tvalid_0's rmse: 33785.4\n",
      "[LightGBM] [Warning] feature_fraction is set=0.5896030932043355, colsample_bytree=0.5961280953427498 will be ignored. Current value: feature_fraction=0.5896030932043355\n",
      "[100]\tvalid_0's rmse: 28622.2\n",
      "[LightGBM] [Warning] feature_fraction is set=0.5896030932043355, colsample_bytree=0.5961280953427498 will be ignored. Current value: feature_fraction=0.5896030932043355\n",
      "[100]\tvalid_0's rmse: 37428.6\n",
      "[LightGBM] [Warning] feature_fraction is set=0.5896030932043355, colsample_bytree=0.5961280953427498 will be ignored. Current value: feature_fraction=0.5896030932043355\n",
      "[100]\tvalid_0's rmse: 33130.4\n",
      "[LightGBM] [Warning] feature_fraction is set=0.5896030932043355, colsample_bytree=0.5961280953427498 will be ignored. Current value: feature_fraction=0.5896030932043355\n"
     ]
    },
    {
     "name": "stderr",
     "output_type": "stream",
     "text": [
      "\u001b[32m[I 2023-01-06 02:40:02,043]\u001b[0m Trial 5 finished with value: 2.0121866762622522 and parameters: {'boosting_type': 'gbrt', 'learning_rate': 0.006756543726958698, 'num_leaves': 216, 'max_depth': 6, 'min_child_samples': 90, 'max_bin': 574, 'subsample': 0.3328741110747717, 'colsample_bytree': 0.5961280953427498, 'min_split_gain': 1.1906716645017715e-05, 'feature_fraction': 0.5896030932043355}. Best is trial 4 with value: 1.765896619017051.\u001b[0m\n"
     ]
    },
    {
     "name": "stdout",
     "output_type": "stream",
     "text": [
      "[100]\tvalid_0's rmse: 33592.3\n",
      "[LightGBM] [Warning] feature_fraction is set=0.9075766730851048, colsample_bytree=0.4245300737314011 will be ignored. Current value: feature_fraction=0.9075766730851048\n",
      "[100]\tvalid_0's rmse: 37563\n",
      "[LightGBM] [Warning] feature_fraction is set=0.9075766730851048, colsample_bytree=0.4245300737314011 will be ignored. Current value: feature_fraction=0.9075766730851048\n",
      "[100]\tvalid_0's rmse: 46464\n",
      "[LightGBM] [Warning] feature_fraction is set=0.9075766730851048, colsample_bytree=0.4245300737314011 will be ignored. Current value: feature_fraction=0.9075766730851048\n",
      "[100]\tvalid_0's rmse: 31971.9\n",
      "[LightGBM] [Warning] feature_fraction is set=0.9075766730851048, colsample_bytree=0.4245300737314011 will be ignored. Current value: feature_fraction=0.9075766730851048\n",
      "[100]\tvalid_0's rmse: 34299.5\n",
      "[LightGBM] [Warning] feature_fraction is set=0.9075766730851048, colsample_bytree=0.4245300737314011 will be ignored. Current value: feature_fraction=0.9075766730851048\n",
      "[100]\tvalid_0's rmse: 35796.5\n",
      "[LightGBM] [Warning] feature_fraction is set=0.9075766730851048, colsample_bytree=0.4245300737314011 will be ignored. Current value: feature_fraction=0.9075766730851048\n",
      "[100]\tvalid_0's rmse: 38023.7\n",
      "[LightGBM] [Warning] feature_fraction is set=0.9075766730851048, colsample_bytree=0.4245300737314011 will be ignored. Current value: feature_fraction=0.9075766730851048\n",
      "[100]\tvalid_0's rmse: 32745.9\n",
      "[LightGBM] [Warning] feature_fraction is set=0.9075766730851048, colsample_bytree=0.4245300737314011 will be ignored. Current value: feature_fraction=0.9075766730851048\n",
      "[100]\tvalid_0's rmse: 41456.7\n",
      "[LightGBM] [Warning] feature_fraction is set=0.9075766730851048, colsample_bytree=0.4245300737314011 will be ignored. Current value: feature_fraction=0.9075766730851048\n",
      "[100]\tvalid_0's rmse: 37791.8\n",
      "[LightGBM] [Warning] feature_fraction is set=0.9075766730851048, colsample_bytree=0.4245300737314011 will be ignored. Current value: feature_fraction=0.9075766730851048\n",
      "[100]\tvalid_0's rmse: 38262.1\n"
     ]
    },
    {
     "name": "stderr",
     "output_type": "stream",
     "text": [
      "\u001b[32m[I 2023-01-06 02:40:37,909]\u001b[0m Trial 6 finished with value: 2.1051162644118095 and parameters: {'boosting_type': 'gbdt', 'learning_rate': 0.0013955739514460491, 'num_leaves': 126, 'max_depth': 10, 'min_child_samples': 34, 'max_bin': 542, 'subsample': 0.3782528611574594, 'colsample_bytree': 0.4245300737314011, 'min_split_gain': 1.8953213064089086e-07, 'feature_fraction': 0.9075766730851048}. Best is trial 4 with value: 1.765896619017051.\u001b[0m\n"
     ]
    },
    {
     "name": "stdout",
     "output_type": "stream",
     "text": [
      "[LightGBM] [Warning] feature_fraction is set=0.8156174663073892, colsample_bytree=0.737610064345779 will be ignored. Current value: feature_fraction=0.8156174663073892\n",
      "[100]\tvalid_0's rmse: 28759.5\n",
      "[LightGBM] [Warning] feature_fraction is set=0.8156174663073892, colsample_bytree=0.737610064345779 will be ignored. Current value: feature_fraction=0.8156174663073892\n",
      "[100]\tvalid_0's rmse: 35008.2\n",
      "[LightGBM] [Warning] feature_fraction is set=0.8156174663073892, colsample_bytree=0.737610064345779 will be ignored. Current value: feature_fraction=0.8156174663073892\n",
      "[100]\tvalid_0's rmse: 21979.6\n",
      "[LightGBM] [Warning] feature_fraction is set=0.8156174663073892, colsample_bytree=0.737610064345779 will be ignored. Current value: feature_fraction=0.8156174663073892\n",
      "[100]\tvalid_0's rmse: 23996.2\n",
      "[LightGBM] [Warning] feature_fraction is set=0.8156174663073892, colsample_bytree=0.737610064345779 will be ignored. Current value: feature_fraction=0.8156174663073892\n",
      "[100]\tvalid_0's rmse: 26964.6\n",
      "[LightGBM] [Warning] feature_fraction is set=0.8156174663073892, colsample_bytree=0.737610064345779 will be ignored. Current value: feature_fraction=0.8156174663073892\n",
      "[100]\tvalid_0's rmse: 28476.2\n",
      "[LightGBM] [Warning] feature_fraction is set=0.8156174663073892, colsample_bytree=0.737610064345779 will be ignored. Current value: feature_fraction=0.8156174663073892\n",
      "[100]\tvalid_0's rmse: 26598.5\n",
      "[LightGBM] [Warning] feature_fraction is set=0.8156174663073892, colsample_bytree=0.737610064345779 will be ignored. Current value: feature_fraction=0.8156174663073892\n",
      "[100]\tvalid_0's rmse: 32284.3\n",
      "[LightGBM] [Warning] feature_fraction is set=0.8156174663073892, colsample_bytree=0.737610064345779 will be ignored. Current value: feature_fraction=0.8156174663073892\n",
      "[100]\tvalid_0's rmse: 27176.9\n",
      "[LightGBM] [Warning] feature_fraction is set=0.8156174663073892, colsample_bytree=0.737610064345779 will be ignored. Current value: feature_fraction=0.8156174663073892\n"
     ]
    },
    {
     "name": "stderr",
     "output_type": "stream",
     "text": [
      "\u001b[32m[I 2023-01-06 02:41:03,153]\u001b[0m Trial 7 finished with value: 1.7499285363056003 and parameters: {'boosting_type': 'gbdt', 'learning_rate': 0.09572033093761348, 'num_leaves': 245, 'max_depth': 6, 'min_child_samples': 18, 'max_bin': 904, 'subsample': 0.5823750662467262, 'colsample_bytree': 0.737610064345779, 'min_split_gain': 0.8871900182670762, 'feature_fraction': 0.8156174663073892}. Best is trial 7 with value: 1.7499285363056003.\u001b[0m\n"
     ]
    },
    {
     "name": "stdout",
     "output_type": "stream",
     "text": [
      "[100]\tvalid_0's rmse: 28957.6\n",
      "[LightGBM] [Warning] feature_fraction is set=0.8932002217052972, colsample_bytree=0.56888749216191 will be ignored. Current value: feature_fraction=0.8932002217052972\n",
      "[100]\tvalid_0's rmse: 37320.2\n",
      "[LightGBM] [Warning] feature_fraction is set=0.8932002217052972, colsample_bytree=0.56888749216191 will be ignored. Current value: feature_fraction=0.8932002217052972\n",
      "[100]\tvalid_0's rmse: 46218.1\n",
      "[LightGBM] [Warning] feature_fraction is set=0.8932002217052972, colsample_bytree=0.56888749216191 will be ignored. Current value: feature_fraction=0.8932002217052972\n",
      "[100]\tvalid_0's rmse: 31697.7\n",
      "[LightGBM] [Warning] feature_fraction is set=0.8932002217052972, colsample_bytree=0.56888749216191 will be ignored. Current value: feature_fraction=0.8932002217052972\n",
      "[100]\tvalid_0's rmse: 34045\n",
      "[LightGBM] [Warning] feature_fraction is set=0.8932002217052972, colsample_bytree=0.56888749216191 will be ignored. Current value: feature_fraction=0.8932002217052972\n",
      "[100]\tvalid_0's rmse: 35568.2\n",
      "[LightGBM] [Warning] feature_fraction is set=0.8932002217052972, colsample_bytree=0.56888749216191 will be ignored. Current value: feature_fraction=0.8932002217052972\n",
      "[100]\tvalid_0's rmse: 37793.7\n",
      "[LightGBM] [Warning] feature_fraction is set=0.8932002217052972, colsample_bytree=0.56888749216191 will be ignored. Current value: feature_fraction=0.8932002217052972\n",
      "[100]\tvalid_0's rmse: 32508.3\n",
      "[LightGBM] [Warning] feature_fraction is set=0.8932002217052972, colsample_bytree=0.56888749216191 will be ignored. Current value: feature_fraction=0.8932002217052972\n",
      "[100]\tvalid_0's rmse: 41239.1\n",
      "[LightGBM] [Warning] feature_fraction is set=0.8932002217052972, colsample_bytree=0.56888749216191 will be ignored. Current value: feature_fraction=0.8932002217052972\n",
      "[100]\tvalid_0's rmse: 37529.2\n",
      "[LightGBM] [Warning] feature_fraction is set=0.8932002217052972, colsample_bytree=0.56888749216191 will be ignored. Current value: feature_fraction=0.8932002217052972\n",
      "[100]\tvalid_0's rmse: 38007.6\n"
     ]
    },
    {
     "name": "stderr",
     "output_type": "stream",
     "text": [
      "\u001b[32m[I 2023-01-06 02:41:43,949]\u001b[0m Trial 8 finished with value: 2.1004786763238683 and parameters: {'boosting_type': 'gbdt', 'learning_rate': 0.0015464932849347658, 'num_leaves': 178, 'max_depth': 9, 'min_child_samples': 14, 'max_bin': 886, 'subsample': 0.35443896650984685, 'colsample_bytree': 0.56888749216191, 'min_split_gain': 7.102993814095063e-08, 'feature_fraction': 0.8932002217052972}. Best is trial 7 with value: 1.7499285363056003.\u001b[0m\n"
     ]
    },
    {
     "name": "stdout",
     "output_type": "stream",
     "text": [
      "[LightGBM] [Warning] feature_fraction is set=0.7652427315464372, colsample_bytree=0.6058058826441705 will be ignored. Current value: feature_fraction=0.7652427315464372\n",
      "[100]\tvalid_0's rmse: 37939.7\n",
      "[LightGBM] [Warning] feature_fraction is set=0.7652427315464372, colsample_bytree=0.6058058826441705 will be ignored. Current value: feature_fraction=0.7652427315464372\n",
      "[100]\tvalid_0's rmse: 46861.2\n",
      "[LightGBM] [Warning] feature_fraction is set=0.7652427315464372, colsample_bytree=0.6058058826441705 will be ignored. Current value: feature_fraction=0.7652427315464372\n",
      "[100]\tvalid_0's rmse: 32438.3\n",
      "[LightGBM] [Warning] feature_fraction is set=0.7652427315464372, colsample_bytree=0.6058058826441705 will be ignored. Current value: feature_fraction=0.7652427315464372\n",
      "[100]\tvalid_0's rmse: 34737\n",
      "[LightGBM] [Warning] feature_fraction is set=0.7652427315464372, colsample_bytree=0.6058058826441705 will be ignored. Current value: feature_fraction=0.7652427315464372\n",
      "[100]\tvalid_0's rmse: 36179.3\n",
      "[LightGBM] [Warning] feature_fraction is set=0.7652427315464372, colsample_bytree=0.6058058826441705 will be ignored. Current value: feature_fraction=0.7652427315464372\n",
      "[100]\tvalid_0's rmse: 38431.7\n",
      "[LightGBM] [Warning] feature_fraction is set=0.7652427315464372, colsample_bytree=0.6058058826441705 will be ignored. Current value: feature_fraction=0.7652427315464372\n",
      "[100]\tvalid_0's rmse: 33148.7\n",
      "[LightGBM] [Warning] feature_fraction is set=0.7652427315464372, colsample_bytree=0.6058058826441705 will be ignored. Current value: feature_fraction=0.7652427315464372\n",
      "[100]\tvalid_0's rmse: 41825.7\n",
      "[LightGBM] [Warning] feature_fraction is set=0.7652427315464372, colsample_bytree=0.6058058826441705 will be ignored. Current value: feature_fraction=0.7652427315464372\n",
      "[100]\tvalid_0's rmse: 38238.4\n",
      "[LightGBM] [Warning] feature_fraction is set=0.7652427315464372, colsample_bytree=0.6058058826441705 will be ignored. Current value: feature_fraction=0.7652427315464372\n"
     ]
    },
    {
     "name": "stderr",
     "output_type": "stream",
     "text": [
      "\u001b[32m[I 2023-01-06 02:42:09,967]\u001b[0m Trial 9 finished with value: 2.1122299102327156 and parameters: {'boosting_type': 'gbrt', 'learning_rate': 0.0012735102270837715, 'num_leaves': 36, 'max_depth': 8, 'min_child_samples': 0, 'max_bin': 993, 'subsample': 0.24171950443438447, 'colsample_bytree': 0.6058058826441705, 'min_split_gain': 7.901989193399881e-07, 'feature_fraction': 0.7652427315464372}. Best is trial 7 with value: 1.7499285363056003.\u001b[0m\n"
     ]
    },
    {
     "name": "stdout",
     "output_type": "stream",
     "text": [
      "[100]\tvalid_0's rmse: 38693.8\n",
      "[LightGBM] [Warning] feature_fraction is set=0.7001253392162072, colsample_bytree=0.873525354564268 will be ignored. Current value: feature_fraction=0.7001253392162072\n",
      "[100]\tvalid_0's rmse: 30174.4\n",
      "[LightGBM] [Warning] feature_fraction is set=0.7001253392162072, colsample_bytree=0.873525354564268 will be ignored. Current value: feature_fraction=0.7001253392162072\n",
      "[100]\tvalid_0's rmse: 37514.4\n",
      "[LightGBM] [Warning] feature_fraction is set=0.7001253392162072, colsample_bytree=0.873525354564268 will be ignored. Current value: feature_fraction=0.7001253392162072\n",
      "[100]\tvalid_0's rmse: 23324.3\n",
      "[LightGBM] [Warning] feature_fraction is set=0.7001253392162072, colsample_bytree=0.873525354564268 will be ignored. Current value: feature_fraction=0.7001253392162072\n",
      "[100]\tvalid_0's rmse: 25558.5\n",
      "[LightGBM] [Warning] feature_fraction is set=0.7001253392162072, colsample_bytree=0.873525354564268 will be ignored. Current value: feature_fraction=0.7001253392162072\n",
      "[100]\tvalid_0's rmse: 28459.9\n",
      "[LightGBM] [Warning] feature_fraction is set=0.7001253392162072, colsample_bytree=0.873525354564268 will be ignored. Current value: feature_fraction=0.7001253392162072\n",
      "[100]\tvalid_0's rmse: 30271.3\n",
      "[LightGBM] [Warning] feature_fraction is set=0.7001253392162072, colsample_bytree=0.873525354564268 will be ignored. Current value: feature_fraction=0.7001253392162072\n",
      "[100]\tvalid_0's rmse: 26432.1\n",
      "[LightGBM] [Warning] feature_fraction is set=0.7001253392162072, colsample_bytree=0.873525354564268 will be ignored. Current value: feature_fraction=0.7001253392162072\n",
      "[100]\tvalid_0's rmse: 34127.6\n",
      "[LightGBM] [Warning] feature_fraction is set=0.7001253392162072, colsample_bytree=0.873525354564268 will be ignored. Current value: feature_fraction=0.7001253392162072\n",
      "[100]\tvalid_0's rmse: 29179.4\n",
      "[LightGBM] [Warning] feature_fraction is set=0.7001253392162072, colsample_bytree=0.873525354564268 will be ignored. Current value: feature_fraction=0.7001253392162072\n",
      "[100]\tvalid_0's rmse: 30215.8\n"
     ]
    },
    {
     "name": "stderr",
     "output_type": "stream",
     "text": [
      "\u001b[32m[I 2023-01-06 02:42:32,152]\u001b[0m Trial 10 finished with value: 1.8976071754382644 and parameters: {'boosting_type': 'gbdt', 'learning_rate': 0.018425753523032294, 'num_leaves': 16, 'max_depth': 5, 'min_child_samples': 70, 'max_bin': 41, 'subsample': 0.5893294927914049, 'colsample_bytree': 0.873525354564268, 'min_split_gain': 0.0045486467443786645, 'feature_fraction': 0.7001253392162072}. Best is trial 7 with value: 1.7499285363056003.\u001b[0m\n"
     ]
    },
    {
     "name": "stdout",
     "output_type": "stream",
     "text": [
      "[LightGBM] [Warning] feature_fraction is set=0.4299457787233003, colsample_bytree=0.774356938601464 will be ignored. Current value: feature_fraction=0.4299457787233003\n",
      "[100]\tvalid_0's rmse: 28688.5\n",
      "[LightGBM] [Warning] feature_fraction is set=0.4299457787233003, colsample_bytree=0.774356938601464 will be ignored. Current value: feature_fraction=0.4299457787233003\n",
      "[100]\tvalid_0's rmse: 35077\n",
      "[LightGBM] [Warning] feature_fraction is set=0.4299457787233003, colsample_bytree=0.774356938601464 will be ignored. Current value: feature_fraction=0.4299457787233003\n",
      "[100]\tvalid_0's rmse: 21925.3\n",
      "[LightGBM] [Warning] feature_fraction is set=0.4299457787233003, colsample_bytree=0.774356938601464 will be ignored. Current value: feature_fraction=0.4299457787233003\n",
      "[100]\tvalid_0's rmse: 23919.1\n",
      "[LightGBM] [Warning] feature_fraction is set=0.4299457787233003, colsample_bytree=0.774356938601464 will be ignored. Current value: feature_fraction=0.4299457787233003\n",
      "[100]\tvalid_0's rmse: 26979.8\n",
      "[LightGBM] [Warning] feature_fraction is set=0.4299457787233003, colsample_bytree=0.774356938601464 will be ignored. Current value: feature_fraction=0.4299457787233003\n",
      "[100]\tvalid_0's rmse: 28516.3\n",
      "[LightGBM] [Warning] feature_fraction is set=0.4299457787233003, colsample_bytree=0.774356938601464 will be ignored. Current value: feature_fraction=0.4299457787233003\n",
      "[100]\tvalid_0's rmse: 26378.8\n",
      "[LightGBM] [Warning] feature_fraction is set=0.4299457787233003, colsample_bytree=0.774356938601464 will be ignored. Current value: feature_fraction=0.4299457787233003\n",
      "[100]\tvalid_0's rmse: 32334.2\n",
      "[LightGBM] [Warning] feature_fraction is set=0.4299457787233003, colsample_bytree=0.774356938601464 will be ignored. Current value: feature_fraction=0.4299457787233003\n",
      "[100]\tvalid_0's rmse: 27236.9\n",
      "[LightGBM] [Warning] feature_fraction is set=0.4299457787233003, colsample_bytree=0.774356938601464 will be ignored. Current value: feature_fraction=0.4299457787233003\n",
      "[100]\tvalid_0's rmse: 28841.4\n"
     ]
    },
    {
     "name": "stderr",
     "output_type": "stream",
     "text": [
      "\u001b[32m[I 2023-01-06 02:42:57,903]\u001b[0m Trial 11 finished with value: 1.7562192549933933 and parameters: {'boosting_type': 'gbdt', 'learning_rate': 0.08259174233547077, 'num_leaves': 87, 'max_depth': 7, 'min_child_samples': 62, 'max_bin': 248, 'subsample': 0.5281724148046587, 'colsample_bytree': 0.774356938601464, 'min_split_gain': 0.7645966870956171, 'feature_fraction': 0.4299457787233003}. Best is trial 7 with value: 1.7499285363056003.\u001b[0m\n"
     ]
    },
    {
     "name": "stdout",
     "output_type": "stream",
     "text": [
      "[LightGBM] [Warning] feature_fraction is set=0.6277748146147053, colsample_bytree=0.8037089550291058 will be ignored. Current value: feature_fraction=0.6277748146147053\n",
      "[100]\tvalid_0's rmse: 28893.1\n",
      "[LightGBM] [Warning] feature_fraction is set=0.6277748146147053, colsample_bytree=0.8037089550291058 will be ignored. Current value: feature_fraction=0.6277748146147053\n",
      "[100]\tvalid_0's rmse: 35396.1\n",
      "[LightGBM] [Warning] feature_fraction is set=0.6277748146147053, colsample_bytree=0.8037089550291058 will be ignored. Current value: feature_fraction=0.6277748146147053\n",
      "[100]\tvalid_0's rmse: 22106.7\n",
      "[LightGBM] [Warning] feature_fraction is set=0.6277748146147053, colsample_bytree=0.8037089550291058 will be ignored. Current value: feature_fraction=0.6277748146147053\n",
      "[100]\tvalid_0's rmse: 24156.8\n",
      "[LightGBM] [Warning] feature_fraction is set=0.6277748146147053, colsample_bytree=0.8037089550291058 will be ignored. Current value: feature_fraction=0.6277748146147053\n",
      "[100]\tvalid_0's rmse: 27189.3\n",
      "[LightGBM] [Warning] feature_fraction is set=0.6277748146147053, colsample_bytree=0.8037089550291058 will be ignored. Current value: feature_fraction=0.6277748146147053\n",
      "[100]\tvalid_0's rmse: 28737.6\n",
      "[LightGBM] [Warning] feature_fraction is set=0.6277748146147053, colsample_bytree=0.8037089550291058 will be ignored. Current value: feature_fraction=0.6277748146147053\n",
      "[100]\tvalid_0's rmse: 26332.2\n",
      "[LightGBM] [Warning] feature_fraction is set=0.6277748146147053, colsample_bytree=0.8037089550291058 will be ignored. Current value: feature_fraction=0.6277748146147053\n",
      "[100]\tvalid_0's rmse: 32560.1\n",
      "[LightGBM] [Warning] feature_fraction is set=0.6277748146147053, colsample_bytree=0.8037089550291058 will be ignored. Current value: feature_fraction=0.6277748146147053\n",
      "[100]\tvalid_0's rmse: 27499.8\n",
      "[LightGBM] [Warning] feature_fraction is set=0.6277748146147053, colsample_bytree=0.8037089550291058 will be ignored. Current value: feature_fraction=0.6277748146147053\n",
      "[100]\tvalid_0's rmse: 28966.9\n"
     ]
    },
    {
     "name": "stderr",
     "output_type": "stream",
     "text": [
      "\u001b[32m[I 2023-01-06 02:43:28,047]\u001b[0m Trial 12 finished with value: 1.7977346985572122 and parameters: {'boosting_type': 'gbdt', 'learning_rate': 0.04205179460947367, 'num_leaves': 84, 'max_depth': 7, 'min_child_samples': 61, 'max_bin': 293, 'subsample': 0.573850358882265, 'colsample_bytree': 0.8037089550291058, 'min_split_gain': 0.8483220799165271, 'feature_fraction': 0.6277748146147053}. Best is trial 7 with value: 1.7499285363056003.\u001b[0m\n"
     ]
    },
    {
     "name": "stdout",
     "output_type": "stream",
     "text": [
      "[LightGBM] [Warning] feature_fraction is set=0.4001720972859564, colsample_bytree=0.9795367697262658 will be ignored. Current value: feature_fraction=0.4001720972859564\n"
     ]
    },
    {
     "name": "stderr",
     "output_type": "stream",
     "text": [
      "\u001b[32m[I 2023-01-06 02:43:29,180]\u001b[0m Trial 13 pruned. Trial was pruned at iteration 5.\u001b[0m\n"
     ]
    },
    {
     "name": "stdout",
     "output_type": "stream",
     "text": [
      "[100]\tvalid_0's rmse: 28645.7\n",
      "[LightGBM] [Warning] feature_fraction is set=0.9916265853271126, colsample_bytree=0.7602036170563886 will be ignored. Current value: feature_fraction=0.9916265853271126\n",
      "[100]\tvalid_0's rmse: 34849.9\n",
      "[LightGBM] [Warning] feature_fraction is set=0.9916265853271126, colsample_bytree=0.7602036170563886 will be ignored. Current value: feature_fraction=0.9916265853271126\n",
      "[100]\tvalid_0's rmse: 21901.8\n",
      "[LightGBM] [Warning] feature_fraction is set=0.9916265853271126, colsample_bytree=0.7602036170563886 will be ignored. Current value: feature_fraction=0.9916265853271126\n",
      "[100]\tvalid_0's rmse: 23894.4\n",
      "[LightGBM] [Warning] feature_fraction is set=0.9916265853271126, colsample_bytree=0.7602036170563886 will be ignored. Current value: feature_fraction=0.9916265853271126\n",
      "[100]\tvalid_0's rmse: 26877.5\n",
      "[LightGBM] [Warning] feature_fraction is set=0.9916265853271126, colsample_bytree=0.7602036170563886 will be ignored. Current value: feature_fraction=0.9916265853271126\n",
      "[100]\tvalid_0's rmse: 28386.8\n",
      "[LightGBM] [Warning] feature_fraction is set=0.9916265853271126, colsample_bytree=0.7602036170563886 will be ignored. Current value: feature_fraction=0.9916265853271126\n",
      "[100]\tvalid_0's rmse: 26600.8\n",
      "[LightGBM] [Warning] feature_fraction is set=0.9916265853271126, colsample_bytree=0.7602036170563886 will be ignored. Current value: feature_fraction=0.9916265853271126\n",
      "[100]\tvalid_0's rmse: 32192.4\n",
      "[LightGBM] [Warning] feature_fraction is set=0.9916265853271126, colsample_bytree=0.7602036170563886 will be ignored. Current value: feature_fraction=0.9916265853271126\n",
      "[100]\tvalid_0's rmse: 27079.3\n",
      "[LightGBM] [Warning] feature_fraction is set=0.9916265853271126, colsample_bytree=0.7602036170563886 will be ignored. Current value: feature_fraction=0.9916265853271126\n",
      "[100]\tvalid_0's rmse: 28908.6\n"
     ]
    },
    {
     "name": "stderr",
     "output_type": "stream",
     "text": [
      "\u001b[32m[I 2023-01-06 02:44:02,856]\u001b[0m Trial 14 finished with value: 1.7323716779160485 and parameters: {'boosting_type': 'gbdt', 'learning_rate': 0.09628195697396104, 'num_leaves': 129, 'max_depth': 7, 'min_child_samples': 55, 'max_bin': 744, 'subsample': 0.4819784129429875, 'colsample_bytree': 0.7602036170563886, 'min_split_gain': 0.0009276343973277133, 'feature_fraction': 0.9916265853271126}. Best is trial 14 with value: 1.7323716779160485.\u001b[0m\n"
     ]
    },
    {
     "name": "stdout",
     "output_type": "stream",
     "text": [
      "[LightGBM] [Warning] feature_fraction is set=0.9838249719299368, colsample_bytree=0.7434126060994685 will be ignored. Current value: feature_fraction=0.9838249719299368\n",
      "[100]\tvalid_0's rmse: 28852.2\n",
      "[LightGBM] [Warning] feature_fraction is set=0.9838249719299368, colsample_bytree=0.7434126060994685 will be ignored. Current value: feature_fraction=0.9838249719299368\n",
      "[100]\tvalid_0's rmse: 35164.2\n",
      "[LightGBM] [Warning] feature_fraction is set=0.9838249719299368, colsample_bytree=0.7434126060994685 will be ignored. Current value: feature_fraction=0.9838249719299368\n",
      "[100]\tvalid_0's rmse: 22036.5\n",
      "[LightGBM] [Warning] feature_fraction is set=0.9838249719299368, colsample_bytree=0.7434126060994685 will be ignored. Current value: feature_fraction=0.9838249719299368\n",
      "[100]\tvalid_0's rmse: 24088.6\n",
      "[LightGBM] [Warning] feature_fraction is set=0.9838249719299368, colsample_bytree=0.7434126060994685 will be ignored. Current value: feature_fraction=0.9838249719299368\n",
      "[100]\tvalid_0's rmse: 27088.1\n",
      "[LightGBM] [Warning] feature_fraction is set=0.9838249719299368, colsample_bytree=0.7434126060994685 will be ignored. Current value: feature_fraction=0.9838249719299368\n",
      "[100]\tvalid_0's rmse: 28588\n",
      "[LightGBM] [Warning] feature_fraction is set=0.9838249719299368, colsample_bytree=0.7434126060994685 will be ignored. Current value: feature_fraction=0.9838249719299368\n",
      "[100]\tvalid_0's rmse: 26524.9\n",
      "[LightGBM] [Warning] feature_fraction is set=0.9838249719299368, colsample_bytree=0.7434126060994685 will be ignored. Current value: feature_fraction=0.9838249719299368\n",
      "[100]\tvalid_0's rmse: 32427\n",
      "[LightGBM] [Warning] feature_fraction is set=0.9838249719299368, colsample_bytree=0.7434126060994685 will be ignored. Current value: feature_fraction=0.9838249719299368\n",
      "[100]\tvalid_0's rmse: 27281.6\n",
      "[LightGBM] [Warning] feature_fraction is set=0.9838249719299368, colsample_bytree=0.7434126060994685 will be ignored. Current value: feature_fraction=0.9838249719299368\n",
      "[100]\tvalid_0's rmse: 29028.1\n"
     ]
    },
    {
     "name": "stderr",
     "output_type": "stream",
     "text": [
      "\u001b[32m[I 2023-01-06 02:44:39,238]\u001b[0m Trial 15 finished with value: 1.7978705104726214 and parameters: {'boosting_type': 'gbdt', 'learning_rate': 0.036807983564319226, 'num_leaves': 127, 'max_depth': 8, 'min_child_samples': 49, 'max_bin': 763, 'subsample': 0.47829853090212743, 'colsample_bytree': 0.7434126060994685, 'min_split_gain': 0.0006886186639368222, 'feature_fraction': 0.9838249719299368}. Best is trial 14 with value: 1.7323716779160485.\u001b[0m\n"
     ]
    },
    {
     "name": "stdout",
     "output_type": "stream",
     "text": [
      "[LightGBM] [Warning] feature_fraction is set=0.9970561750533764, colsample_bytree=0.9252051698541458 will be ignored. Current value: feature_fraction=0.9970561750533764\n"
     ]
    },
    {
     "name": "stderr",
     "output_type": "stream",
     "text": [
      "\u001b[32m[I 2023-01-06 02:44:40,503]\u001b[0m Trial 16 pruned. Trial was pruned at iteration 5.\u001b[0m\n",
      "\u001b[32m[I 2023-01-06 02:44:42,632]\u001b[0m Trial 17 pruned. Trial was pruned at iteration 54.\u001b[0m\n"
     ]
    },
    {
     "name": "stdout",
     "output_type": "stream",
     "text": [
      "[100]\tvalid_0's rmse: 28642.7\n",
      "[LightGBM] [Warning] feature_fraction is set=0.7366786329200536, colsample_bytree=0.8348829579525943 will be ignored. Current value: feature_fraction=0.7366786329200536\n",
      "[100]\tvalid_0's rmse: 34855.6\n",
      "[LightGBM] [Warning] feature_fraction is set=0.7366786329200536, colsample_bytree=0.8348829579525943 will be ignored. Current value: feature_fraction=0.7366786329200536\n",
      "[100]\tvalid_0's rmse: 21915\n",
      "[LightGBM] [Warning] feature_fraction is set=0.7366786329200536, colsample_bytree=0.8348829579525943 will be ignored. Current value: feature_fraction=0.7366786329200536\n",
      "[100]\tvalid_0's rmse: 23888.6\n",
      "[LightGBM] [Warning] feature_fraction is set=0.7366786329200536, colsample_bytree=0.8348829579525943 will be ignored. Current value: feature_fraction=0.7366786329200536\n",
      "[100]\tvalid_0's rmse: 26882.7\n",
      "[LightGBM] [Warning] feature_fraction is set=0.7366786329200536, colsample_bytree=0.8348829579525943 will be ignored. Current value: feature_fraction=0.7366786329200536\n",
      "[100]\tvalid_0's rmse: 28357\n",
      "[LightGBM] [Warning] feature_fraction is set=0.7366786329200536, colsample_bytree=0.8348829579525943 will be ignored. Current value: feature_fraction=0.7366786329200536\n",
      "[100]\tvalid_0's rmse: 26641.6\n",
      "[LightGBM] [Warning] feature_fraction is set=0.7366786329200536, colsample_bytree=0.8348829579525943 will be ignored. Current value: feature_fraction=0.7366786329200536\n",
      "[100]\tvalid_0's rmse: 32185.2\n",
      "[LightGBM] [Warning] feature_fraction is set=0.7366786329200536, colsample_bytree=0.8348829579525943 will be ignored. Current value: feature_fraction=0.7366786329200536\n",
      "[100]\tvalid_0's rmse: 27059.1\n",
      "[LightGBM] [Warning] feature_fraction is set=0.7366786329200536, colsample_bytree=0.8348829579525943 will be ignored. Current value: feature_fraction=0.7366786329200536\n",
      "[100]\tvalid_0's rmse: 28910.2\n"
     ]
    },
    {
     "name": "stderr",
     "output_type": "stream",
     "text": [
      "\u001b[32m[I 2023-01-06 02:45:19,452]\u001b[0m Trial 18 finished with value: 1.734176799086842 and parameters: {'boosting_type': 'gbrt', 'learning_rate': 0.09983949457259926, 'num_leaves': 219, 'max_depth': 8, 'min_child_samples': 57, 'max_bin': 856, 'subsample': 0.788878258752133, 'colsample_bytree': 0.8348829579525943, 'min_split_gain': 0.0007803443485905367, 'feature_fraction': 0.7366786329200536}. Best is trial 14 with value: 1.7323716779160485.\u001b[0m\n"
     ]
    },
    {
     "name": "stdout",
     "output_type": "stream",
     "text": [
      "[LightGBM] [Warning] feature_fraction is set=0.6785876326810532, colsample_bytree=0.817112942601769 will be ignored. Current value: feature_fraction=0.6785876326810532\n"
     ]
    },
    {
     "name": "stderr",
     "output_type": "stream",
     "text": [
      "\u001b[32m[I 2023-01-06 02:45:20,816]\u001b[0m Trial 19 pruned. Trial was pruned at iteration 5.\u001b[0m\n",
      "\u001b[32m[I 2023-01-06 02:45:22,226]\u001b[0m Trial 20 pruned. Trial was pruned at iteration 5.\u001b[0m\n"
     ]
    },
    {
     "name": "stdout",
     "output_type": "stream",
     "text": [
      "[100]\tvalid_0's rmse: 28675.9\n",
      "[LightGBM] [Warning] feature_fraction is set=0.8315843038223637, colsample_bytree=0.6542456636680473 will be ignored. Current value: feature_fraction=0.8315843038223637\n",
      "[100]\tvalid_0's rmse: 34902.8\n",
      "[LightGBM] [Warning] feature_fraction is set=0.8315843038223637, colsample_bytree=0.6542456636680473 will be ignored. Current value: feature_fraction=0.8315843038223637\n",
      "[100]\tvalid_0's rmse: 21952.6\n",
      "[LightGBM] [Warning] feature_fraction is set=0.8315843038223637, colsample_bytree=0.6542456636680473 will be ignored. Current value: feature_fraction=0.8315843038223637\n",
      "[100]\tvalid_0's rmse: 23924.6\n",
      "[LightGBM] [Warning] feature_fraction is set=0.8315843038223637, colsample_bytree=0.6542456636680473 will be ignored. Current value: feature_fraction=0.8315843038223637\n",
      "[100]\tvalid_0's rmse: 26918.2\n",
      "[LightGBM] [Warning] feature_fraction is set=0.8315843038223637, colsample_bytree=0.6542456636680473 will be ignored. Current value: feature_fraction=0.8315843038223637\n",
      "[100]\tvalid_0's rmse: 28408.1\n",
      "[LightGBM] [Warning] feature_fraction is set=0.8315843038223637, colsample_bytree=0.6542456636680473 will be ignored. Current value: feature_fraction=0.8315843038223637\n",
      "[100]\tvalid_0's rmse: 26622.1\n",
      "[LightGBM] [Warning] feature_fraction is set=0.8315843038223637, colsample_bytree=0.6542456636680473 will be ignored. Current value: feature_fraction=0.8315843038223637\n",
      "[100]\tvalid_0's rmse: 32232.9\n",
      "[LightGBM] [Warning] feature_fraction is set=0.8315843038223637, colsample_bytree=0.6542456636680473 will be ignored. Current value: feature_fraction=0.8315843038223637\n",
      "[100]\tvalid_0's rmse: 27121.7\n",
      "[LightGBM] [Warning] feature_fraction is set=0.8315843038223637, colsample_bytree=0.6542456636680473 will be ignored. Current value: feature_fraction=0.8315843038223637\n",
      "[100]\tvalid_0's rmse: 28917.6\n"
     ]
    },
    {
     "name": "stderr",
     "output_type": "stream",
     "text": [
      "\u001b[32m[I 2023-01-06 02:45:55,051]\u001b[0m Trial 21 finished with value: 1.7449130850596268 and parameters: {'boosting_type': 'gbrt', 'learning_rate': 0.08732222635717249, 'num_leaves': 233, 'max_depth': 7, 'min_child_samples': 44, 'max_bin': 890, 'subsample': 0.6656844366358979, 'colsample_bytree': 0.6542456636680473, 'min_split_gain': 0.00013810852047522443, 'feature_fraction': 0.8315843038223637}. Best is trial 14 with value: 1.7323716779160485.\u001b[0m\n"
     ]
    },
    {
     "name": "stdout",
     "output_type": "stream",
     "text": [
      "[LightGBM] [Warning] feature_fraction is set=0.866908150671825, colsample_bytree=0.6712346931876386 will be ignored. Current value: feature_fraction=0.866908150671825\n",
      "[100]\tvalid_0's rmse: 28790.7\n",
      "[LightGBM] [Warning] feature_fraction is set=0.866908150671825, colsample_bytree=0.6712346931876386 will be ignored. Current value: feature_fraction=0.866908150671825\n",
      "[100]\tvalid_0's rmse: 35026.7\n",
      "[LightGBM] [Warning] feature_fraction is set=0.866908150671825, colsample_bytree=0.6712346931876386 will be ignored. Current value: feature_fraction=0.866908150671825\n",
      "[100]\tvalid_0's rmse: 22056.5\n",
      "[LightGBM] [Warning] feature_fraction is set=0.866908150671825, colsample_bytree=0.6712346931876386 will be ignored. Current value: feature_fraction=0.866908150671825\n",
      "[100]\tvalid_0's rmse: 24034.1\n",
      "[LightGBM] [Warning] feature_fraction is set=0.866908150671825, colsample_bytree=0.6712346931876386 will be ignored. Current value: feature_fraction=0.866908150671825\n",
      "[100]\tvalid_0's rmse: 27039.7\n",
      "[LightGBM] [Warning] feature_fraction is set=0.866908150671825, colsample_bytree=0.6712346931876386 will be ignored. Current value: feature_fraction=0.866908150671825\n",
      "[100]\tvalid_0's rmse: 28505.7\n",
      "[LightGBM] [Warning] feature_fraction is set=0.866908150671825, colsample_bytree=0.6712346931876386 will be ignored. Current value: feature_fraction=0.866908150671825\n",
      "[100]\tvalid_0's rmse: 26636.3\n",
      "[LightGBM] [Warning] feature_fraction is set=0.866908150671825, colsample_bytree=0.6712346931876386 will be ignored. Current value: feature_fraction=0.866908150671825\n",
      "[100]\tvalid_0's rmse: 32337\n",
      "[LightGBM] [Warning] feature_fraction is set=0.866908150671825, colsample_bytree=0.6712346931876386 will be ignored. Current value: feature_fraction=0.866908150671825\n",
      "[100]\tvalid_0's rmse: 27199.5\n",
      "[LightGBM] [Warning] feature_fraction is set=0.866908150671825, colsample_bytree=0.6712346931876386 will be ignored. Current value: feature_fraction=0.866908150671825\n",
      "[100]\tvalid_0's rmse: 28975.5\n"
     ]
    },
    {
     "name": "stderr",
     "output_type": "stream",
     "text": [
      "\u001b[32m[I 2023-01-06 02:46:27,425]\u001b[0m Trial 22 finished with value: 1.774639229259039 and parameters: {'boosting_type': 'gbrt', 'learning_rate': 0.05839215537356593, 'num_leaves': 225, 'max_depth': 7, 'min_child_samples': 44, 'max_bin': 688, 'subsample': 0.749641325268024, 'colsample_bytree': 0.6712346931876386, 'min_split_gain': 0.0002498836557009074, 'feature_fraction': 0.866908150671825}. Best is trial 14 with value: 1.7323716779160485.\u001b[0m\n"
     ]
    },
    {
     "name": "stdout",
     "output_type": "stream",
     "text": [
      "[LightGBM] [Warning] feature_fraction is set=0.9375165679546582, colsample_bytree=0.823582322665892 will be ignored. Current value: feature_fraction=0.9375165679546582\n"
     ]
    },
    {
     "name": "stderr",
     "output_type": "stream",
     "text": [
      "\u001b[32m[I 2023-01-06 02:46:28,691]\u001b[0m Trial 23 pruned. Trial was pruned at iteration 5.\u001b[0m\n"
     ]
    },
    {
     "name": "stdout",
     "output_type": "stream",
     "text": [
      "[100]\tvalid_0's rmse: 28800.9\n",
      "[LightGBM] [Warning] feature_fraction is set=0.7374778805117869, colsample_bytree=0.6538616319549212 will be ignored. Current value: feature_fraction=0.7374778805117869\n",
      "[100]\tvalid_0's rmse: 35057\n",
      "[LightGBM] [Warning] feature_fraction is set=0.7374778805117869, colsample_bytree=0.6538616319549212 will be ignored. Current value: feature_fraction=0.7374778805117869\n",
      "[100]\tvalid_0's rmse: 22037.1\n",
      "[LightGBM] [Warning] feature_fraction is set=0.7374778805117869, colsample_bytree=0.6538616319549212 will be ignored. Current value: feature_fraction=0.7374778805117869\n",
      "[100]\tvalid_0's rmse: 24030.6\n",
      "[LightGBM] [Warning] feature_fraction is set=0.7374778805117869, colsample_bytree=0.6538616319549212 will be ignored. Current value: feature_fraction=0.7374778805117869\n",
      "[100]\tvalid_0's rmse: 27031.6\n",
      "[LightGBM] [Warning] feature_fraction is set=0.7374778805117869, colsample_bytree=0.6538616319549212 will be ignored. Current value: feature_fraction=0.7374778805117869\n",
      "[100]\tvalid_0's rmse: 28511.5\n",
      "[LightGBM] [Warning] feature_fraction is set=0.7374778805117869, colsample_bytree=0.6538616319549212 will be ignored. Current value: feature_fraction=0.7374778805117869\n",
      "[100]\tvalid_0's rmse: 26618.1\n",
      "[LightGBM] [Warning] feature_fraction is set=0.7374778805117869, colsample_bytree=0.6538616319549212 will be ignored. Current value: feature_fraction=0.7374778805117869\n",
      "[100]\tvalid_0's rmse: 32347.7\n",
      "[LightGBM] [Warning] feature_fraction is set=0.7374778805117869, colsample_bytree=0.6538616319549212 will be ignored. Current value: feature_fraction=0.7374778805117869\n",
      "[100]\tvalid_0's rmse: 27223.6\n",
      "[LightGBM] [Warning] feature_fraction is set=0.7374778805117869, colsample_bytree=0.6538616319549212 will be ignored. Current value: feature_fraction=0.7374778805117869\n",
      "[100]\tvalid_0's rmse: 28979.9\n"
     ]
    },
    {
     "name": "stderr",
     "output_type": "stream",
     "text": [
      "\u001b[32m[I 2023-01-06 02:47:01,058]\u001b[0m Trial 24 finished with value: 1.7712533917334135 and parameters: {'boosting_type': 'gbrt', 'learning_rate': 0.06076474060171065, 'num_leaves': 111, 'max_depth': 7, 'min_child_samples': 69, 'max_bin': 627, 'subsample': 0.660180947917677, 'colsample_bytree': 0.6538616319549212, 'min_split_gain': 0.0001476214261811375, 'feature_fraction': 0.7374778805117869}. Best is trial 14 with value: 1.7323716779160485.\u001b[0m\n"
     ]
    },
    {
     "name": "stdout",
     "output_type": "stream",
     "text": [
      "[LightGBM] [Warning] feature_fraction is set=0.6458269081999858, colsample_bytree=0.5137124318510681 will be ignored. Current value: feature_fraction=0.6458269081999858\n",
      "[100]\tvalid_0's rmse: 28647\n",
      "[LightGBM] [Warning] feature_fraction is set=0.6458269081999858, colsample_bytree=0.5137124318510681 will be ignored. Current value: feature_fraction=0.6458269081999858\n",
      "[100]\tvalid_0's rmse: 34876\n",
      "[LightGBM] [Warning] feature_fraction is set=0.6458269081999858, colsample_bytree=0.5137124318510681 will be ignored. Current value: feature_fraction=0.6458269081999858\n",
      "[100]\tvalid_0's rmse: 21856.6\n",
      "[LightGBM] [Warning] feature_fraction is set=0.6458269081999858, colsample_bytree=0.5137124318510681 will be ignored. Current value: feature_fraction=0.6458269081999858\n",
      "[100]\tvalid_0's rmse: 23873.6\n",
      "[LightGBM] [Warning] feature_fraction is set=0.6458269081999858, colsample_bytree=0.5137124318510681 will be ignored. Current value: feature_fraction=0.6458269081999858\n",
      "[100]\tvalid_0's rmse: 26890\n",
      "[LightGBM] [Warning] feature_fraction is set=0.6458269081999858, colsample_bytree=0.5137124318510681 will be ignored. Current value: feature_fraction=0.6458269081999858\n",
      "[100]\tvalid_0's rmse: 28388\n",
      "[LightGBM] [Warning] feature_fraction is set=0.6458269081999858, colsample_bytree=0.5137124318510681 will be ignored. Current value: feature_fraction=0.6458269081999858\n",
      "[100]\tvalid_0's rmse: 26616.4\n",
      "[LightGBM] [Warning] feature_fraction is set=0.6458269081999858, colsample_bytree=0.5137124318510681 will be ignored. Current value: feature_fraction=0.6458269081999858\n",
      "[100]\tvalid_0's rmse: 32204.1\n",
      "[LightGBM] [Warning] feature_fraction is set=0.6458269081999858, colsample_bytree=0.5137124318510681 will be ignored. Current value: feature_fraction=0.6458269081999858\n",
      "[100]\tvalid_0's rmse: 27096.8\n",
      "[LightGBM] [Warning] feature_fraction is set=0.6458269081999858, colsample_bytree=0.5137124318510681 will be ignored. Current value: feature_fraction=0.6458269081999858\n"
     ]
    },
    {
     "name": "stderr",
     "output_type": "stream",
     "text": [
      "\u001b[32m[I 2023-01-06 02:47:42,032]\u001b[0m Trial 25 finished with value: 1.7492799251603024 and parameters: {'boosting_type': 'gbrt', 'learning_rate': 0.08942191317266128, 'num_leaves': 236, 'max_depth': 8, 'min_child_samples': 50, 'max_bin': 913, 'subsample': 0.8808087390977213, 'colsample_bytree': 0.5137124318510681, 'min_split_gain': 0.003387216343794426, 'feature_fraction': 0.6458269081999858}. Best is trial 14 with value: 1.7323716779160485.\u001b[0m\n"
     ]
    },
    {
     "name": "stdout",
     "output_type": "stream",
     "text": [
      "[100]\tvalid_0's rmse: 28893.8\n",
      "[LightGBM] [Warning] feature_fraction is set=0.9459443282899498, colsample_bytree=0.7599229464613284 will be ignored. Current value: feature_fraction=0.9459443282899498\n"
     ]
    },
    {
     "name": "stderr",
     "output_type": "stream",
     "text": [
      "\u001b[32m[I 2023-01-06 02:47:43,195]\u001b[0m Trial 26 pruned. Trial was pruned at iteration 5.\u001b[0m\n",
      "\u001b[32m[I 2023-01-06 02:47:44,245]\u001b[0m Trial 27 pruned. Trial was pruned at iteration 5.\u001b[0m\n"
     ]
    },
    {
     "name": "stdout",
     "output_type": "stream",
     "text": [
      "[100]\tvalid_0's rmse: 28695.3\n",
      "[LightGBM] [Warning] feature_fraction is set=0.8594886074187054, colsample_bytree=0.8796437501555117 will be ignored. Current value: feature_fraction=0.8594886074187054\n",
      "[100]\tvalid_0's rmse: 34914.2\n",
      "[LightGBM] [Warning] feature_fraction is set=0.8594886074187054, colsample_bytree=0.8796437501555117 will be ignored. Current value: feature_fraction=0.8594886074187054\n",
      "[100]\tvalid_0's rmse: 21900\n",
      "[LightGBM] [Warning] feature_fraction is set=0.8594886074187054, colsample_bytree=0.8796437501555117 will be ignored. Current value: feature_fraction=0.8594886074187054\n",
      "[100]\tvalid_0's rmse: 23908.8\n",
      "[LightGBM] [Warning] feature_fraction is set=0.8594886074187054, colsample_bytree=0.8796437501555117 will be ignored. Current value: feature_fraction=0.8594886074187054\n",
      "[100]\tvalid_0's rmse: 26911.5\n",
      "[LightGBM] [Warning] feature_fraction is set=0.8594886074187054, colsample_bytree=0.8796437501555117 will be ignored. Current value: feature_fraction=0.8594886074187054\n",
      "[100]\tvalid_0's rmse: 28426.3\n",
      "[LightGBM] [Warning] feature_fraction is set=0.8594886074187054, colsample_bytree=0.8796437501555117 will be ignored. Current value: feature_fraction=0.8594886074187054\n",
      "[100]\tvalid_0's rmse: 26613.3\n",
      "[LightGBM] [Warning] feature_fraction is set=0.8594886074187054, colsample_bytree=0.8796437501555117 will be ignored. Current value: feature_fraction=0.8594886074187054\n",
      "[100]\tvalid_0's rmse: 32245.7\n",
      "[LightGBM] [Warning] feature_fraction is set=0.8594886074187054, colsample_bytree=0.8796437501555117 will be ignored. Current value: feature_fraction=0.8594886074187054\n",
      "[100]\tvalid_0's rmse: 27111.6\n",
      "[LightGBM] [Warning] feature_fraction is set=0.8594886074187054, colsample_bytree=0.8796437501555117 will be ignored. Current value: feature_fraction=0.8594886074187054\n",
      "[100]\tvalid_0's rmse: 28931.4\n"
     ]
    },
    {
     "name": "stderr",
     "output_type": "stream",
     "text": [
      "\u001b[32m[I 2023-01-06 02:48:12,683]\u001b[0m Trial 28 finished with value: 1.7554012001209245 and parameters: {'boosting_type': 'gbrt', 'learning_rate': 0.07318664486203875, 'num_leaves': 56, 'max_depth': 8, 'min_child_samples': 41, 'max_bin': 933, 'subsample': 0.7437674162943055, 'colsample_bytree': 0.8796437501555117, 'min_split_gain': 0.09714905961824853, 'feature_fraction': 0.8594886074187054}. Best is trial 14 with value: 1.7323716779160485.\u001b[0m\n"
     ]
    },
    {
     "name": "stdout",
     "output_type": "stream",
     "text": [
      "[LightGBM] [Warning] feature_fraction is set=0.8332353860462387, colsample_bytree=0.7896739525426553 will be ignored. Current value: feature_fraction=0.8332353860462387\n",
      "[100]\tvalid_0's rmse: 28745.1\n",
      "[LightGBM] [Warning] feature_fraction is set=0.8332353860462387, colsample_bytree=0.7896739525426553 will be ignored. Current value: feature_fraction=0.8332353860462387\n",
      "[100]\tvalid_0's rmse: 34986.3\n",
      "[LightGBM] [Warning] feature_fraction is set=0.8332353860462387, colsample_bytree=0.7896739525426553 will be ignored. Current value: feature_fraction=0.8332353860462387\n",
      "[100]\tvalid_0's rmse: 21981.5\n",
      "[LightGBM] [Warning] feature_fraction is set=0.8332353860462387, colsample_bytree=0.7896739525426553 will be ignored. Current value: feature_fraction=0.8332353860462387\n",
      "[100]\tvalid_0's rmse: 23996.2\n",
      "[LightGBM] [Warning] feature_fraction is set=0.8332353860462387, colsample_bytree=0.7896739525426553 will be ignored. Current value: feature_fraction=0.8332353860462387\n",
      "[100]\tvalid_0's rmse: 26969.8\n",
      "[LightGBM] [Warning] feature_fraction is set=0.8332353860462387, colsample_bytree=0.7896739525426553 will be ignored. Current value: feature_fraction=0.8332353860462387\n",
      "[100]\tvalid_0's rmse: 28499.6\n",
      "[LightGBM] [Warning] feature_fraction is set=0.8332353860462387, colsample_bytree=0.7896739525426553 will be ignored. Current value: feature_fraction=0.8332353860462387\n",
      "[100]\tvalid_0's rmse: 26624.9\n",
      "[LightGBM] [Warning] feature_fraction is set=0.8332353860462387, colsample_bytree=0.7896739525426553 will be ignored. Current value: feature_fraction=0.8332353860462387\n",
      "[100]\tvalid_0's rmse: 32295\n",
      "[LightGBM] [Warning] feature_fraction is set=0.8332353860462387, colsample_bytree=0.7896739525426553 will be ignored. Current value: feature_fraction=0.8332353860462387\n",
      "[100]\tvalid_0's rmse: 27209.4\n",
      "[LightGBM] [Warning] feature_fraction is set=0.8332353860462387, colsample_bytree=0.7896739525426553 will be ignored. Current value: feature_fraction=0.8332353860462387\n"
     ]
    },
    {
     "name": "stderr",
     "output_type": "stream",
     "text": [
      "\u001b[32m[I 2023-01-06 02:48:38,245]\u001b[0m Trial 29 finished with value: 1.74922966026014 and parameters: {'boosting_type': 'gbrt', 'learning_rate': 0.09728695084287663, 'num_leaves': 162, 'max_depth': 6, 'min_child_samples': 53, 'max_bin': 721, 'subsample': 0.8389529020964377, 'colsample_bytree': 0.7896739525426553, 'min_split_gain': 7.965469686148108e-05, 'feature_fraction': 0.8332353860462387}. Best is trial 14 with value: 1.7323716779160485.\u001b[0m\n"
     ]
    },
    {
     "name": "stdout",
     "output_type": "stream",
     "text": [
      "[100]\tvalid_0's rmse: 28968.7\n",
      "[LightGBM] [Warning] feature_fraction is set=0.9612666144182661, colsample_bytree=0.9992597163502093 will be ignored. Current value: feature_fraction=0.9612666144182661\n"
     ]
    },
    {
     "name": "stderr",
     "output_type": "stream",
     "text": [
      "\u001b[32m[I 2023-01-06 02:48:39,268]\u001b[0m Trial 30 pruned. Trial was pruned at iteration 5.\u001b[0m\n",
      "\u001b[32m[I 2023-01-06 02:48:40,935]\u001b[0m Trial 31 pruned. Trial was pruned at iteration 46.\u001b[0m\n",
      "\u001b[32m[I 2023-01-06 02:48:42,463]\u001b[0m Trial 32 pruned. Trial was pruned at iteration 33.\u001b[0m\n",
      "\u001b[32m[I 2023-01-06 02:48:43,579]\u001b[0m Trial 33 pruned. Trial was pruned at iteration 5.\u001b[0m\n",
      "\u001b[32m[I 2023-01-06 02:48:44,712]\u001b[0m Trial 34 pruned. Trial was pruned at iteration 5.\u001b[0m\n"
     ]
    },
    {
     "name": "stdout",
     "output_type": "stream",
     "text": [
      "[100]\tvalid_0's rmse: 28647.6\n",
      "[LightGBM] [Warning] feature_fraction is set=0.8838736960451086, colsample_bytree=0.8552916305914194 will be ignored. Current value: feature_fraction=0.8838736960451086\n",
      "[100]\tvalid_0's rmse: 34870\n",
      "[LightGBM] [Warning] feature_fraction is set=0.8838736960451086, colsample_bytree=0.8552916305914194 will be ignored. Current value: feature_fraction=0.8838736960451086\n",
      "[100]\tvalid_0's rmse: 21946.2\n",
      "[LightGBM] [Warning] feature_fraction is set=0.8838736960451086, colsample_bytree=0.8552916305914194 will be ignored. Current value: feature_fraction=0.8838736960451086\n",
      "[100]\tvalid_0's rmse: 23882.1\n",
      "[LightGBM] [Warning] feature_fraction is set=0.8838736960451086, colsample_bytree=0.8552916305914194 will be ignored. Current value: feature_fraction=0.8838736960451086\n",
      "[100]\tvalid_0's rmse: 26908.1\n",
      "[LightGBM] [Warning] feature_fraction is set=0.8838736960451086, colsample_bytree=0.8552916305914194 will be ignored. Current value: feature_fraction=0.8838736960451086\n",
      "[100]\tvalid_0's rmse: 28360.4\n",
      "[LightGBM] [Warning] feature_fraction is set=0.8838736960451086, colsample_bytree=0.8552916305914194 will be ignored. Current value: feature_fraction=0.8838736960451086\n",
      "[100]\tvalid_0's rmse: 26650.8\n",
      "[LightGBM] [Warning] feature_fraction is set=0.8838736960451086, colsample_bytree=0.8552916305914194 will be ignored. Current value: feature_fraction=0.8838736960451086\n",
      "[100]\tvalid_0's rmse: 32192.1\n",
      "[LightGBM] [Warning] feature_fraction is set=0.8838736960451086, colsample_bytree=0.8552916305914194 will be ignored. Current value: feature_fraction=0.8838736960451086\n",
      "[100]\tvalid_0's rmse: 27064.8\n",
      "[LightGBM] [Warning] feature_fraction is set=0.8838736960451086, colsample_bytree=0.8552916305914194 will be ignored. Current value: feature_fraction=0.8838736960451086\n",
      "[100]\tvalid_0's rmse: 28906.4\n"
     ]
    },
    {
     "name": "stderr",
     "output_type": "stream",
     "text": [
      "\u001b[32m[I 2023-01-06 02:49:28,328]\u001b[0m Trial 35 finished with value: 1.7586764991090824 and parameters: {'boosting_type': 'gbrt', 'learning_rate': 0.0666489839663248, 'num_leaves': 243, 'max_depth': 9, 'min_child_samples': 62, 'max_bin': 790, 'subsample': 0.8019992618148315, 'colsample_bytree': 0.8552916305914194, 'min_split_gain': 0.011616898842570526, 'feature_fraction': 0.8838736960451086}. Best is trial 14 with value: 1.7323716779160485.\u001b[0m\n"
     ]
    },
    {
     "name": "stdout",
     "output_type": "stream",
     "text": [
      "[LightGBM] [Warning] feature_fraction is set=0.5336177295901586, colsample_bytree=0.7020422497155914 will be ignored. Current value: feature_fraction=0.5336177295901586\n"
     ]
    },
    {
     "name": "stderr",
     "output_type": "stream",
     "text": [
      "\u001b[32m[I 2023-01-06 02:49:30,122]\u001b[0m Trial 36 pruned. Trial was pruned at iteration 42.\u001b[0m\n"
     ]
    },
    {
     "name": "stdout",
     "output_type": "stream",
     "text": [
      "[100]\tvalid_0's rmse: 28680.8\n",
      "[LightGBM] [Warning] feature_fraction is set=0.7720670711555839, colsample_bytree=0.7818924087858699 will be ignored. Current value: feature_fraction=0.7720670711555839\n",
      "[100]\tvalid_0's rmse: 34881.6\n",
      "[LightGBM] [Warning] feature_fraction is set=0.7720670711555839, colsample_bytree=0.7818924087858699 will be ignored. Current value: feature_fraction=0.7720670711555839\n",
      "[100]\tvalid_0's rmse: 21910.9\n",
      "[LightGBM] [Warning] feature_fraction is set=0.7720670711555839, colsample_bytree=0.7818924087858699 will be ignored. Current value: feature_fraction=0.7720670711555839\n",
      "[100]\tvalid_0's rmse: 23897.4\n",
      "[LightGBM] [Warning] feature_fraction is set=0.7720670711555839, colsample_bytree=0.7818924087858699 will be ignored. Current value: feature_fraction=0.7720670711555839\n",
      "[100]\tvalid_0's rmse: 26922.1\n",
      "[LightGBM] [Warning] feature_fraction is set=0.7720670711555839, colsample_bytree=0.7818924087858699 will be ignored. Current value: feature_fraction=0.7720670711555839\n",
      "[100]\tvalid_0's rmse: 28399.1\n",
      "[LightGBM] [Warning] feature_fraction is set=0.7720670711555839, colsample_bytree=0.7818924087858699 will be ignored. Current value: feature_fraction=0.7720670711555839\n",
      "[100]\tvalid_0's rmse: 26597.6\n",
      "[LightGBM] [Warning] feature_fraction is set=0.7720670711555839, colsample_bytree=0.7818924087858699 will be ignored. Current value: feature_fraction=0.7720670711555839\n",
      "[100]\tvalid_0's rmse: 32213.5\n",
      "[LightGBM] [Warning] feature_fraction is set=0.7720670711555839, colsample_bytree=0.7818924087858699 will be ignored. Current value: feature_fraction=0.7720670711555839\n",
      "[100]\tvalid_0's rmse: 27109.2\n",
      "[LightGBM] [Warning] feature_fraction is set=0.7720670711555839, colsample_bytree=0.7818924087858699 will be ignored. Current value: feature_fraction=0.7720670711555839\n",
      "[100]\tvalid_0's rmse: 28902.7\n"
     ]
    },
    {
     "name": "stderr",
     "output_type": "stream",
     "text": [
      "\u001b[32m[I 2023-01-06 02:50:00,803]\u001b[0m Trial 37 finished with value: 1.7381823041359685 and parameters: {'boosting_type': 'gbrt', 'learning_rate': 0.09931158104668188, 'num_leaves': 109, 'max_depth': 7, 'min_child_samples': 40, 'max_bin': 712, 'subsample': 0.6467794832631604, 'colsample_bytree': 0.7818924087858699, 'min_split_gain': 4.074915005647764e-05, 'feature_fraction': 0.7720670711555839}. Best is trial 14 with value: 1.7323716779160485.\u001b[0m\n"
     ]
    },
    {
     "name": "stdout",
     "output_type": "stream",
     "text": [
      "[LightGBM] [Warning] feature_fraction is set=0.7750189810688058, colsample_bytree=0.737883973516633 will be ignored. Current value: feature_fraction=0.7750189810688058\n"
     ]
    },
    {
     "name": "stderr",
     "output_type": "stream",
     "text": [
      "\u001b[32m[I 2023-01-06 02:50:01,892]\u001b[0m Trial 38 pruned. Trial was pruned at iteration 5.\u001b[0m\n",
      "\u001b[32m[I 2023-01-06 02:50:03,021]\u001b[0m Trial 39 pruned. Trial was pruned at iteration 5.\u001b[0m\n",
      "\u001b[32m[I 2023-01-06 02:50:04,133]\u001b[0m Trial 40 pruned. Trial was pruned at iteration 5.\u001b[0m\n"
     ]
    },
    {
     "name": "stdout",
     "output_type": "stream",
     "text": [
      "[100]\tvalid_0's rmse: 28662.7\n",
      "[LightGBM] [Warning] feature_fraction is set=0.8235449373972807, colsample_bytree=0.7759584794020266 will be ignored. Current value: feature_fraction=0.8235449373972807\n",
      "[100]\tvalid_0's rmse: 34873.1\n",
      "[LightGBM] [Warning] feature_fraction is set=0.8235449373972807, colsample_bytree=0.7759584794020266 will be ignored. Current value: feature_fraction=0.8235449373972807\n",
      "[100]\tvalid_0's rmse: 21928.9\n",
      "[LightGBM] [Warning] feature_fraction is set=0.8235449373972807, colsample_bytree=0.7759584794020266 will be ignored. Current value: feature_fraction=0.8235449373972807\n",
      "[100]\tvalid_0's rmse: 23907.3\n",
      "[LightGBM] [Warning] feature_fraction is set=0.8235449373972807, colsample_bytree=0.7759584794020266 will be ignored. Current value: feature_fraction=0.8235449373972807\n",
      "[100]\tvalid_0's rmse: 26899.8\n",
      "[LightGBM] [Warning] feature_fraction is set=0.8235449373972807, colsample_bytree=0.7759584794020266 will be ignored. Current value: feature_fraction=0.8235449373972807\n",
      "[100]\tvalid_0's rmse: 28399.2\n",
      "[LightGBM] [Warning] feature_fraction is set=0.8235449373972807, colsample_bytree=0.7759584794020266 will be ignored. Current value: feature_fraction=0.8235449373972807\n",
      "[100]\tvalid_0's rmse: 26612.2\n",
      "[LightGBM] [Warning] feature_fraction is set=0.8235449373972807, colsample_bytree=0.7759584794020266 will be ignored. Current value: feature_fraction=0.8235449373972807\n",
      "[100]\tvalid_0's rmse: 32213.1\n",
      "[LightGBM] [Warning] feature_fraction is set=0.8235449373972807, colsample_bytree=0.7759584794020266 will be ignored. Current value: feature_fraction=0.8235449373972807\n",
      "[100]\tvalid_0's rmse: 27084.1\n",
      "[LightGBM] [Warning] feature_fraction is set=0.8235449373972807, colsample_bytree=0.7759584794020266 will be ignored. Current value: feature_fraction=0.8235449373972807\n",
      "[100]\tvalid_0's rmse: 28909.6\n"
     ]
    },
    {
     "name": "stderr",
     "output_type": "stream",
     "text": [
      "\u001b[32m[I 2023-01-06 02:50:34,664]\u001b[0m Trial 41 finished with value: 1.735612864577871 and parameters: {'boosting_type': 'gbrt', 'learning_rate': 0.09962667588161446, 'num_leaves': 117, 'max_depth': 7, 'min_child_samples': 54, 'max_bin': 714, 'subsample': 0.6305119846114599, 'colsample_bytree': 0.7759584794020266, 'min_split_gain': 0.0001288302059697971, 'feature_fraction': 0.8235449373972807}. Best is trial 14 with value: 1.7323716779160485.\u001b[0m\n"
     ]
    },
    {
     "name": "stdout",
     "output_type": "stream",
     "text": [
      "[LightGBM] [Warning] feature_fraction is set=0.8014851034205616, colsample_bytree=0.7633127490549889 will be ignored. Current value: feature_fraction=0.8014851034205616\n",
      "[100]\tvalid_0's rmse: 28666.7\n",
      "[LightGBM] [Warning] feature_fraction is set=0.8014851034205616, colsample_bytree=0.7633127490549889 will be ignored. Current value: feature_fraction=0.8014851034205616\n",
      "[100]\tvalid_0's rmse: 34877.3\n",
      "[LightGBM] [Warning] feature_fraction is set=0.8014851034205616, colsample_bytree=0.7633127490549889 will be ignored. Current value: feature_fraction=0.8014851034205616\n",
      "[100]\tvalid_0's rmse: 21927.7\n",
      "[LightGBM] [Warning] feature_fraction is set=0.8014851034205616, colsample_bytree=0.7633127490549889 will be ignored. Current value: feature_fraction=0.8014851034205616\n",
      "[100]\tvalid_0's rmse: 23910.1\n",
      "[LightGBM] [Warning] feature_fraction is set=0.8014851034205616, colsample_bytree=0.7633127490549889 will be ignored. Current value: feature_fraction=0.8014851034205616\n",
      "[100]\tvalid_0's rmse: 26911.7\n",
      "[LightGBM] [Warning] feature_fraction is set=0.8014851034205616, colsample_bytree=0.7633127490549889 will be ignored. Current value: feature_fraction=0.8014851034205616\n",
      "[100]\tvalid_0's rmse: 28400.1\n",
      "[LightGBM] [Warning] feature_fraction is set=0.8014851034205616, colsample_bytree=0.7633127490549889 will be ignored. Current value: feature_fraction=0.8014851034205616\n",
      "[100]\tvalid_0's rmse: 26607.9\n",
      "[LightGBM] [Warning] feature_fraction is set=0.8014851034205616, colsample_bytree=0.7633127490549889 will be ignored. Current value: feature_fraction=0.8014851034205616\n",
      "[100]\tvalid_0's rmse: 32212.8\n",
      "[LightGBM] [Warning] feature_fraction is set=0.8014851034205616, colsample_bytree=0.7633127490549889 will be ignored. Current value: feature_fraction=0.8014851034205616\n",
      "[100]\tvalid_0's rmse: 27103.5\n",
      "[LightGBM] [Warning] feature_fraction is set=0.8014851034205616, colsample_bytree=0.7633127490549889 will be ignored. Current value: feature_fraction=0.8014851034205616\n"
     ]
    },
    {
     "name": "stderr",
     "output_type": "stream",
     "text": [
      "\u001b[32m[I 2023-01-06 02:51:02,876]\u001b[0m Trial 42 finished with value: 1.7404028108880258 and parameters: {'boosting_type': 'gbrt', 'learning_rate': 0.0990497120937923, 'num_leaves': 101, 'max_depth': 7, 'min_child_samples': 46, 'max_bin': 999, 'subsample': 0.623265855690684, 'colsample_bytree': 0.7633127490549889, 'min_split_gain': 3.6954410455035415e-06, 'feature_fraction': 0.8014851034205616}. Best is trial 14 with value: 1.7323716779160485.\u001b[0m\n"
     ]
    },
    {
     "name": "stdout",
     "output_type": "stream",
     "text": [
      "[100]\tvalid_0's rmse: 28905.1\n",
      "[LightGBM] [Warning] feature_fraction is set=0.716242212259137, colsample_bytree=0.7574329149250038 will be ignored. Current value: feature_fraction=0.716242212259137\n"
     ]
    },
    {
     "name": "stderr",
     "output_type": "stream",
     "text": [
      "\u001b[32m[I 2023-01-06 02:51:03,835]\u001b[0m Trial 43 pruned. Trial was pruned at iteration 5.\u001b[0m\n",
      "\u001b[32m[I 2023-01-06 02:51:04,702]\u001b[0m Trial 44 pruned. Trial was pruned at iteration 5.\u001b[0m\n"
     ]
    },
    {
     "name": "stdout",
     "output_type": "stream",
     "text": [
      "[100]\tvalid_0's rmse: 28703.6\n",
      "[LightGBM] [Warning] feature_fraction is set=0.6711959957013585, colsample_bytree=0.8869090009234931 will be ignored. Current value: feature_fraction=0.6711959957013585\n",
      "[100]\tvalid_0's rmse: 34896\n",
      "[LightGBM] [Warning] feature_fraction is set=0.6711959957013585, colsample_bytree=0.8869090009234931 will be ignored. Current value: feature_fraction=0.6711959957013585\n",
      "[100]\tvalid_0's rmse: 21918\n",
      "[LightGBM] [Warning] feature_fraction is set=0.6711959957013585, colsample_bytree=0.8869090009234931 will be ignored. Current value: feature_fraction=0.6711959957013585\n",
      "[100]\tvalid_0's rmse: 23912.5\n",
      "[LightGBM] [Warning] feature_fraction is set=0.6711959957013585, colsample_bytree=0.8869090009234931 will be ignored. Current value: feature_fraction=0.6711959957013585\n",
      "[100]\tvalid_0's rmse: 26918.4\n",
      "[LightGBM] [Warning] feature_fraction is set=0.6711959957013585, colsample_bytree=0.8869090009234931 will be ignored. Current value: feature_fraction=0.6711959957013585\n",
      "[100]\tvalid_0's rmse: 28408.2\n",
      "[LightGBM] [Warning] feature_fraction is set=0.6711959957013585, colsample_bytree=0.8869090009234931 will be ignored. Current value: feature_fraction=0.6711959957013585\n",
      "[100]\tvalid_0's rmse: 26584.5\n",
      "[LightGBM] [Warning] feature_fraction is set=0.6711959957013585, colsample_bytree=0.8869090009234931 will be ignored. Current value: feature_fraction=0.6711959957013585\n",
      "[100]\tvalid_0's rmse: 32247.5\n",
      "[LightGBM] [Warning] feature_fraction is set=0.6711959957013585, colsample_bytree=0.8869090009234931 will be ignored. Current value: feature_fraction=0.6711959957013585\n",
      "[100]\tvalid_0's rmse: 27141.9\n",
      "[LightGBM] [Warning] feature_fraction is set=0.6711959957013585, colsample_bytree=0.8869090009234931 will be ignored. Current value: feature_fraction=0.6711959957013585\n"
     ]
    },
    {
     "name": "stderr",
     "output_type": "stream",
     "text": [
      "\u001b[32m[I 2023-01-06 02:51:34,221]\u001b[0m Trial 45 finished with value: 1.7571647317251586 and parameters: {'boosting_type': 'gbdt', 'learning_rate': 0.07795475305896023, 'num_leaves': 70, 'max_depth': 8, 'min_child_samples': 56, 'max_bin': 974, 'subsample': 0.2780213025916261, 'colsample_bytree': 0.8869090009234931, 'min_split_gain': 3.585007163681462e-05, 'feature_fraction': 0.6711959957013585}. Best is trial 14 with value: 1.7323716779160485.\u001b[0m\n"
     ]
    },
    {
     "name": "stdout",
     "output_type": "stream",
     "text": [
      "[100]\tvalid_0's rmse: 28910.2\n",
      "[LightGBM] [Warning] feature_fraction is set=0.7605401171906181, colsample_bytree=0.7758099583584965 will be ignored. Current value: feature_fraction=0.7605401171906181\n",
      "[100]\tvalid_0's rmse: 28667.5\n",
      "[LightGBM] [Warning] feature_fraction is set=0.7605401171906181, colsample_bytree=0.7758099583584965 will be ignored. Current value: feature_fraction=0.7605401171906181\n",
      "[100]\tvalid_0's rmse: 34879.4\n",
      "[LightGBM] [Warning] feature_fraction is set=0.7605401171906181, colsample_bytree=0.7758099583584965 will be ignored. Current value: feature_fraction=0.7605401171906181\n",
      "[100]\tvalid_0's rmse: 21914.5\n",
      "[LightGBM] [Warning] feature_fraction is set=0.7605401171906181, colsample_bytree=0.7758099583584965 will be ignored. Current value: feature_fraction=0.7605401171906181\n",
      "[100]\tvalid_0's rmse: 23906.2\n",
      "[LightGBM] [Warning] feature_fraction is set=0.7605401171906181, colsample_bytree=0.7758099583584965 will be ignored. Current value: feature_fraction=0.7605401171906181\n",
      "[100]\tvalid_0's rmse: 26903.5\n",
      "[LightGBM] [Warning] feature_fraction is set=0.7605401171906181, colsample_bytree=0.7758099583584965 will be ignored. Current value: feature_fraction=0.7605401171906181\n",
      "[100]\tvalid_0's rmse: 28405.9\n",
      "[LightGBM] [Warning] feature_fraction is set=0.7605401171906181, colsample_bytree=0.7758099583584965 will be ignored. Current value: feature_fraction=0.7605401171906181\n",
      "[100]\tvalid_0's rmse: 26603.6\n",
      "[LightGBM] [Warning] feature_fraction is set=0.7605401171906181, colsample_bytree=0.7758099583584965 will be ignored. Current value: feature_fraction=0.7605401171906181\n",
      "[100]\tvalid_0's rmse: 32223.5\n",
      "[LightGBM] [Warning] feature_fraction is set=0.7605401171906181, colsample_bytree=0.7758099583584965 will be ignored. Current value: feature_fraction=0.7605401171906181\n",
      "[100]\tvalid_0's rmse: 27120.6\n",
      "[LightGBM] [Warning] feature_fraction is set=0.7605401171906181, colsample_bytree=0.7758099583584965 will be ignored. Current value: feature_fraction=0.7605401171906181\n",
      "[100]\tvalid_0's rmse: 28900\n"
     ]
    },
    {
     "name": "stderr",
     "output_type": "stream",
     "text": [
      "\u001b[32m[I 2023-01-06 02:52:02,536]\u001b[0m Trial 46 finished with value: 1.7399406235310753 and parameters: {'boosting_type': 'gbrt', 'learning_rate': 0.09784452742068543, 'num_leaves': 98, 'max_depth': 7, 'min_child_samples': 47, 'max_bin': 750, 'subsample': 0.5456608849311998, 'colsample_bytree': 0.7758099583584965, 'min_split_gain': 0.006881362204140344, 'feature_fraction': 0.7605401171906181}. Best is trial 14 with value: 1.7323716779160485.\u001b[0m\n"
     ]
    },
    {
     "name": "stdout",
     "output_type": "stream",
     "text": [
      "[LightGBM] [Warning] feature_fraction is set=0.5786869813267359, colsample_bytree=0.7984842509422801 will be ignored. Current value: feature_fraction=0.5786869813267359\n"
     ]
    },
    {
     "name": "stderr",
     "output_type": "stream",
     "text": [
      "\u001b[32m[I 2023-01-06 02:52:03,535]\u001b[0m Trial 47 pruned. Trial was pruned at iteration 5.\u001b[0m\n",
      "\u001b[32m[I 2023-01-06 02:52:04,778]\u001b[0m Trial 48 pruned. Trial was pruned at iteration 5.\u001b[0m\n",
      "\u001b[32m[I 2023-01-06 02:52:05,755]\u001b[0m Trial 49 pruned. Trial was pruned at iteration 5.\u001b[0m\n",
      "\u001b[32m[I 2023-01-06 02:52:07,024]\u001b[0m Trial 50 pruned. Trial was pruned at iteration 20.\u001b[0m\n"
     ]
    },
    {
     "name": "stdout",
     "output_type": "stream",
     "text": [
      "[100]\tvalid_0's rmse: 28697.3\n",
      "[LightGBM] [Warning] feature_fraction is set=0.8044690939402351, colsample_bytree=0.7521898362903175 will be ignored. Current value: feature_fraction=0.8044690939402351\n",
      "[100]\tvalid_0's rmse: 34923.5\n",
      "[LightGBM] [Warning] feature_fraction is set=0.8044690939402351, colsample_bytree=0.7521898362903175 will be ignored. Current value: feature_fraction=0.8044690939402351\n",
      "[100]\tvalid_0's rmse: 21932.4\n",
      "[LightGBM] [Warning] feature_fraction is set=0.8044690939402351, colsample_bytree=0.7521898362903175 will be ignored. Current value: feature_fraction=0.8044690939402351\n",
      "[100]\tvalid_0's rmse: 23915.6\n",
      "[LightGBM] [Warning] feature_fraction is set=0.8044690939402351, colsample_bytree=0.7521898362903175 will be ignored. Current value: feature_fraction=0.8044690939402351\n",
      "[100]\tvalid_0's rmse: 26944.4\n",
      "[LightGBM] [Warning] feature_fraction is set=0.8044690939402351, colsample_bytree=0.7521898362903175 will be ignored. Current value: feature_fraction=0.8044690939402351\n",
      "[100]\tvalid_0's rmse: 28431.4\n",
      "[LightGBM] [Warning] feature_fraction is set=0.8044690939402351, colsample_bytree=0.7521898362903175 will be ignored. Current value: feature_fraction=0.8044690939402351\n",
      "[100]\tvalid_0's rmse: 26609.9\n",
      "[LightGBM] [Warning] feature_fraction is set=0.8044690939402351, colsample_bytree=0.7521898362903175 will be ignored. Current value: feature_fraction=0.8044690939402351\n",
      "[100]\tvalid_0's rmse: 32251.2\n",
      "[LightGBM] [Warning] feature_fraction is set=0.8044690939402351, colsample_bytree=0.7521898362903175 will be ignored. Current value: feature_fraction=0.8044690939402351\n",
      "[100]\tvalid_0's rmse: 27142.5\n",
      "[LightGBM] [Warning] feature_fraction is set=0.8044690939402351, colsample_bytree=0.7521898362903175 will be ignored. Current value: feature_fraction=0.8044690939402351\n",
      "[100]\tvalid_0's rmse: 28919\n"
     ]
    },
    {
     "name": "stderr",
     "output_type": "stream",
     "text": [
      "\u001b[32m[I 2023-01-06 02:52:35,161]\u001b[0m Trial 51 finished with value: 1.7494100343306562 and parameters: {'boosting_type': 'gbrt', 'learning_rate': 0.0850315001403202, 'num_leaves': 73, 'max_depth': 7, 'min_child_samples': 46, 'max_bin': 796, 'subsample': 0.6044639527730352, 'colsample_bytree': 0.7521898362903175, 'min_split_gain': 0.0008791120730969345, 'feature_fraction': 0.8044690939402351}. Best is trial 14 with value: 1.7323716779160485.\u001b[0m\n"
     ]
    },
    {
     "name": "stdout",
     "output_type": "stream",
     "text": [
      "[LightGBM] [Warning] feature_fraction is set=0.807665590941386, colsample_bytree=0.7769323574154607 will be ignored. Current value: feature_fraction=0.807665590941386\n",
      "[100]\tvalid_0's rmse: 28707.5\n",
      "[LightGBM] [Warning] feature_fraction is set=0.807665590941386, colsample_bytree=0.7769323574154607 will be ignored. Current value: feature_fraction=0.807665590941386\n",
      "[100]\tvalid_0's rmse: 34919.7\n",
      "[LightGBM] [Warning] feature_fraction is set=0.807665590941386, colsample_bytree=0.7769323574154607 will be ignored. Current value: feature_fraction=0.807665590941386\n",
      "[100]\tvalid_0's rmse: 21930.5\n",
      "[LightGBM] [Warning] feature_fraction is set=0.807665590941386, colsample_bytree=0.7769323574154607 will be ignored. Current value: feature_fraction=0.807665590941386\n",
      "[100]\tvalid_0's rmse: 23902.1\n",
      "[LightGBM] [Warning] feature_fraction is set=0.807665590941386, colsample_bytree=0.7769323574154607 will be ignored. Current value: feature_fraction=0.807665590941386\n",
      "[100]\tvalid_0's rmse: 26915\n",
      "[LightGBM] [Warning] feature_fraction is set=0.807665590941386, colsample_bytree=0.7769323574154607 will be ignored. Current value: feature_fraction=0.807665590941386\n",
      "[100]\tvalid_0's rmse: 28405.1\n",
      "[LightGBM] [Warning] feature_fraction is set=0.807665590941386, colsample_bytree=0.7769323574154607 will be ignored. Current value: feature_fraction=0.807665590941386\n",
      "[100]\tvalid_0's rmse: 26607.1\n",
      "[LightGBM] [Warning] feature_fraction is set=0.807665590941386, colsample_bytree=0.7769323574154607 will be ignored. Current value: feature_fraction=0.807665590941386\n",
      "[100]\tvalid_0's rmse: 32222.3\n",
      "[LightGBM] [Warning] feature_fraction is set=0.807665590941386, colsample_bytree=0.7769323574154607 will be ignored. Current value: feature_fraction=0.807665590941386\n",
      "[100]\tvalid_0's rmse: 27131.4\n",
      "[LightGBM] [Warning] feature_fraction is set=0.807665590941386, colsample_bytree=0.7769323574154607 will be ignored. Current value: feature_fraction=0.807665590941386\n"
     ]
    },
    {
     "name": "stderr",
     "output_type": "stream",
     "text": [
      "\u001b[32m[I 2023-01-06 02:53:00,270]\u001b[0m Trial 52 finished with value: 1.7449855931509013 and parameters: {'boosting_type': 'gbrt', 'learning_rate': 0.09999284072998711, 'num_leaves': 53, 'max_depth': 7, 'min_child_samples': 38, 'max_bin': 716, 'subsample': 0.39367340547219837, 'colsample_bytree': 0.7769323574154607, 'min_split_gain': 6.883140585487472e-06, 'feature_fraction': 0.807665590941386}. Best is trial 14 with value: 1.7323716779160485.\u001b[0m\n"
     ]
    },
    {
     "name": "stdout",
     "output_type": "stream",
     "text": [
      "[100]\tvalid_0's rmse: 28910.9\n",
      "[LightGBM] [Warning] feature_fraction is set=0.8816974399760098, colsample_bytree=0.7722165850486562 will be ignored. Current value: feature_fraction=0.8816974399760098\n"
     ]
    },
    {
     "name": "stderr",
     "output_type": "stream",
     "text": [
      "\u001b[32m[I 2023-01-06 02:53:01,591]\u001b[0m Trial 53 pruned. Trial was pruned at iteration 5.\u001b[0m\n",
      "\u001b[32m[I 2023-01-06 02:53:03,067]\u001b[0m Trial 54 pruned. Trial was pruned at iteration 5.\u001b[0m\n"
     ]
    },
    {
     "name": "stdout",
     "output_type": "stream",
     "text": [
      "[100]\tvalid_0's rmse: 28677.9\n",
      "[LightGBM] [Warning] feature_fraction is set=0.7596528585701543, colsample_bytree=0.7287978843716063 will be ignored. Current value: feature_fraction=0.7596528585701543\n",
      "[100]\tvalid_0's rmse: 34894.3\n",
      "[LightGBM] [Warning] feature_fraction is set=0.7596528585701543, colsample_bytree=0.7287978843716063 will be ignored. Current value: feature_fraction=0.7596528585701543\n",
      "[100]\tvalid_0's rmse: 21927.9\n",
      "[LightGBM] [Warning] feature_fraction is set=0.7596528585701543, colsample_bytree=0.7287978843716063 will be ignored. Current value: feature_fraction=0.7596528585701543\n",
      "[100]\tvalid_0's rmse: 23902.5\n",
      "[LightGBM] [Warning] feature_fraction is set=0.7596528585701543, colsample_bytree=0.7287978843716063 will be ignored. Current value: feature_fraction=0.7596528585701543\n",
      "[100]\tvalid_0's rmse: 26927.7\n",
      "[LightGBM] [Warning] feature_fraction is set=0.7596528585701543, colsample_bytree=0.7287978843716063 will be ignored. Current value: feature_fraction=0.7596528585701543\n",
      "[100]\tvalid_0's rmse: 28396\n",
      "[LightGBM] [Warning] feature_fraction is set=0.7596528585701543, colsample_bytree=0.7287978843716063 will be ignored. Current value: feature_fraction=0.7596528585701543\n",
      "[100]\tvalid_0's rmse: 26609\n",
      "[LightGBM] [Warning] feature_fraction is set=0.7596528585701543, colsample_bytree=0.7287978843716063 will be ignored. Current value: feature_fraction=0.7596528585701543\n",
      "[100]\tvalid_0's rmse: 32224.7\n",
      "[LightGBM] [Warning] feature_fraction is set=0.7596528585701543, colsample_bytree=0.7287978843716063 will be ignored. Current value: feature_fraction=0.7596528585701543\n",
      "[100]\tvalid_0's rmse: 27095.7\n",
      "[LightGBM] [Warning] feature_fraction is set=0.7596528585701543, colsample_bytree=0.7287978843716063 will be ignored. Current value: feature_fraction=0.7596528585701543\n",
      "[100]\tvalid_0's rmse: 28908.5\n"
     ]
    },
    {
     "name": "stderr",
     "output_type": "stream",
     "text": [
      "\u001b[32m[I 2023-01-06 02:53:36,961]\u001b[0m Trial 55 finished with value: 1.7518447437900453 and parameters: {'boosting_type': 'gbrt', 'learning_rate': 0.07158734591380286, 'num_leaves': 134, 'max_depth': 8, 'min_child_samples': 59, 'max_bin': 764, 'subsample': 0.5830784406013825, 'colsample_bytree': 0.7287978843716063, 'min_split_gain': 0.006228499434975384, 'feature_fraction': 0.7596528585701543}. Best is trial 14 with value: 1.7323716779160485.\u001b[0m\n"
     ]
    },
    {
     "name": "stdout",
     "output_type": "stream",
     "text": [
      "[LightGBM] [Warning] feature_fraction is set=0.904614816522186, colsample_bytree=0.8228010112696911 will be ignored. Current value: feature_fraction=0.904614816522186\n"
     ]
    },
    {
     "name": "stderr",
     "output_type": "stream",
     "text": [
      "\u001b[32m[I 2023-01-06 02:53:37,998]\u001b[0m Trial 56 pruned. Trial was pruned at iteration 5.\u001b[0m\n"
     ]
    },
    {
     "name": "stdout",
     "output_type": "stream",
     "text": [
      "[100]\tvalid_0's rmse: 28652.4\n",
      "[LightGBM] [Warning] feature_fraction is set=0.6586560178474256, colsample_bytree=0.6803850273093306 will be ignored. Current value: feature_fraction=0.6586560178474256\n",
      "[100]\tvalid_0's rmse: 34846.7\n",
      "[LightGBM] [Warning] feature_fraction is set=0.6586560178474256, colsample_bytree=0.6803850273093306 will be ignored. Current value: feature_fraction=0.6586560178474256\n",
      "[100]\tvalid_0's rmse: 21894.3\n",
      "[LightGBM] [Warning] feature_fraction is set=0.6586560178474256, colsample_bytree=0.6803850273093306 will be ignored. Current value: feature_fraction=0.6586560178474256\n",
      "[100]\tvalid_0's rmse: 23877.8\n",
      "[LightGBM] [Warning] feature_fraction is set=0.6586560178474256, colsample_bytree=0.6803850273093306 will be ignored. Current value: feature_fraction=0.6586560178474256\n",
      "[100]\tvalid_0's rmse: 26897.1\n",
      "[LightGBM] [Warning] feature_fraction is set=0.6586560178474256, colsample_bytree=0.6803850273093306 will be ignored. Current value: feature_fraction=0.6586560178474256\n",
      "[100]\tvalid_0's rmse: 28368.8\n",
      "[LightGBM] [Warning] feature_fraction is set=0.6586560178474256, colsample_bytree=0.6803850273093306 will be ignored. Current value: feature_fraction=0.6586560178474256\n",
      "[100]\tvalid_0's rmse: 26615.7\n",
      "[LightGBM] [Warning] feature_fraction is set=0.6586560178474256, colsample_bytree=0.6803850273093306 will be ignored. Current value: feature_fraction=0.6586560178474256\n",
      "[100]\tvalid_0's rmse: 32191\n",
      "[LightGBM] [Warning] feature_fraction is set=0.6586560178474256, colsample_bytree=0.6803850273093306 will be ignored. Current value: feature_fraction=0.6586560178474256\n",
      "[100]\tvalid_0's rmse: 27097.6\n",
      "[LightGBM] [Warning] feature_fraction is set=0.6586560178474256, colsample_bytree=0.6803850273093306 will be ignored. Current value: feature_fraction=0.6586560178474256\n"
     ]
    },
    {
     "name": "stderr",
     "output_type": "stream",
     "text": [
      "\u001b[32m[I 2023-01-06 02:54:09,175]\u001b[0m Trial 57 finished with value: 1.7426554845491906 and parameters: {'boosting_type': 'gbdt', 'learning_rate': 0.09862387060757416, 'num_leaves': 105, 'max_depth': 8, 'min_child_samples': 73, 'max_bin': 921, 'subsample': 0.4756733078575912, 'colsample_bytree': 0.6803850273093306, 'min_split_gain': 1.9141819903343745e-07, 'feature_fraction': 0.6586560178474256}. Best is trial 14 with value: 1.7323716779160485.\u001b[0m\n"
     ]
    },
    {
     "name": "stdout",
     "output_type": "stream",
     "text": [
      "[100]\tvalid_0's rmse: 28907.2\n",
      "[LightGBM] [Warning] feature_fraction is set=0.7174597418676923, colsample_bytree=0.6963073595399356 will be ignored. Current value: feature_fraction=0.7174597418676923\n"
     ]
    },
    {
     "name": "stderr",
     "output_type": "stream",
     "text": [
      "\u001b[32m[I 2023-01-06 02:54:11,504]\u001b[0m Trial 58 pruned. Trial was pruned at iteration 66.\u001b[0m\n",
      "\u001b[32m[I 2023-01-06 02:54:12,550]\u001b[0m Trial 59 pruned. Trial was pruned at iteration 5.\u001b[0m\n",
      "\u001b[32m[I 2023-01-06 02:54:13,970]\u001b[0m Trial 60 pruned. Trial was pruned at iteration 5.\u001b[0m\n"
     ]
    },
    {
     "name": "stdout",
     "output_type": "stream",
     "text": [
      "[100]\tvalid_0's rmse: 28678.4\n",
      "[LightGBM] [Warning] feature_fraction is set=0.6518498963216807, colsample_bytree=0.6834073740827312 will be ignored. Current value: feature_fraction=0.6518498963216807\n",
      "[100]\tvalid_0's rmse: 34885.3\n",
      "[LightGBM] [Warning] feature_fraction is set=0.6518498963216807, colsample_bytree=0.6834073740827312 will be ignored. Current value: feature_fraction=0.6518498963216807\n",
      "[100]\tvalid_0's rmse: 21871.1\n",
      "[LightGBM] [Warning] feature_fraction is set=0.6518498963216807, colsample_bytree=0.6834073740827312 will be ignored. Current value: feature_fraction=0.6518498963216807\n",
      "[100]\tvalid_0's rmse: 23874.5\n",
      "[LightGBM] [Warning] feature_fraction is set=0.6518498963216807, colsample_bytree=0.6834073740827312 will be ignored. Current value: feature_fraction=0.6518498963216807\n",
      "[100]\tvalid_0's rmse: 26899.8\n",
      "[LightGBM] [Warning] feature_fraction is set=0.6518498963216807, colsample_bytree=0.6834073740827312 will be ignored. Current value: feature_fraction=0.6518498963216807\n",
      "[100]\tvalid_0's rmse: 28382.8\n",
      "[LightGBM] [Warning] feature_fraction is set=0.6518498963216807, colsample_bytree=0.6834073740827312 will be ignored. Current value: feature_fraction=0.6518498963216807\n",
      "[100]\tvalid_0's rmse: 26576.7\n",
      "[LightGBM] [Warning] feature_fraction is set=0.6518498963216807, colsample_bytree=0.6834073740827312 will be ignored. Current value: feature_fraction=0.6518498963216807\n",
      "[100]\tvalid_0's rmse: 32214\n",
      "[LightGBM] [Warning] feature_fraction is set=0.6518498963216807, colsample_bytree=0.6834073740827312 will be ignored. Current value: feature_fraction=0.6518498963216807\n",
      "[100]\tvalid_0's rmse: 27113.1\n",
      "[LightGBM] [Warning] feature_fraction is set=0.6518498963216807, colsample_bytree=0.6834073740827312 will be ignored. Current value: feature_fraction=0.6518498963216807\n"
     ]
    },
    {
     "name": "stderr",
     "output_type": "stream",
     "text": [
      "\u001b[32m[I 2023-01-06 02:54:46,882]\u001b[0m Trial 61 finished with value: 1.7522628244962188 and parameters: {'boosting_type': 'gbdt', 'learning_rate': 0.08827400924327247, 'num_leaves': 106, 'max_depth': 8, 'min_child_samples': 74, 'max_bin': 898, 'subsample': 0.48774487391714083, 'colsample_bytree': 0.6834073740827312, 'min_split_gain': 1.9631989502642009e-07, 'feature_fraction': 0.6518498963216807}. Best is trial 14 with value: 1.7323716779160485.\u001b[0m\n"
     ]
    },
    {
     "name": "stdout",
     "output_type": "stream",
     "text": [
      "[100]\tvalid_0's rmse: 28888.8\n",
      "[LightGBM] [Warning] feature_fraction is set=0.6091464886779203, colsample_bytree=0.7324498339968663 will be ignored. Current value: feature_fraction=0.6091464886779203\n",
      "[100]\tvalid_0's rmse: 28642.3\n",
      "[LightGBM] [Warning] feature_fraction is set=0.6091464886779203, colsample_bytree=0.7324498339968663 will be ignored. Current value: feature_fraction=0.6091464886779203\n",
      "[100]\tvalid_0's rmse: 34841\n",
      "[LightGBM] [Warning] feature_fraction is set=0.6091464886779203, colsample_bytree=0.7324498339968663 will be ignored. Current value: feature_fraction=0.6091464886779203\n",
      "[100]\tvalid_0's rmse: 21863\n",
      "[LightGBM] [Warning] feature_fraction is set=0.6091464886779203, colsample_bytree=0.7324498339968663 will be ignored. Current value: feature_fraction=0.6091464886779203\n",
      "[100]\tvalid_0's rmse: 23856.1\n",
      "[LightGBM] [Warning] feature_fraction is set=0.6091464886779203, colsample_bytree=0.7324498339968663 will be ignored. Current value: feature_fraction=0.6091464886779203\n",
      "[100]\tvalid_0's rmse: 26885.2\n",
      "[LightGBM] [Warning] feature_fraction is set=0.6091464886779203, colsample_bytree=0.7324498339968663 will be ignored. Current value: feature_fraction=0.6091464886779203\n",
      "[100]\tvalid_0's rmse: 28353.7\n",
      "[LightGBM] [Warning] feature_fraction is set=0.6091464886779203, colsample_bytree=0.7324498339968663 will be ignored. Current value: feature_fraction=0.6091464886779203\n",
      "[100]\tvalid_0's rmse: 26594.5\n",
      "[LightGBM] [Warning] feature_fraction is set=0.6091464886779203, colsample_bytree=0.7324498339968663 will be ignored. Current value: feature_fraction=0.6091464886779203\n",
      "[100]\tvalid_0's rmse: 32182.6\n",
      "[LightGBM] [Warning] feature_fraction is set=0.6091464886779203, colsample_bytree=0.7324498339968663 will be ignored. Current value: feature_fraction=0.6091464886779203\n",
      "[100]\tvalid_0's rmse: 27070.9\n",
      "[LightGBM] [Warning] feature_fraction is set=0.6091464886779203, colsample_bytree=0.7324498339968663 will be ignored. Current value: feature_fraction=0.6091464886779203\n"
     ]
    },
    {
     "name": "stderr",
     "output_type": "stream",
     "text": [
      "\u001b[32m[I 2023-01-06 02:55:19,871]\u001b[0m Trial 62 finished with value: 1.7539940471205095 and parameters: {'boosting_type': 'gbdt', 'learning_rate': 0.09505776931297741, 'num_leaves': 124, 'max_depth': 9, 'min_child_samples': 99, 'max_bin': 940, 'subsample': 0.6406294194098169, 'colsample_bytree': 0.7324498339968663, 'min_split_gain': 3.863757333454047e-08, 'feature_fraction': 0.6091464886779203}. Best is trial 14 with value: 1.7323716779160485.\u001b[0m\n"
     ]
    },
    {
     "name": "stdout",
     "output_type": "stream",
     "text": [
      "[100]\tvalid_0's rmse: 28884.8\n",
      "[LightGBM] [Warning] feature_fraction is set=0.7851147661154849, colsample_bytree=0.5691304928154259 will be ignored. Current value: feature_fraction=0.7851147661154849\n",
      "[100]\tvalid_0's rmse: 28666.2\n",
      "[LightGBM] [Warning] feature_fraction is set=0.7851147661154849, colsample_bytree=0.5691304928154259 will be ignored. Current value: feature_fraction=0.7851147661154849\n",
      "[100]\tvalid_0's rmse: 34874.6\n",
      "[LightGBM] [Warning] feature_fraction is set=0.7851147661154849, colsample_bytree=0.5691304928154259 will be ignored. Current value: feature_fraction=0.7851147661154849\n",
      "[100]\tvalid_0's rmse: 21912\n",
      "[LightGBM] [Warning] feature_fraction is set=0.7851147661154849, colsample_bytree=0.5691304928154259 will be ignored. Current value: feature_fraction=0.7851147661154849\n",
      "[100]\tvalid_0's rmse: 23890.6\n",
      "[LightGBM] [Warning] feature_fraction is set=0.7851147661154849, colsample_bytree=0.5691304928154259 will be ignored. Current value: feature_fraction=0.7851147661154849\n",
      "[100]\tvalid_0's rmse: 26904.8\n",
      "[LightGBM] [Warning] feature_fraction is set=0.7851147661154849, colsample_bytree=0.5691304928154259 will be ignored. Current value: feature_fraction=0.7851147661154849\n",
      "[100]\tvalid_0's rmse: 28384.1\n",
      "[LightGBM] [Warning] feature_fraction is set=0.7851147661154849, colsample_bytree=0.5691304928154259 will be ignored. Current value: feature_fraction=0.7851147661154849\n",
      "[100]\tvalid_0's rmse: 26622.7\n",
      "[LightGBM] [Warning] feature_fraction is set=0.7851147661154849, colsample_bytree=0.5691304928154259 will be ignored. Current value: feature_fraction=0.7851147661154849\n",
      "[100]\tvalid_0's rmse: 32206.4\n",
      "[LightGBM] [Warning] feature_fraction is set=0.7851147661154849, colsample_bytree=0.5691304928154259 will be ignored. Current value: feature_fraction=0.7851147661154849\n",
      "[100]\tvalid_0's rmse: 27090.9\n",
      "[LightGBM] [Warning] feature_fraction is set=0.7851147661154849, colsample_bytree=0.5691304928154259 will be ignored. Current value: feature_fraction=0.7851147661154849\n"
     ]
    },
    {
     "name": "stderr",
     "output_type": "stream",
     "text": [
      "\u001b[32m[I 2023-01-06 02:55:49,995]\u001b[0m Trial 63 finished with value: 1.7437806289487052 and parameters: {'boosting_type': 'gbdt', 'learning_rate': 0.08231061682309908, 'num_leaves': 100, 'max_depth': 8, 'min_child_samples': 72, 'max_bin': 847, 'subsample': 0.46251077614318786, 'colsample_bytree': 0.5691304928154259, 'min_split_gain': 2.0625161789473163e-06, 'feature_fraction': 0.7851147661154849}. Best is trial 14 with value: 1.7323716779160485.\u001b[0m\n"
     ]
    },
    {
     "name": "stdout",
     "output_type": "stream",
     "text": [
      "[100]\tvalid_0's rmse: 28887.6\n",
      "[LightGBM] [Warning] feature_fraction is set=0.6505794142591379, colsample_bytree=0.6649807698853611 will be ignored. Current value: feature_fraction=0.6505794142591379\n",
      "[100]\tvalid_0's rmse: 28691.5\n",
      "[LightGBM] [Warning] feature_fraction is set=0.6505794142591379, colsample_bytree=0.6649807698853611 will be ignored. Current value: feature_fraction=0.6505794142591379\n",
      "[100]\tvalid_0's rmse: 34918.4\n",
      "[LightGBM] [Warning] feature_fraction is set=0.6505794142591379, colsample_bytree=0.6649807698853611 will be ignored. Current value: feature_fraction=0.6505794142591379\n",
      "[100]\tvalid_0's rmse: 21924.8\n",
      "[LightGBM] [Warning] feature_fraction is set=0.6505794142591379, colsample_bytree=0.6649807698853611 will be ignored. Current value: feature_fraction=0.6505794142591379\n",
      "[100]\tvalid_0's rmse: 23920.4\n",
      "[LightGBM] [Warning] feature_fraction is set=0.6505794142591379, colsample_bytree=0.6649807698853611 will be ignored. Current value: feature_fraction=0.6505794142591379\n",
      "[100]\tvalid_0's rmse: 26926.3\n",
      "[LightGBM] [Warning] feature_fraction is set=0.6505794142591379, colsample_bytree=0.6649807698853611 will be ignored. Current value: feature_fraction=0.6505794142591379\n",
      "[100]\tvalid_0's rmse: 28416.3\n",
      "[LightGBM] [Warning] feature_fraction is set=0.6505794142591379, colsample_bytree=0.6649807698853611 will be ignored. Current value: feature_fraction=0.6505794142591379\n",
      "[100]\tvalid_0's rmse: 26583.8\n",
      "[LightGBM] [Warning] feature_fraction is set=0.6505794142591379, colsample_bytree=0.6649807698853611 will be ignored. Current value: feature_fraction=0.6505794142591379\n",
      "[100]\tvalid_0's rmse: 32240.8\n",
      "[LightGBM] [Warning] feature_fraction is set=0.6505794142591379, colsample_bytree=0.6649807698853611 will be ignored. Current value: feature_fraction=0.6505794142591379\n",
      "[100]\tvalid_0's rmse: 27143.5\n",
      "[LightGBM] [Warning] feature_fraction is set=0.6505794142591379, colsample_bytree=0.6649807698853611 will be ignored. Current value: feature_fraction=0.6505794142591379\n"
     ]
    },
    {
     "name": "stderr",
     "output_type": "stream",
     "text": [
      "\u001b[32m[I 2023-01-06 02:56:19,017]\u001b[0m Trial 64 finished with value: 1.7462750892939987 and parameters: {'boosting_type': 'gbdt', 'learning_rate': 0.0971012709443435, 'num_leaves': 93, 'max_depth': 7, 'min_child_samples': 80, 'max_bin': 788, 'subsample': 0.5095853715344641, 'colsample_bytree': 0.6649807698853611, 'min_split_gain': 3.628934953812446e-07, 'feature_fraction': 0.6505794142591379}. Best is trial 14 with value: 1.7323716779160485.\u001b[0m\n"
     ]
    },
    {
     "name": "stdout",
     "output_type": "stream",
     "text": [
      "[100]\tvalid_0's rmse: 28907.1\n",
      "[LightGBM] [Warning] feature_fraction is set=0.8201323080989339, colsample_bytree=0.7508673010387681 will be ignored. Current value: feature_fraction=0.8201323080989339\n"
     ]
    },
    {
     "name": "stderr",
     "output_type": "stream",
     "text": [
      "\u001b[32m[I 2023-01-06 02:56:19,879]\u001b[0m Trial 65 pruned. Trial was pruned at iteration 5.\u001b[0m\n",
      "\u001b[32m[I 2023-01-06 02:56:21,221]\u001b[0m Trial 66 pruned. Trial was pruned at iteration 5.\u001b[0m\n"
     ]
    },
    {
     "name": "stdout",
     "output_type": "stream",
     "text": [
      "[100]\tvalid_0's rmse: 28679.1\n",
      "[LightGBM] [Warning] feature_fraction is set=0.706275983544837, colsample_bytree=0.7914750590939991 will be ignored. Current value: feature_fraction=0.706275983544837\n",
      "[100]\tvalid_0's rmse: 34911.3\n",
      "[LightGBM] [Warning] feature_fraction is set=0.706275983544837, colsample_bytree=0.7914750590939991 will be ignored. Current value: feature_fraction=0.706275983544837\n",
      "[100]\tvalid_0's rmse: 21927\n",
      "[LightGBM] [Warning] feature_fraction is set=0.706275983544837, colsample_bytree=0.7914750590939991 will be ignored. Current value: feature_fraction=0.706275983544837\n",
      "[100]\tvalid_0's rmse: 23924.4\n",
      "[LightGBM] [Warning] feature_fraction is set=0.706275983544837, colsample_bytree=0.7914750590939991 will be ignored. Current value: feature_fraction=0.706275983544837\n",
      "[100]\tvalid_0's rmse: 26928\n",
      "[LightGBM] [Warning] feature_fraction is set=0.706275983544837, colsample_bytree=0.7914750590939991 will be ignored. Current value: feature_fraction=0.706275983544837\n",
      "[100]\tvalid_0's rmse: 28408.5\n",
      "[LightGBM] [Warning] feature_fraction is set=0.706275983544837, colsample_bytree=0.7914750590939991 will be ignored. Current value: feature_fraction=0.706275983544837\n",
      "[100]\tvalid_0's rmse: 26605.4\n",
      "[LightGBM] [Warning] feature_fraction is set=0.706275983544837, colsample_bytree=0.7914750590939991 will be ignored. Current value: feature_fraction=0.706275983544837\n",
      "[100]\tvalid_0's rmse: 32231.3\n",
      "[LightGBM] [Warning] feature_fraction is set=0.706275983544837, colsample_bytree=0.7914750590939991 will be ignored. Current value: feature_fraction=0.706275983544837\n",
      "[100]\tvalid_0's rmse: 27119.9\n",
      "[LightGBM] [Warning] feature_fraction is set=0.706275983544837, colsample_bytree=0.7914750590939991 will be ignored. Current value: feature_fraction=0.706275983544837\n"
     ]
    },
    {
     "name": "stderr",
     "output_type": "stream",
     "text": [
      "\u001b[32m[I 2023-01-06 02:56:49,814]\u001b[0m Trial 67 finished with value: 1.7414335988039382 and parameters: {'boosting_type': 'gbrt', 'learning_rate': 0.09927456511451525, 'num_leaves': 109, 'max_depth': 7, 'min_child_samples': 55, 'max_bin': 817, 'subsample': 0.5526273206794634, 'colsample_bytree': 0.7914750590939991, 'min_split_gain': 9.236972104604172e-07, 'feature_fraction': 0.706275983544837}. Best is trial 14 with value: 1.7323716779160485.\u001b[0m\n"
     ]
    },
    {
     "name": "stdout",
     "output_type": "stream",
     "text": [
      "[100]\tvalid_0's rmse: 28896.9\n",
      "[LightGBM] [Warning] feature_fraction is set=0.6967139114974431, colsample_bytree=0.8720306029313353 will be ignored. Current value: feature_fraction=0.6967139114974431\n"
     ]
    },
    {
     "name": "stderr",
     "output_type": "stream",
     "text": [
      "\u001b[32m[I 2023-01-06 02:56:50,698]\u001b[0m Trial 68 pruned. Trial was pruned at iteration 5.\u001b[0m\n",
      "\u001b[32m[I 2023-01-06 02:56:51,919]\u001b[0m Trial 69 pruned. Trial was pruned at iteration 5.\u001b[0m\n",
      "\u001b[32m[I 2023-01-06 02:56:52,711]\u001b[0m Trial 70 pruned. Trial was pruned at iteration 5.\u001b[0m\n",
      "\u001b[32m[I 2023-01-06 02:56:55,142]\u001b[0m Trial 71 pruned. Trial was pruned at iteration 59.\u001b[0m\n"
     ]
    },
    {
     "name": "stdout",
     "output_type": "stream",
     "text": [
      "[100]\tvalid_0's rmse: 28656.9\n",
      "[LightGBM] [Warning] feature_fraction is set=0.7050624090909358, colsample_bytree=0.8037615608500118 will be ignored. Current value: feature_fraction=0.7050624090909358\n",
      "[100]\tvalid_0's rmse: 34851.2\n",
      "[LightGBM] [Warning] feature_fraction is set=0.7050624090909358, colsample_bytree=0.8037615608500118 will be ignored. Current value: feature_fraction=0.7050624090909358\n",
      "[100]\tvalid_0's rmse: 21904.8\n",
      "[LightGBM] [Warning] feature_fraction is set=0.7050624090909358, colsample_bytree=0.8037615608500118 will be ignored. Current value: feature_fraction=0.7050624090909358\n",
      "[100]\tvalid_0's rmse: 23875.3\n",
      "[LightGBM] [Warning] feature_fraction is set=0.7050624090909358, colsample_bytree=0.8037615608500118 will be ignored. Current value: feature_fraction=0.7050624090909358\n",
      "[100]\tvalid_0's rmse: 26893.1\n",
      "[LightGBM] [Warning] feature_fraction is set=0.7050624090909358, colsample_bytree=0.8037615608500118 will be ignored. Current value: feature_fraction=0.7050624090909358\n",
      "[100]\tvalid_0's rmse: 28359.9\n",
      "[LightGBM] [Warning] feature_fraction is set=0.7050624090909358, colsample_bytree=0.8037615608500118 will be ignored. Current value: feature_fraction=0.7050624090909358\n",
      "[100]\tvalid_0's rmse: 26620.8\n",
      "[LightGBM] [Warning] feature_fraction is set=0.7050624090909358, colsample_bytree=0.8037615608500118 will be ignored. Current value: feature_fraction=0.7050624090909358\n",
      "[100]\tvalid_0's rmse: 32185.7\n",
      "[LightGBM] [Warning] feature_fraction is set=0.7050624090909358, colsample_bytree=0.8037615608500118 will be ignored. Current value: feature_fraction=0.7050624090909358\n",
      "[100]\tvalid_0's rmse: 27081.7\n",
      "[LightGBM] [Warning] feature_fraction is set=0.7050624090909358, colsample_bytree=0.8037615608500118 will be ignored. Current value: feature_fraction=0.7050624090909358\n"
     ]
    },
    {
     "name": "stderr",
     "output_type": "stream",
     "text": [
      "\u001b[32m[I 2023-01-06 02:57:26,052]\u001b[0m Trial 72 finished with value: 1.7413157367675793 and parameters: {'boosting_type': 'gbrt', 'learning_rate': 0.09890734282712825, 'num_leaves': 105, 'max_depth': 8, 'min_child_samples': 56, 'max_bin': 813, 'subsample': 0.5635123868971494, 'colsample_bytree': 0.8037615608500118, 'min_split_gain': 2.095923177423962e-06, 'feature_fraction': 0.7050624090909358}. Best is trial 14 with value: 1.7323716779160485.\u001b[0m\n"
     ]
    },
    {
     "name": "stdout",
     "output_type": "stream",
     "text": [
      "[100]\tvalid_0's rmse: 28902.3\n",
      "[LightGBM] [Warning] feature_fraction is set=0.7477072560148768, colsample_bytree=0.8048557454970718 will be ignored. Current value: feature_fraction=0.7477072560148768\n"
     ]
    },
    {
     "name": "stderr",
     "output_type": "stream",
     "text": [
      "\u001b[32m[I 2023-01-06 02:57:26,959]\u001b[0m Trial 73 pruned. Trial was pruned at iteration 5.\u001b[0m\n"
     ]
    },
    {
     "name": "stdout",
     "output_type": "stream",
     "text": [
      "[100]\tvalid_0's rmse: 28658.9\n",
      "[LightGBM] [Warning] feature_fraction is set=0.6937601765326703, colsample_bytree=0.7903267659618275 will be ignored. Current value: feature_fraction=0.6937601765326703\n",
      "[100]\tvalid_0's rmse: 34875.7\n",
      "[LightGBM] [Warning] feature_fraction is set=0.6937601765326703, colsample_bytree=0.7903267659618275 will be ignored. Current value: feature_fraction=0.6937601765326703\n",
      "[100]\tvalid_0's rmse: 21918.3\n",
      "[LightGBM] [Warning] feature_fraction is set=0.6937601765326703, colsample_bytree=0.7903267659618275 will be ignored. Current value: feature_fraction=0.6937601765326703\n",
      "[100]\tvalid_0's rmse: 23880.6\n",
      "[LightGBM] [Warning] feature_fraction is set=0.6937601765326703, colsample_bytree=0.7903267659618275 will be ignored. Current value: feature_fraction=0.6937601765326703\n",
      "[100]\tvalid_0's rmse: 26895.6\n",
      "[LightGBM] [Warning] feature_fraction is set=0.6937601765326703, colsample_bytree=0.7903267659618275 will be ignored. Current value: feature_fraction=0.6937601765326703\n",
      "[100]\tvalid_0's rmse: 28388\n",
      "[LightGBM] [Warning] feature_fraction is set=0.6937601765326703, colsample_bytree=0.7903267659618275 will be ignored. Current value: feature_fraction=0.6937601765326703\n",
      "[100]\tvalid_0's rmse: 26621.2\n",
      "[LightGBM] [Warning] feature_fraction is set=0.6937601765326703, colsample_bytree=0.7903267659618275 will be ignored. Current value: feature_fraction=0.6937601765326703\n",
      "[100]\tvalid_0's rmse: 32200.1\n",
      "[LightGBM] [Warning] feature_fraction is set=0.6937601765326703, colsample_bytree=0.7903267659618275 will be ignored. Current value: feature_fraction=0.6937601765326703\n",
      "[100]\tvalid_0's rmse: 27086.9\n",
      "[LightGBM] [Warning] feature_fraction is set=0.6937601765326703, colsample_bytree=0.7903267659618275 will be ignored. Current value: feature_fraction=0.6937601765326703\n"
     ]
    },
    {
     "name": "stderr",
     "output_type": "stream",
     "text": [
      "\u001b[32m[I 2023-01-06 02:57:59,143]\u001b[0m Trial 74 finished with value: 1.7480116022363528 and parameters: {'boosting_type': 'gbrt', 'learning_rate': 0.08656175853803412, 'num_leaves': 134, 'max_depth': 8, 'min_child_samples': 49, 'max_bin': 678, 'subsample': 0.6092901662397442, 'colsample_bytree': 0.7903267659618275, 'min_split_gain': 1.0415445240009652e-06, 'feature_fraction': 0.6937601765326703}. Best is trial 14 with value: 1.7323716779160485.\u001b[0m\n"
     ]
    },
    {
     "name": "stdout",
     "output_type": "stream",
     "text": [
      "[100]\tvalid_0's rmse: 28893.8\n",
      "[LightGBM] [Warning] feature_fraction is set=0.7827375895514554, colsample_bytree=0.8647441495973531 will be ignored. Current value: feature_fraction=0.7827375895514554\n"
     ]
    },
    {
     "name": "stderr",
     "output_type": "stream",
     "text": [
      "\u001b[32m[I 2023-01-06 02:58:00,158]\u001b[0m Trial 75 pruned. Trial was pruned at iteration 5.\u001b[0m\n",
      "\u001b[32m[I 2023-01-06 02:58:01,314]\u001b[0m Trial 76 pruned. Trial was pruned at iteration 5.\u001b[0m\n",
      "\u001b[32m[I 2023-01-06 02:58:03,257]\u001b[0m Trial 77 pruned. Trial was pruned at iteration 44.\u001b[0m\n",
      "\u001b[32m[I 2023-01-06 02:58:04,602]\u001b[0m Trial 78 pruned. Trial was pruned at iteration 5.\u001b[0m\n"
     ]
    },
    {
     "name": "stdout",
     "output_type": "stream",
     "text": [
      "[100]\tvalid_0's rmse: 28638.6\n",
      "[LightGBM] [Warning] feature_fraction is set=0.7329913710517466, colsample_bytree=0.9474630439784255 will be ignored. Current value: feature_fraction=0.7329913710517466\n",
      "[100]\tvalid_0's rmse: 34851.2\n",
      "[LightGBM] [Warning] feature_fraction is set=0.7329913710517466, colsample_bytree=0.9474630439784255 will be ignored. Current value: feature_fraction=0.7329913710517466\n",
      "[100]\tvalid_0's rmse: 21912.3\n",
      "[LightGBM] [Warning] feature_fraction is set=0.7329913710517466, colsample_bytree=0.9474630439784255 will be ignored. Current value: feature_fraction=0.7329913710517466\n",
      "[100]\tvalid_0's rmse: 23873.7\n",
      "[LightGBM] [Warning] feature_fraction is set=0.7329913710517466, colsample_bytree=0.9474630439784255 will be ignored. Current value: feature_fraction=0.7329913710517466\n",
      "[100]\tvalid_0's rmse: 26886.5\n",
      "[LightGBM] [Warning] feature_fraction is set=0.7329913710517466, colsample_bytree=0.9474630439784255 will be ignored. Current value: feature_fraction=0.7329913710517466\n",
      "[100]\tvalid_0's rmse: 28359.7\n",
      "[LightGBM] [Warning] feature_fraction is set=0.7329913710517466, colsample_bytree=0.9474630439784255 will be ignored. Current value: feature_fraction=0.7329913710517466\n",
      "[100]\tvalid_0's rmse: 26646.2\n",
      "[LightGBM] [Warning] feature_fraction is set=0.7329913710517466, colsample_bytree=0.9474630439784255 will be ignored. Current value: feature_fraction=0.7329913710517466\n",
      "[100]\tvalid_0's rmse: 32181.3\n",
      "[LightGBM] [Warning] feature_fraction is set=0.7329913710517466, colsample_bytree=0.9474630439784255 will be ignored. Current value: feature_fraction=0.7329913710517466\n",
      "[100]\tvalid_0's rmse: 27066.6\n",
      "[LightGBM] [Warning] feature_fraction is set=0.7329913710517466, colsample_bytree=0.9474630439784255 will be ignored. Current value: feature_fraction=0.7329913710517466\n",
      "[100]\tvalid_0's rmse: 28894.1\n"
     ]
    },
    {
     "name": "stderr",
     "output_type": "stream",
     "text": [
      "\u001b[32m[I 2023-01-06 02:58:37,898]\u001b[0m Trial 79 finished with value: 1.7328323208846854 and parameters: {'boosting_type': 'gbrt', 'learning_rate': 0.09910638869069581, 'num_leaves': 129, 'max_depth': 8, 'min_child_samples': 39, 'max_bin': 671, 'subsample': 0.7682179771055414, 'colsample_bytree': 0.9474630439784255, 'min_split_gain': 6.998563700203989e-06, 'feature_fraction': 0.7329913710517466}. Best is trial 14 with value: 1.7323716779160485.\u001b[0m\n"
     ]
    },
    {
     "name": "stdout",
     "output_type": "stream",
     "text": [
      "[LightGBM] [Warning] feature_fraction is set=0.7322141553894416, colsample_bytree=0.9778340064255844 will be ignored. Current value: feature_fraction=0.7322141553894416\n"
     ]
    },
    {
     "name": "stderr",
     "output_type": "stream",
     "text": [
      "\u001b[32m[I 2023-01-06 02:58:38,960]\u001b[0m Trial 80 pruned. Trial was pruned at iteration 5.\u001b[0m\n"
     ]
    },
    {
     "name": "stdout",
     "output_type": "stream",
     "text": [
      "[100]\tvalid_0's rmse: 28651.2\n",
      "[LightGBM] [Warning] feature_fraction is set=0.7688414041168175, colsample_bytree=0.722845101075432 will be ignored. Current value: feature_fraction=0.7688414041168175\n",
      "[100]\tvalid_0's rmse: 34860.4\n",
      "[LightGBM] [Warning] feature_fraction is set=0.7688414041168175, colsample_bytree=0.722845101075432 will be ignored. Current value: feature_fraction=0.7688414041168175\n",
      "[100]\tvalid_0's rmse: 21901\n",
      "[LightGBM] [Warning] feature_fraction is set=0.7688414041168175, colsample_bytree=0.722845101075432 will be ignored. Current value: feature_fraction=0.7688414041168175\n",
      "[100]\tvalid_0's rmse: 23880.1\n",
      "[LightGBM] [Warning] feature_fraction is set=0.7688414041168175, colsample_bytree=0.722845101075432 will be ignored. Current value: feature_fraction=0.7688414041168175\n",
      "[100]\tvalid_0's rmse: 26900.5\n",
      "[LightGBM] [Warning] feature_fraction is set=0.7688414041168175, colsample_bytree=0.722845101075432 will be ignored. Current value: feature_fraction=0.7688414041168175\n",
      "[100]\tvalid_0's rmse: 28369.9\n",
      "[LightGBM] [Warning] feature_fraction is set=0.7688414041168175, colsample_bytree=0.722845101075432 will be ignored. Current value: feature_fraction=0.7688414041168175\n",
      "[100]\tvalid_0's rmse: 26634.1\n",
      "[LightGBM] [Warning] feature_fraction is set=0.7688414041168175, colsample_bytree=0.722845101075432 will be ignored. Current value: feature_fraction=0.7688414041168175\n",
      "[100]\tvalid_0's rmse: 32178.3\n",
      "[LightGBM] [Warning] feature_fraction is set=0.7688414041168175, colsample_bytree=0.722845101075432 will be ignored. Current value: feature_fraction=0.7688414041168175\n",
      "[100]\tvalid_0's rmse: 27062.7\n",
      "[LightGBM] [Warning] feature_fraction is set=0.7688414041168175, colsample_bytree=0.722845101075432 will be ignored. Current value: feature_fraction=0.7688414041168175\n",
      "[100]\tvalid_0's rmse: 28894.8\n"
     ]
    },
    {
     "name": "stderr",
     "output_type": "stream",
     "text": [
      "\u001b[32m[I 2023-01-06 02:59:11,323]\u001b[0m Trial 81 finished with value: 1.7352010798920248 and parameters: {'boosting_type': 'gbrt', 'learning_rate': 0.09684298731388397, 'num_leaves': 117, 'max_depth': 8, 'min_child_samples': 39, 'max_bin': 752, 'subsample': 0.740308495965814, 'colsample_bytree': 0.722845101075432, 'min_split_gain': 9.185639798431758e-06, 'feature_fraction': 0.7688414041168175}. Best is trial 14 with value: 1.7323716779160485.\u001b[0m\n"
     ]
    },
    {
     "name": "stdout",
     "output_type": "stream",
     "text": [
      "[LightGBM] [Warning] feature_fraction is set=0.7718835497213962, colsample_bytree=0.7206535023225381 will be ignored. Current value: feature_fraction=0.7718835497213962\n",
      "[100]\tvalid_0's rmse: 28648.1\n",
      "[LightGBM] [Warning] feature_fraction is set=0.7718835497213962, colsample_bytree=0.7206535023225381 will be ignored. Current value: feature_fraction=0.7718835497213962\n",
      "[100]\tvalid_0's rmse: 34834.8\n",
      "[LightGBM] [Warning] feature_fraction is set=0.7718835497213962, colsample_bytree=0.7206535023225381 will be ignored. Current value: feature_fraction=0.7718835497213962\n",
      "[100]\tvalid_0's rmse: 21905.7\n",
      "[LightGBM] [Warning] feature_fraction is set=0.7718835497213962, colsample_bytree=0.7206535023225381 will be ignored. Current value: feature_fraction=0.7718835497213962\n",
      "[100]\tvalid_0's rmse: 23874\n",
      "[LightGBM] [Warning] feature_fraction is set=0.7718835497213962, colsample_bytree=0.7206535023225381 will be ignored. Current value: feature_fraction=0.7718835497213962\n",
      "[100]\tvalid_0's rmse: 26891.2\n",
      "[LightGBM] [Warning] feature_fraction is set=0.7718835497213962, colsample_bytree=0.7206535023225381 will be ignored. Current value: feature_fraction=0.7718835497213962\n",
      "[100]\tvalid_0's rmse: 28356.1\n",
      "[LightGBM] [Warning] feature_fraction is set=0.7718835497213962, colsample_bytree=0.7206535023225381 will be ignored. Current value: feature_fraction=0.7718835497213962\n",
      "[100]\tvalid_0's rmse: 26647.9\n",
      "[LightGBM] [Warning] feature_fraction is set=0.7718835497213962, colsample_bytree=0.7206535023225381 will be ignored. Current value: feature_fraction=0.7718835497213962\n",
      "[100]\tvalid_0's rmse: 32184.7\n",
      "[LightGBM] [Warning] feature_fraction is set=0.7718835497213962, colsample_bytree=0.7206535023225381 will be ignored. Current value: feature_fraction=0.7718835497213962\n",
      "[100]\tvalid_0's rmse: 27058.3\n",
      "[LightGBM] [Warning] feature_fraction is set=0.7718835497213962, colsample_bytree=0.7206535023225381 will be ignored. Current value: feature_fraction=0.7718835497213962\n"
     ]
    },
    {
     "name": "stderr",
     "output_type": "stream",
     "text": [
      "\u001b[32m[I 2023-01-06 02:59:44,430]\u001b[0m Trial 82 finished with value: 1.749162655867264 and parameters: {'boosting_type': 'gbrt', 'learning_rate': 0.0827904329466382, 'num_leaves': 118, 'max_depth': 9, 'min_child_samples': 38, 'max_bin': 665, 'subsample': 0.7253680853288534, 'colsample_bytree': 0.7206535023225381, 'min_split_gain': 9.565139622602167e-06, 'feature_fraction': 0.7718835497213962}. Best is trial 14 with value: 1.7323716779160485.\u001b[0m\n"
     ]
    },
    {
     "name": "stdout",
     "output_type": "stream",
     "text": [
      "[100]\tvalid_0's rmse: 28904\n",
      "[LightGBM] [Warning] feature_fraction is set=0.799152584252657, colsample_bytree=0.9562791993853097 will be ignored. Current value: feature_fraction=0.799152584252657\n"
     ]
    },
    {
     "name": "stderr",
     "output_type": "stream",
     "text": [
      "\u001b[32m[I 2023-01-06 02:59:45,496]\u001b[0m Trial 83 pruned. Trial was pruned at iteration 5.\u001b[0m\n"
     ]
    },
    {
     "name": "stdout",
     "output_type": "stream",
     "text": [
      "[100]\tvalid_0's rmse: 28642.9\n",
      "[LightGBM] [Warning] feature_fraction is set=0.8121391034857535, colsample_bytree=0.7622759058114533 will be ignored. Current value: feature_fraction=0.8121391034857535\n",
      "[100]\tvalid_0's rmse: 34841.1\n",
      "[LightGBM] [Warning] feature_fraction is set=0.8121391034857535, colsample_bytree=0.7622759058114533 will be ignored. Current value: feature_fraction=0.8121391034857535\n",
      "[100]\tvalid_0's rmse: 21908.1\n",
      "[LightGBM] [Warning] feature_fraction is set=0.8121391034857535, colsample_bytree=0.7622759058114533 will be ignored. Current value: feature_fraction=0.8121391034857535\n",
      "[100]\tvalid_0's rmse: 23880.1\n",
      "[LightGBM] [Warning] feature_fraction is set=0.8121391034857535, colsample_bytree=0.7622759058114533 will be ignored. Current value: feature_fraction=0.8121391034857535\n",
      "[100]\tvalid_0's rmse: 26892\n",
      "[LightGBM] [Warning] feature_fraction is set=0.8121391034857535, colsample_bytree=0.7622759058114533 will be ignored. Current value: feature_fraction=0.8121391034857535\n",
      "[100]\tvalid_0's rmse: 28352.2\n",
      "[LightGBM] [Warning] feature_fraction is set=0.8121391034857535, colsample_bytree=0.7622759058114533 will be ignored. Current value: feature_fraction=0.8121391034857535\n",
      "[100]\tvalid_0's rmse: 26648.6\n",
      "[LightGBM] [Warning] feature_fraction is set=0.8121391034857535, colsample_bytree=0.7622759058114533 will be ignored. Current value: feature_fraction=0.8121391034857535\n",
      "[100]\tvalid_0's rmse: 32178.7\n",
      "[LightGBM] [Warning] feature_fraction is set=0.8121391034857535, colsample_bytree=0.7622759058114533 will be ignored. Current value: feature_fraction=0.8121391034857535\n",
      "[100]\tvalid_0's rmse: 27072.9\n",
      "[LightGBM] [Warning] feature_fraction is set=0.8121391034857535, colsample_bytree=0.7622759058114533 will be ignored. Current value: feature_fraction=0.8121391034857535\n",
      "[100]\tvalid_0's rmse: 28903.4\n"
     ]
    },
    {
     "name": "stderr",
     "output_type": "stream",
     "text": [
      "\u001b[32m[I 2023-01-06 03:00:18,966]\u001b[0m Trial 84 finished with value: 1.7371092908458816 and parameters: {'boosting_type': 'gbrt', 'learning_rate': 0.08958579411356826, 'num_leaves': 131, 'max_depth': 8, 'min_child_samples': 40, 'max_bin': 543, 'subsample': 0.8065636238529977, 'colsample_bytree': 0.7622759058114533, 'min_split_gain': 5.742860894262493e-05, 'feature_fraction': 0.8121391034857535}. Best is trial 14 with value: 1.7323716779160485.\u001b[0m\n"
     ]
    },
    {
     "name": "stdout",
     "output_type": "stream",
     "text": [
      "[LightGBM] [Warning] feature_fraction is set=0.8182417410688305, colsample_bytree=0.7069431796018428 will be ignored. Current value: feature_fraction=0.8182417410688305\n"
     ]
    },
    {
     "name": "stderr",
     "output_type": "stream",
     "text": [
      "\u001b[32m[I 2023-01-06 03:00:19,946]\u001b[0m Trial 85 pruned. Trial was pruned at iteration 5.\u001b[0m\n"
     ]
    },
    {
     "name": "stdout",
     "output_type": "stream",
     "text": [
      "[100]\tvalid_0's rmse: 28628\n",
      "[LightGBM] [Warning] feature_fraction is set=0.8415402718237893, colsample_bytree=0.7649129731402752 will be ignored. Current value: feature_fraction=0.8415402718237893\n",
      "[100]\tvalid_0's rmse: 34830.8\n",
      "[LightGBM] [Warning] feature_fraction is set=0.8415402718237893, colsample_bytree=0.7649129731402752 will be ignored. Current value: feature_fraction=0.8415402718237893\n",
      "[100]\tvalid_0's rmse: 21924.4\n",
      "[LightGBM] [Warning] feature_fraction is set=0.8415402718237893, colsample_bytree=0.7649129731402752 will be ignored. Current value: feature_fraction=0.8415402718237893\n",
      "[100]\tvalid_0's rmse: 23874.6\n",
      "[LightGBM] [Warning] feature_fraction is set=0.8415402718237893, colsample_bytree=0.7649129731402752 will be ignored. Current value: feature_fraction=0.8415402718237893\n",
      "[100]\tvalid_0's rmse: 26888.8\n",
      "[LightGBM] [Warning] feature_fraction is set=0.8415402718237893, colsample_bytree=0.7649129731402752 will be ignored. Current value: feature_fraction=0.8415402718237893\n",
      "[100]\tvalid_0's rmse: 28337.3\n",
      "[LightGBM] [Warning] feature_fraction is set=0.8415402718237893, colsample_bytree=0.7649129731402752 will be ignored. Current value: feature_fraction=0.8415402718237893\n",
      "[100]\tvalid_0's rmse: 26688.5\n",
      "[LightGBM] [Warning] feature_fraction is set=0.8415402718237893, colsample_bytree=0.7649129731402752 will be ignored. Current value: feature_fraction=0.8415402718237893\n",
      "[100]\tvalid_0's rmse: 32167.1\n",
      "[LightGBM] [Warning] feature_fraction is set=0.8415402718237893, colsample_bytree=0.7649129731402752 will be ignored. Current value: feature_fraction=0.8415402718237893\n",
      "[100]\tvalid_0's rmse: 27036.7\n",
      "[LightGBM] [Warning] feature_fraction is set=0.8415402718237893, colsample_bytree=0.7649129731402752 will be ignored. Current value: feature_fraction=0.8415402718237893\n",
      "[100]\tvalid_0's rmse: 28909.3\n"
     ]
    },
    {
     "name": "stderr",
     "output_type": "stream",
     "text": [
      "\u001b[32m[I 2023-01-06 03:00:57,739]\u001b[0m Trial 86 finished with value: 1.738993985104495 and parameters: {'boosting_type': 'gbrt', 'learning_rate': 0.08872361407953575, 'num_leaves': 185, 'max_depth': 9, 'min_child_samples': 39, 'max_bin': 609, 'subsample': 0.8132505691362907, 'colsample_bytree': 0.7649129731402752, 'min_split_gain': 2.8641770783133922e-05, 'feature_fraction': 0.8415402718237893}. Best is trial 14 with value: 1.7323716779160485.\u001b[0m\n"
     ]
    },
    {
     "name": "stdout",
     "output_type": "stream",
     "text": [
      "[LightGBM] [Warning] feature_fraction is set=0.854132196008819, colsample_bytree=0.7378130327584219 will be ignored. Current value: feature_fraction=0.854132196008819\n"
     ]
    },
    {
     "name": "stderr",
     "output_type": "stream",
     "text": [
      "\u001b[32m[I 2023-01-06 03:00:58,840]\u001b[0m Trial 87 pruned. Trial was pruned at iteration 5.\u001b[0m\n"
     ]
    },
    {
     "name": "stdout",
     "output_type": "stream",
     "text": [
      "[100]\tvalid_0's rmse: 28635.7\n",
      "[LightGBM] [Warning] feature_fraction is set=0.7788578668328116, colsample_bytree=0.7794209516817748 will be ignored. Current value: feature_fraction=0.7788578668328116\n",
      "[100]\tvalid_0's rmse: 34834.2\n",
      "[LightGBM] [Warning] feature_fraction is set=0.7788578668328116, colsample_bytree=0.7794209516817748 will be ignored. Current value: feature_fraction=0.7788578668328116\n",
      "[100]\tvalid_0's rmse: 21925.6\n",
      "[LightGBM] [Warning] feature_fraction is set=0.7788578668328116, colsample_bytree=0.7794209516817748 will be ignored. Current value: feature_fraction=0.7788578668328116\n",
      "[100]\tvalid_0's rmse: 23866.6\n",
      "[LightGBM] [Warning] feature_fraction is set=0.7788578668328116, colsample_bytree=0.7794209516817748 will be ignored. Current value: feature_fraction=0.7788578668328116\n",
      "[100]\tvalid_0's rmse: 26880.5\n",
      "[LightGBM] [Warning] feature_fraction is set=0.7788578668328116, colsample_bytree=0.7794209516817748 will be ignored. Current value: feature_fraction=0.7788578668328116\n",
      "[100]\tvalid_0's rmse: 28336.5\n",
      "[LightGBM] [Warning] feature_fraction is set=0.7788578668328116, colsample_bytree=0.7794209516817748 will be ignored. Current value: feature_fraction=0.7788578668328116\n",
      "[100]\tvalid_0's rmse: 26695.4\n",
      "[LightGBM] [Warning] feature_fraction is set=0.7788578668328116, colsample_bytree=0.7794209516817748 will be ignored. Current value: feature_fraction=0.7788578668328116\n",
      "[100]\tvalid_0's rmse: 32174.7\n",
      "[LightGBM] [Warning] feature_fraction is set=0.7788578668328116, colsample_bytree=0.7794209516817748 will be ignored. Current value: feature_fraction=0.7788578668328116\n",
      "[100]\tvalid_0's rmse: 27047.5\n",
      "[LightGBM] [Warning] feature_fraction is set=0.7788578668328116, colsample_bytree=0.7794209516817748 will be ignored. Current value: feature_fraction=0.7788578668328116\n"
     ]
    },
    {
     "name": "stderr",
     "output_type": "stream",
     "text": [
      "\u001b[32m[I 2023-01-06 03:01:35,811]\u001b[0m Trial 88 finished with value: 1.7409919905266573 and parameters: {'boosting_type': 'gbrt', 'learning_rate': 0.089375931915195, 'num_leaves': 209, 'max_depth': 9, 'min_child_samples': 24, 'max_bin': 612, 'subsample': 0.8389494724044633, 'colsample_bytree': 0.7794209516817748, 'min_split_gain': 0.0001466459255417387, 'feature_fraction': 0.7788578668328116}. Best is trial 14 with value: 1.7323716779160485.\u001b[0m\n"
     ]
    },
    {
     "name": "stdout",
     "output_type": "stream",
     "text": [
      "[100]\tvalid_0's rmse: 28899.3\n",
      "[LightGBM] [Warning] feature_fraction is set=0.831562769438238, colsample_bytree=0.7593343911726561 will be ignored. Current value: feature_fraction=0.831562769438238\n"
     ]
    },
    {
     "name": "stderr",
     "output_type": "stream",
     "text": [
      "\u001b[32m[I 2023-01-06 03:01:36,700]\u001b[0m Trial 89 pruned. Trial was pruned at iteration 5.\u001b[0m\n",
      "\u001b[32m[I 2023-01-06 03:01:38,179]\u001b[0m Trial 90 pruned. Trial was pruned at iteration 7.\u001b[0m\n"
     ]
    },
    {
     "name": "stdout",
     "output_type": "stream",
     "text": [
      "[100]\tvalid_0's rmse: 28643.3\n",
      "[LightGBM] [Warning] feature_fraction is set=0.7941691317066605, colsample_bytree=0.7658214079595768 will be ignored. Current value: feature_fraction=0.7941691317066605\n",
      "[100]\tvalid_0's rmse: 34857.2\n",
      "[LightGBM] [Warning] feature_fraction is set=0.7941691317066605, colsample_bytree=0.7658214079595768 will be ignored. Current value: feature_fraction=0.7941691317066605\n",
      "[100]\tvalid_0's rmse: 21918.5\n",
      "[LightGBM] [Warning] feature_fraction is set=0.7941691317066605, colsample_bytree=0.7658214079595768 will be ignored. Current value: feature_fraction=0.7941691317066605\n",
      "[100]\tvalid_0's rmse: 23871.9\n",
      "[LightGBM] [Warning] feature_fraction is set=0.7941691317066605, colsample_bytree=0.7658214079595768 will be ignored. Current value: feature_fraction=0.7941691317066605\n",
      "[100]\tvalid_0's rmse: 26883\n",
      "[LightGBM] [Warning] feature_fraction is set=0.7941691317066605, colsample_bytree=0.7658214079595768 will be ignored. Current value: feature_fraction=0.7941691317066605\n",
      "[100]\tvalid_0's rmse: 28363\n",
      "[LightGBM] [Warning] feature_fraction is set=0.7941691317066605, colsample_bytree=0.7658214079595768 will be ignored. Current value: feature_fraction=0.7941691317066605\n",
      "[100]\tvalid_0's rmse: 26649.2\n",
      "[LightGBM] [Warning] feature_fraction is set=0.7941691317066605, colsample_bytree=0.7658214079595768 will be ignored. Current value: feature_fraction=0.7941691317066605\n",
      "[100]\tvalid_0's rmse: 32189\n",
      "[LightGBM] [Warning] feature_fraction is set=0.7941691317066605, colsample_bytree=0.7658214079595768 will be ignored. Current value: feature_fraction=0.7941691317066605\n",
      "[100]\tvalid_0's rmse: 27068.4\n",
      "[LightGBM] [Warning] feature_fraction is set=0.7941691317066605, colsample_bytree=0.7658214079595768 will be ignored. Current value: feature_fraction=0.7941691317066605\n",
      "[100]\tvalid_0's rmse: 28895.4\n"
     ]
    },
    {
     "name": "stderr",
     "output_type": "stream",
     "text": [
      "\u001b[32m[I 2023-01-06 03:02:08,780]\u001b[0m Trial 91 finished with value: 1.7366414857486887 and parameters: {'boosting_type': 'gbrt', 'learning_rate': 0.09178663319894598, 'num_leaves': 121, 'max_depth': 8, 'min_child_samples': 34, 'max_bin': 583, 'subsample': 0.819326336694251, 'colsample_bytree': 0.7658214079595768, 'min_split_gain': 2.829961775798436e-05, 'feature_fraction': 0.7941691317066605}. Best is trial 14 with value: 1.7323716779160485.\u001b[0m\n"
     ]
    },
    {
     "name": "stdout",
     "output_type": "stream",
     "text": [
      "[LightGBM] [Warning] feature_fraction is set=0.7889234899266228, colsample_bytree=0.729384837265012 will be ignored. Current value: feature_fraction=0.7889234899266228\n",
      "[100]\tvalid_0's rmse: 28652\n",
      "[LightGBM] [Warning] feature_fraction is set=0.7889234899266228, colsample_bytree=0.729384837265012 will be ignored. Current value: feature_fraction=0.7889234899266228\n",
      "[100]\tvalid_0's rmse: 34841\n",
      "[LightGBM] [Warning] feature_fraction is set=0.7889234899266228, colsample_bytree=0.729384837265012 will be ignored. Current value: feature_fraction=0.7889234899266228\n",
      "[100]\tvalid_0's rmse: 21928.9\n",
      "[LightGBM] [Warning] feature_fraction is set=0.7889234899266228, colsample_bytree=0.729384837265012 will be ignored. Current value: feature_fraction=0.7889234899266228\n",
      "[100]\tvalid_0's rmse: 23875.1\n",
      "[LightGBM] [Warning] feature_fraction is set=0.7889234899266228, colsample_bytree=0.729384837265012 will be ignored. Current value: feature_fraction=0.7889234899266228\n",
      "[100]\tvalid_0's rmse: 26899\n",
      "[LightGBM] [Warning] feature_fraction is set=0.7889234899266228, colsample_bytree=0.729384837265012 will be ignored. Current value: feature_fraction=0.7889234899266228\n",
      "[100]\tvalid_0's rmse: 28371.2\n",
      "[LightGBM] [Warning] feature_fraction is set=0.7889234899266228, colsample_bytree=0.729384837265012 will be ignored. Current value: feature_fraction=0.7889234899266228\n",
      "[100]\tvalid_0's rmse: 26644.3\n",
      "[LightGBM] [Warning] feature_fraction is set=0.7889234899266228, colsample_bytree=0.729384837265012 will be ignored. Current value: feature_fraction=0.7889234899266228\n",
      "[100]\tvalid_0's rmse: 32194.3\n",
      "[LightGBM] [Warning] feature_fraction is set=0.7889234899266228, colsample_bytree=0.729384837265012 will be ignored. Current value: feature_fraction=0.7889234899266228\n",
      "[100]\tvalid_0's rmse: 27073.6\n",
      "[LightGBM] [Warning] feature_fraction is set=0.7889234899266228, colsample_bytree=0.729384837265012 will be ignored. Current value: feature_fraction=0.7889234899266228\n",
      "[100]\tvalid_0's rmse: 28893.4\n"
     ]
    },
    {
     "name": "stderr",
     "output_type": "stream",
     "text": [
      "\u001b[32m[I 2023-01-06 03:02:40,356]\u001b[0m Trial 92 finished with value: 1.7344118977140872 and parameters: {'boosting_type': 'gbrt', 'learning_rate': 0.08849612853390551, 'num_leaves': 137, 'max_depth': 8, 'min_child_samples': 38, 'max_bin': 578, 'subsample': 0.8212386059294795, 'colsample_bytree': 0.729384837265012, 'min_split_gain': 2.1217904677280863e-05, 'feature_fraction': 0.7889234899266228}. Best is trial 14 with value: 1.7323716779160485.\u001b[0m\n"
     ]
    },
    {
     "name": "stdout",
     "output_type": "stream",
     "text": [
      "[LightGBM] [Warning] feature_fraction is set=0.7877264183552616, colsample_bytree=0.7250113977249234 will be ignored. Current value: feature_fraction=0.7877264183552616\n",
      "[100]\tvalid_0's rmse: 28652.7\n",
      "[LightGBM] [Warning] feature_fraction is set=0.7877264183552616, colsample_bytree=0.7250113977249234 will be ignored. Current value: feature_fraction=0.7877264183552616\n",
      "[100]\tvalid_0's rmse: 34865.2\n",
      "[LightGBM] [Warning] feature_fraction is set=0.7877264183552616, colsample_bytree=0.7250113977249234 will be ignored. Current value: feature_fraction=0.7877264183552616\n",
      "[100]\tvalid_0's rmse: 21920.5\n",
      "[LightGBM] [Warning] feature_fraction is set=0.7877264183552616, colsample_bytree=0.7250113977249234 will be ignored. Current value: feature_fraction=0.7877264183552616\n",
      "[100]\tvalid_0's rmse: 23888.8\n",
      "[LightGBM] [Warning] feature_fraction is set=0.7877264183552616, colsample_bytree=0.7250113977249234 will be ignored. Current value: feature_fraction=0.7877264183552616\n",
      "[100]\tvalid_0's rmse: 26898.4\n",
      "[LightGBM] [Warning] feature_fraction is set=0.7877264183552616, colsample_bytree=0.7250113977249234 will be ignored. Current value: feature_fraction=0.7877264183552616\n",
      "[100]\tvalid_0's rmse: 28363\n",
      "[LightGBM] [Warning] feature_fraction is set=0.7877264183552616, colsample_bytree=0.7250113977249234 will be ignored. Current value: feature_fraction=0.7877264183552616\n",
      "[100]\tvalid_0's rmse: 26630.1\n",
      "[LightGBM] [Warning] feature_fraction is set=0.7877264183552616, colsample_bytree=0.7250113977249234 will be ignored. Current value: feature_fraction=0.7877264183552616\n",
      "[100]\tvalid_0's rmse: 32198.8\n",
      "[LightGBM] [Warning] feature_fraction is set=0.7877264183552616, colsample_bytree=0.7250113977249234 will be ignored. Current value: feature_fraction=0.7877264183552616\n",
      "[100]\tvalid_0's rmse: 27068.8\n",
      "[LightGBM] [Warning] feature_fraction is set=0.7877264183552616, colsample_bytree=0.7250113977249234 will be ignored. Current value: feature_fraction=0.7877264183552616\n",
      "[100]\tvalid_0's rmse: 28900.2\n"
     ]
    },
    {
     "name": "stderr",
     "output_type": "stream",
     "text": [
      "\u001b[32m[I 2023-01-06 03:03:11,111]\u001b[0m Trial 93 finished with value: 1.7401642748036668 and parameters: {'boosting_type': 'gbrt', 'learning_rate': 0.08682739720581006, 'num_leaves': 129, 'max_depth': 8, 'min_child_samples': 33, 'max_bin': 492, 'subsample': 0.8151753920057916, 'colsample_bytree': 0.7250113977249234, 'min_split_gain': 3.152553085445617e-05, 'feature_fraction': 0.7877264183552616}. Best is trial 14 with value: 1.7323716779160485.\u001b[0m\n"
     ]
    },
    {
     "name": "stdout",
     "output_type": "stream",
     "text": [
      "[LightGBM] [Warning] feature_fraction is set=0.8434512883936487, colsample_bytree=0.7083155439077772 will be ignored. Current value: feature_fraction=0.8434512883936487\n"
     ]
    },
    {
     "name": "stderr",
     "output_type": "stream",
     "text": [
      "\u001b[32m[I 2023-01-06 03:03:12,190]\u001b[0m Trial 94 pruned. Trial was pruned at iteration 5.\u001b[0m\n",
      "\u001b[32m[I 2023-01-06 03:03:13,530]\u001b[0m Trial 95 pruned. Trial was pruned at iteration 5.\u001b[0m\n",
      "\u001b[32m[I 2023-01-06 03:03:14,664]\u001b[0m Trial 96 pruned. Trial was pruned at iteration 5.\u001b[0m\n"
     ]
    },
    {
     "name": "stdout",
     "output_type": "stream",
     "text": [
      "[100]\tvalid_0's rmse: 28623.7\n",
      "[LightGBM] [Warning] feature_fraction is set=0.9170676150504422, colsample_bytree=0.4461025565434094 will be ignored. Current value: feature_fraction=0.9170676150504422\n",
      "[100]\tvalid_0's rmse: 34814.7\n",
      "[LightGBM] [Warning] feature_fraction is set=0.9170676150504422, colsample_bytree=0.4461025565434094 will be ignored. Current value: feature_fraction=0.9170676150504422\n",
      "[100]\tvalid_0's rmse: 21926.7\n",
      "[LightGBM] [Warning] feature_fraction is set=0.9170676150504422, colsample_bytree=0.4461025565434094 will be ignored. Current value: feature_fraction=0.9170676150504422\n",
      "[100]\tvalid_0's rmse: 23872.5\n",
      "[LightGBM] [Warning] feature_fraction is set=0.9170676150504422, colsample_bytree=0.4461025565434094 will be ignored. Current value: feature_fraction=0.9170676150504422\n",
      "[100]\tvalid_0's rmse: 26869.8\n",
      "[LightGBM] [Warning] feature_fraction is set=0.9170676150504422, colsample_bytree=0.4461025565434094 will be ignored. Current value: feature_fraction=0.9170676150504422\n",
      "[100]\tvalid_0's rmse: 28342.8\n",
      "[LightGBM] [Warning] feature_fraction is set=0.9170676150504422, colsample_bytree=0.4461025565434094 will be ignored. Current value: feature_fraction=0.9170676150504422\n",
      "[100]\tvalid_0's rmse: 26696\n",
      "[LightGBM] [Warning] feature_fraction is set=0.9170676150504422, colsample_bytree=0.4461025565434094 will be ignored. Current value: feature_fraction=0.9170676150504422\n",
      "[100]\tvalid_0's rmse: 32164.6\n",
      "[LightGBM] [Warning] feature_fraction is set=0.9170676150504422, colsample_bytree=0.4461025565434094 will be ignored. Current value: feature_fraction=0.9170676150504422\n",
      "[100]\tvalid_0's rmse: 27039.1\n",
      "[LightGBM] [Warning] feature_fraction is set=0.9170676150504422, colsample_bytree=0.4461025565434094 will be ignored. Current value: feature_fraction=0.9170676150504422\n",
      "[100]\tvalid_0's rmse: 28916.9\n"
     ]
    },
    {
     "name": "stderr",
     "output_type": "stream",
     "text": [
      "\u001b[32m[I 2023-01-06 03:03:49,375]\u001b[0m Trial 97 finished with value: 1.734458947636459 and parameters: {'boosting_type': 'gbrt', 'learning_rate': 0.09089659119846705, 'num_leaves': 167, 'max_depth': 9, 'min_child_samples': 35, 'max_bin': 634, 'subsample': 0.894973231845449, 'colsample_bytree': 0.4461025565434094, 'min_split_gain': 0.0002593486486859245, 'feature_fraction': 0.9170676150504422}. Best is trial 14 with value: 1.7323716779160485.\u001b[0m\n"
     ]
    },
    {
     "name": "stdout",
     "output_type": "stream",
     "text": [
      "[LightGBM] [Warning] feature_fraction is set=0.9628893294712013, colsample_bytree=0.6551929572030761 will be ignored. Current value: feature_fraction=0.9628893294712013\n"
     ]
    },
    {
     "name": "stderr",
     "output_type": "stream",
     "text": [
      "\u001b[32m[I 2023-01-06 03:03:50,488]\u001b[0m Trial 98 pruned. Trial was pruned at iteration 5.\u001b[0m\n",
      "\u001b[32m[I 2023-01-06 03:03:51,665]\u001b[0m Trial 99 pruned. Trial was pruned at iteration 5.\u001b[0m\n"
     ]
    }
   ],
   "source": [
    "study_lgbm = optuna.create_study(direction=\"minimize\", study_name=\"lgbm\",pruner=optuna.pruners.MedianPruner(n_warmup_steps=5, interval_steps=1, n_startup_trials=10))\n",
    "study_lgbm.optimize(objective_lgbm, n_trials=100)"
   ]
  },
  {
   "cell_type": "code",
   "execution_count": 39,
   "metadata": {},
   "outputs": [
    {
     "name": "stdout",
     "output_type": "stream",
     "text": [
      "[100]\tvalid_0's rmse: 28640.2\tvalid_0's l2: 8.20261e+08\n",
      "RMSLE FOLD-1:1.4693092654717994\n",
      "RMSLE Train FOLD-1:1.7246072172362281\n",
      "Train Mean:36198.28133223477\n",
      "Val Mean:37911.75852578654\n",
      "Val Predicted Mean:35788.78671739146\n",
      "[LightGBM] [Warning] feature_fraction is set=0.9916265853271126, colsample_bytree=0.7602036170563886 will be ignored. Current value: feature_fraction=0.9916265853271126\n",
      "[100]\tvalid_0's rmse: 34856.2\tvalid_0's l2: 1.21495e+09\n",
      "RMSLE FOLD-2:1.8929505508211233\n",
      "RMSLE Train FOLD-2:1.677503030905095\n",
      "Train Mean:35935.459758740006\n",
      "Val Mean:40277.18976462422\n",
      "Val Predicted Mean:36959.84485333392\n",
      "[LightGBM] [Warning] feature_fraction is set=0.9916265853271126, colsample_bytree=0.7602036170563886 will be ignored. Current value: feature_fraction=0.9916265853271126\n",
      "[100]\tvalid_0's rmse: 21901.2\tvalid_0's l2: 4.79661e+08\n",
      "RMSLE FOLD-3:1.843821385600006\n",
      "RMSLE Train FOLD-3:1.6903752871761075\n",
      "Train Mean:36641.57485494217\n",
      "Val Mean:33922.14065136393\n",
      "Val Predicted Mean:36984.41316197485\n",
      "[LightGBM] [Warning] feature_fraction is set=0.9916265853271126, colsample_bytree=0.7602036170563886 will be ignored. Current value: feature_fraction=0.9916265853271126\n",
      "[100]\tvalid_0's rmse: 23905.7\tvalid_0's l2: 5.71481e+08\n",
      "RMSLE FOLD-4:1.7595817495192727\n",
      "RMSLE Train FOLD-4:1.700333760554755\n",
      "Train Mean:36540.25917202988\n",
      "Val Mean:34833.98369836029\n",
      "Val Predicted Mean:35886.732116296844\n",
      "[LightGBM] [Warning] feature_fraction is set=0.9916265853271126, colsample_bytree=0.7602036170563886 will be ignored. Current value: feature_fraction=0.9916265853271126\n",
      "[100]\tvalid_0's rmse: 26870.4\tvalid_0's l2: 7.22019e+08\n",
      "RMSLE FOLD-5:1.606284545537543\n",
      "RMSLE Train FOLD-5:1.7075312024847824\n",
      "Train Mean:36480.66253993484\n",
      "Val Mean:35370.35450530937\n",
      "Val Predicted Mean:34184.616450406575\n",
      "[LightGBM] [Warning] feature_fraction is set=0.9916265853271126, colsample_bytree=0.7602036170563886 will be ignored. Current value: feature_fraction=0.9916265853271126\n",
      "[100]\tvalid_0's rmse: 28379.7\tvalid_0's l2: 8.05405e+08\n",
      "RMSLE FOLD-6:1.6956599418235312\n",
      "RMSLE Train FOLD-6:1.6990355368880008\n",
      "Train Mean:36419.88021892191\n",
      "Val Mean:35917.39653476417\n",
      "Val Predicted Mean:33887.028266883455\n",
      "[LightGBM] [Warning] feature_fraction is set=0.9916265853271126, colsample_bytree=0.7602036170563886 will be ignored. Current value: feature_fraction=0.9916265853271126\n",
      "[100]\tvalid_0's rmse: 26613.5\tvalid_0's l2: 7.0828e+08\n",
      "RMSLE FOLD-7:1.9357813734115161\n",
      "RMSLE Train FOLD-7:1.8694752793638085\n",
      "Train Mean:36615.08138061449\n",
      "Val Mean:34160.5824173577\n",
      "Val Predicted Mean:37479.747033031126\n",
      "[LightGBM] [Warning] feature_fraction is set=0.9916265853271126, colsample_bytree=0.7602036170563886 will be ignored. Current value: feature_fraction=0.9916265853271126\n",
      "[100]\tvalid_0's rmse: 32199\tvalid_0's l2: 1.03678e+09\n",
      "RMSLE FOLD-8:1.7645098241965498\n",
      "RMSLE Train FOLD-8:1.6966519898247188\n",
      "Train Mean:36368.69302641337\n",
      "Val Mean:36378.082227665\n",
      "Val Predicted Mean:34928.41029376029\n",
      "[LightGBM] [Warning] feature_fraction is set=0.9916265853271126, colsample_bytree=0.7602036170563886 will be ignored. Current value: feature_fraction=0.9916265853271126\n",
      "[100]\tvalid_0's rmse: 27083.6\tvalid_0's l2: 7.3352e+08\n",
      "RMSLE FOLD-9:1.6502393968804807\n",
      "RMSLE Train FOLD-9:1.7074583729140564\n",
      "Train Mean:36342.98798699448\n",
      "Val Mean:36609.42806468801\n",
      "Val Predicted Mean:36269.32728750063\n",
      "[LightGBM] [Warning] feature_fraction is set=0.9916265853271126, colsample_bytree=0.7602036170563886 will be ignored. Current value: feature_fraction=0.9916265853271126\n",
      "[100]\tvalid_0's rmse: 28911.3\tvalid_0's l2: 8.35862e+08\n",
      "RMSLE FOLD-10:1.7140814559283613\n",
      "RMSLE Train FOLD-10:1.700896992564482\n",
      "Train Mean:36153.4388197549\n",
      "Val Mean:38315.37412598026\n",
      "Val Predicted Mean:39156.196073417\n"
     ]
    }
   ],
   "source": [
    "gc.collect()\n",
    "\n",
    "rmsle_lgbm = []\n",
    "fold_lgbm = 1\n",
    "models_lgbm = []\n",
    "\n",
    "for train_index, test_index in gkf.split(X, y,groups=group):\n",
    "    X_train,X_val = X.iloc[train_index],X.iloc[test_index]\n",
    "    y_train,y_val = y.iloc[train_index],y.iloc[test_index]\n",
    "    \n",
    "    lgbm = LGBMRegressor(**study_lgbm.best_params)\n",
    "    lgbm.fit(X_train, y_train, eval_set=[(X_val, y_val)],\n",
    "                early_stopping_rounds=100, verbose=100,\n",
    "                eval_metric='rmse',categorical_feature=cat_cols)\n",
    "    \n",
    "    val_result = lgbm.predict(X_val)\n",
    "    val_result = np.where(val_result<0,0,val_result)\n",
    "\n",
    "    score = np.sqrt(mean_squared_log_error(y_val,val_result))\n",
    "\n",
    "    t_result = lgbm.predict(X_train)\n",
    "    t_result = np.where(t_result<0,0,t_result)\n",
    "\n",
    "    score_t = np.sqrt(mean_squared_log_error(y_train,t_result))\n",
    "    print(f\"RMSLE FOLD-{fold_lgbm}:{score}\")\n",
    "    print(f\"RMSLE Train FOLD-{fold_lgbm}:{score_t}\")\n",
    "    print(f'Train Mean:{y_train.mean()}')\n",
    "    print(f'Val Mean:{y_val.mean()}')\n",
    "    print(f'Val Predicted Mean:{val_result.mean()}')\n",
    "    rmsle_lgbm.append(score)\n",
    "    models_lgbm.append(lgbm)\n",
    "    \n",
    "    fold_lgbm+=1\n"
   ]
  },
  {
   "cell_type": "code",
   "execution_count": 40,
   "metadata": {},
   "outputs": [
    {
     "data": {
      "text/plain": [
       "(1.7332219489190184, 0.13224066242683874)"
      ]
     },
     "execution_count": 40,
     "metadata": {},
     "output_type": "execute_result"
    }
   ],
   "source": [
    "np.mean(rmsle_lgbm),np.std(rmsle_lgbm)"
   ]
  },
  {
   "cell_type": "code",
   "execution_count": 41,
   "metadata": {},
   "outputs": [
    {
     "name": "stderr",
     "output_type": "stream",
     "text": [
      "\u001b[32m[I 2023-01-06 03:04:27,489]\u001b[0m A new study created in memory with name: cat\u001b[0m\n",
      "\u001b[32m[I 2023-01-06 04:03:30,388]\u001b[0m Trial 0 finished with value: 1.7650972736835997 and parameters: {'depth': 10, 'subsample': 0.876167866489853, 'od_wait': 36, 'colsample_bylevel': 0.7428732373209737, 'l2_leaf_reg': 32.488597958451976, 'n_estimators': 1622, 'learning_rate': 0.0052125500054917}. Best is trial 0 with value: 1.7650972736835997.\u001b[0m\n",
      "\u001b[32m[I 2023-01-06 04:05:36,481]\u001b[0m Trial 1 finished with value: 1.8305142780672718 and parameters: {'depth': 7, 'subsample': 0.5905029373572428, 'od_wait': 44, 'colsample_bylevel': 0.7316994519766992, 'l2_leaf_reg': 45.36796482229942, 'n_estimators': 147, 'learning_rate': 0.02187072052206342}. Best is trial 0 with value: 1.7650972736835997.\u001b[0m\n",
      "\u001b[32m[I 2023-01-06 04:07:43,325]\u001b[0m Trial 2 finished with value: 1.8613779697889943 and parameters: {'depth': 8, 'subsample': 0.9510990222543849, 'od_wait': 46, 'colsample_bylevel': 0.5631673021777093, 'l2_leaf_reg': 28.51974284201279, 'n_estimators': 116, 'learning_rate': 0.01846332141079346}. Best is trial 0 with value: 1.7650972736835997.\u001b[0m\n",
      "\u001b[32m[I 2023-01-06 04:28:19,759]\u001b[0m Trial 3 finished with value: 1.7310256347236934 and parameters: {'depth': 8, 'subsample': 0.9414201726619873, 'od_wait': 41, 'colsample_bylevel': 0.8591126123798956, 'l2_leaf_reg': 40.00016930808854, 'n_estimators': 693, 'learning_rate': 0.04823824758554587}. Best is trial 3 with value: 1.7310256347236934.\u001b[0m\n",
      "\u001b[32m[I 2023-01-06 04:55:01,725]\u001b[0m Trial 4 finished with value: 1.7185016318135653 and parameters: {'depth': 5, 'subsample': 0.8822222673354128, 'od_wait': 30, 'colsample_bylevel': 0.823252889537356, 'l2_leaf_reg': 13.634296182134428, 'n_estimators': 1636, 'learning_rate': 0.09903384095851153}. Best is trial 4 with value: 1.7185016318135653.\u001b[0m\n",
      "\u001b[32m[I 2023-01-06 04:55:09,787]\u001b[0m Trial 5 finished with value: 2.1430455956114822 and parameters: {'depth': 8, 'subsample': 0.8064143591677984, 'od_wait': 15, 'colsample_bylevel': 0.7107863353294801, 'l2_leaf_reg': 38.323545577397375, 'n_estimators': 1040, 'learning_rate': 0.008073487501631877}. Best is trial 4 with value: 1.7185016318135653.\u001b[0m\n",
      "\u001b[32m[I 2023-01-06 04:55:17,317]\u001b[0m Trial 6 finished with value: 2.141850734067327 and parameters: {'depth': 7, 'subsample': 0.5819193808602281, 'od_wait': 30, 'colsample_bylevel': 0.6866716444711904, 'l2_leaf_reg': 40.50323961544067, 'n_estimators': 902, 'learning_rate': 0.010817059641067476}. Best is trial 4 with value: 1.7185016318135653.\u001b[0m\n",
      "\u001b[32m[I 2023-01-06 04:55:36,422]\u001b[0m Trial 7 finished with value: 2.1064387717523982 and parameters: {'depth': 6, 'subsample': 0.780022290630819, 'od_wait': 16, 'colsample_bylevel': 0.7130035329955299, 'l2_leaf_reg': 5.8204229692536185, 'n_estimators': 773, 'learning_rate': 0.0299805272256998}. Best is trial 4 with value: 1.7185016318135653.\u001b[0m\n",
      "\u001b[32m[I 2023-01-06 04:55:44,872]\u001b[0m Trial 8 finished with value: 2.144230419110698 and parameters: {'depth': 9, 'subsample': 0.6733038431680505, 'od_wait': 15, 'colsample_bylevel': 0.6746828910665523, 'l2_leaf_reg': 21.12579946016719, 'n_estimators': 2122, 'learning_rate': 0.0054668992615055445}. Best is trial 4 with value: 1.7185016318135653.\u001b[0m\n",
      "\u001b[32m[I 2023-01-06 04:56:09,485]\u001b[0m Trial 9 finished with value: 2.0928527855634087 and parameters: {'depth': 6, 'subsample': 0.7796764812601011, 'od_wait': 39, 'colsample_bylevel': 0.6881338750920787, 'l2_leaf_reg': 37.42169591449612, 'n_estimators': 2364, 'learning_rate': 0.06704031028103416}. Best is trial 4 with value: 1.7185016318135653.\u001b[0m\n",
      "\u001b[32m[I 2023-01-06 04:56:21,663]\u001b[0m Trial 10 finished with value: 2.094678787133591 and parameters: {'depth': 3, 'subsample': 0.5047678019587758, 'od_wait': 27, 'colsample_bylevel': 0.9689242552487966, 'l2_leaf_reg': 15.109877211863095, 'n_estimators': 1625, 'learning_rate': 0.07870434374248807}. Best is trial 4 with value: 1.7185016318135653.\u001b[0m\n",
      "\u001b[32m[I 2023-01-06 04:56:30,575]\u001b[0m Trial 11 finished with value: 2.112184949148633 and parameters: {'depth': 4, 'subsample': 0.983371396846972, 'od_wait': 23, 'colsample_bylevel': 0.8856018221511757, 'l2_leaf_reg': 1.7454516334026628, 'n_estimators': 1501, 'learning_rate': 0.04234905446774515}. Best is trial 4 with value: 1.7185016318135653.\u001b[0m\n",
      "\u001b[32m[I 2023-01-06 04:56:50,417]\u001b[0m Trial 12 finished with value: 2.0868510111253893 and parameters: {'depth': 5, 'subsample': 0.8952347357556223, 'od_wait': 36, 'colsample_bylevel': 0.8428500101963488, 'l2_leaf_reg': 13.810367600583694, 'n_estimators': 615, 'learning_rate': 0.09149423154126274}. Best is trial 4 with value: 1.7185016318135653.\u001b[0m\n",
      "\u001b[32m[I 2023-01-06 04:57:00,139]\u001b[0m Trial 13 finished with value: 2.1069046554165705 and parameters: {'depth': 5, 'subsample': 0.8727759846419004, 'od_wait': 23, 'colsample_bylevel': 0.8136244055289077, 'l2_leaf_reg': 48.45437523103798, 'n_estimators': 1310, 'learning_rate': 0.04941858488917037}. Best is trial 4 with value: 1.7185016318135653.\u001b[0m\n",
      "\u001b[32m[I 2023-01-06 04:57:06,430]\u001b[0m Trial 14 finished with value: 2.1278420569415286 and parameters: {'depth': 3, 'subsample': 0.9397522697022519, 'od_wait': 40, 'colsample_bylevel': 0.9396628380804845, 'l2_leaf_reg': 21.728221192100328, 'n_estimators': 1981, 'learning_rate': 0.05062572053050079}. Best is trial 4 with value: 1.7185016318135653.\u001b[0m\n",
      "\u001b[32m[I 2023-01-06 04:57:15,463]\u001b[0m Trial 15 finished with value: 2.1323775697783383 and parameters: {'depth': 10, 'subsample': 0.841699690166854, 'od_wait': 32, 'colsample_bylevel': 0.8054315626625217, 'l2_leaf_reg': 10.257567511998735, 'n_estimators': 440, 'learning_rate': 0.0314482339134573}. Best is trial 4 with value: 1.7185016318135653.\u001b[0m\n",
      "\u001b[32m[I 2023-01-06 04:57:36,770]\u001b[0m Trial 16 finished with value: 2.0857537798591457 and parameters: {'depth': 5, 'subsample': 0.9206953275912865, 'od_wait': 48, 'colsample_bylevel': 0.8896898060920633, 'l2_leaf_reg': 26.506333200330968, 'n_estimators': 1034, 'learning_rate': 0.09535300657647229}. Best is trial 4 with value: 1.7185016318135653.\u001b[0m\n",
      "\u001b[32m[I 2023-01-06 05:28:49,933]\u001b[0m Trial 17 finished with value: 1.7195999481609523 and parameters: {'depth': 8, 'subsample': 0.7123767009223311, 'od_wait': 23, 'colsample_bylevel': 0.6063580735009475, 'l2_leaf_reg': 20.795053574124644, 'n_estimators': 1267, 'learning_rate': 0.06315650199996485}. Best is trial 4 with value: 1.7185016318135653.\u001b[0m\n",
      "\u001b[32m[I 2023-01-06 06:05:10,021]\u001b[0m Trial 18 finished with value: 1.7192737148714183 and parameters: {'depth': 9, 'subsample': 0.7060633181550916, 'od_wait': 10, 'colsample_bylevel': 0.5018913521495209, 'l2_leaf_reg': 18.804033670204067, 'n_estimators': 1767, 'learning_rate': 0.06689242016753126}. Best is trial 4 with value: 1.7185016318135653.\u001b[0m\n",
      "\u001b[32m[I 2023-01-06 06:05:18,340]\u001b[0m Trial 19 finished with value: 2.1402080407747013 and parameters: {'depth': 9, 'subsample': 0.6998843278967596, 'od_wait': 10, 'colsample_bylevel': 0.6219736278281228, 'l2_leaf_reg': 14.958361935775219, 'n_estimators': 1904, 'learning_rate': 0.014171824810066765}. Best is trial 4 with value: 1.7185016318135653.\u001b[0m\n",
      "\u001b[32m[I 2023-01-06 06:05:24,662]\u001b[0m Trial 20 finished with value: 2.135175976786962 and parameters: {'depth': 4, 'subsample': 0.639149495251291, 'od_wait': 19, 'colsample_bylevel': 0.527289108303316, 'l2_leaf_reg': 8.20675296704457, 'n_estimators': 2472, 'learning_rate': 0.030244896494918898}. Best is trial 4 with value: 1.7185016318135653.\u001b[0m\n",
      "\u001b[32m[I 2023-01-06 06:37:49,397]\u001b[0m Trial 21 finished with value: 1.7203909991373567 and parameters: {'depth': 9, 'subsample': 0.7243407863211266, 'od_wait': 25, 'colsample_bylevel': 0.5969492285651721, 'l2_leaf_reg': 19.970155468641362, 'n_estimators': 1243, 'learning_rate': 0.06528355616645558}. Best is trial 4 with value: 1.7185016318135653.\u001b[0m\n",
      "\u001b[32m[I 2023-01-06 06:38:17,083]\u001b[0m Trial 22 finished with value: 2.0915767481126877 and parameters: {'depth': 7, 'subsample': 0.733405392511952, 'od_wait': 11, 'colsample_bylevel': 0.5305715274483185, 'l2_leaf_reg': 18.54708630704962, 'n_estimators': 1787, 'learning_rate': 0.06701465490835751}. Best is trial 4 with value: 1.7185016318135653.\u001b[0m\n",
      "\u001b[32m[I 2023-01-06 07:04:38,447]\u001b[0m Trial 23 finished with value: 1.7042935976632214 and parameters: {'depth': 8, 'subsample': 0.6462785592035127, 'od_wait': 20, 'colsample_bylevel': 0.506527444236438, 'l2_leaf_reg': 25.49797835067897, 'n_estimators': 1350, 'learning_rate': 0.09963791809704897}. Best is trial 23 with value: 1.7042935976632214.\u001b[0m\n",
      "\u001b[32m[I 2023-01-06 07:37:28,754]\u001b[0m Trial 24 finished with value: 1.7172072528791014 and parameters: {'depth': 9, 'subsample': 0.6469606751696144, 'od_wait': 19, 'colsample_bylevel': 0.5022283287109846, 'l2_leaf_reg': 32.45615351518267, 'n_estimators': 2196, 'learning_rate': 0.09396706473429246}. Best is trial 23 with value: 1.7042935976632214.\u001b[0m\n",
      "\u001b[32m[I 2023-01-06 07:37:54,680]\u001b[0m Trial 25 finished with value: 2.083177062260539 and parameters: {'depth': 6, 'subsample': 0.6310328454535775, 'od_wait': 19, 'colsample_bylevel': 0.7731061425527374, 'l2_leaf_reg': 33.095153235121174, 'n_estimators': 2268, 'learning_rate': 0.09750116844562887}. Best is trial 23 with value: 1.7042935976632214.\u001b[0m\n",
      "\u001b[32m[I 2023-01-06 07:38:02,929]\u001b[0m Trial 26 finished with value: 2.12967613567431 and parameters: {'depth': 10, 'subsample': 0.5401271528696455, 'od_wait': 20, 'colsample_bylevel': 0.6456513809482974, 'l2_leaf_reg': 29.265916243591548, 'n_estimators': 2026, 'learning_rate': 0.03802767755910562}. Best is trial 23 with value: 1.7042935976632214.\u001b[0m\n",
      "\u001b[32m[I 2023-01-06 07:38:11,749]\u001b[0m Trial 27 finished with value: 2.0961928998288815 and parameters: {'depth': 4, 'subsample': 0.654484405594423, 'od_wait': 32, 'colsample_bylevel': 0.5620888407525089, 'l2_leaf_reg': 24.72027221078525, 'n_estimators': 1455, 'learning_rate': 0.08416590754075727}. Best is trial 23 with value: 1.7042935976632214.\u001b[0m\n",
      "\u001b[32m[I 2023-01-06 07:38:41,182]\u001b[0m Trial 28 finished with value: 2.0877323400287424 and parameters: {'depth': 7, 'subsample': 0.6100405497085573, 'od_wait': 28, 'colsample_bylevel': 0.7785997256114002, 'l2_leaf_reg': 33.51424612445649, 'n_estimators': 2171, 'learning_rate': 0.07840369027956556}. Best is trial 23 with value: 1.7042935976632214.\u001b[0m\n",
      "\u001b[32m[I 2023-01-06 07:38:49,343]\u001b[0m Trial 29 finished with value: 2.1207822850064004 and parameters: {'depth': 10, 'subsample': 0.5613394925024264, 'od_wait': 34, 'colsample_bylevel': 0.504077054903893, 'l2_leaf_reg': 24.82939704681405, 'n_estimators': 1683, 'learning_rate': 0.05635033532117935}. Best is trial 23 with value: 1.7042935976632214.\u001b[0m\n",
      "\u001b[32m[I 2023-01-06 07:38:57,257]\u001b[0m Trial 30 finished with value: 2.1296301800646757 and parameters: {'depth': 8, 'subsample': 0.7696387827994472, 'od_wait': 27, 'colsample_bylevel': 0.5778795522238743, 'l2_leaf_reg': 32.25993867560923, 'n_estimators': 1547, 'learning_rate': 0.03890132821570111}. Best is trial 23 with value: 1.7042935976632214.\u001b[0m\n",
      "\u001b[32m[I 2023-01-06 08:10:02,014]\u001b[0m Trial 31 finished with value: 1.7166627487067132 and parameters: {'depth': 9, 'subsample': 0.671264691781085, 'od_wait': 13, 'colsample_bylevel': 0.507029787801595, 'l2_leaf_reg': 17.07599329179706, 'n_estimators': 1784, 'learning_rate': 0.07497049784186426}. Best is trial 23 with value: 1.7042935976632214.\u001b[0m\n",
      "\u001b[32m[I 2023-01-06 08:11:48,760]\u001b[0m Trial 32 finished with value: 2.0758376100454137 and parameters: {'depth': 9, 'subsample': 0.684286872598096, 'od_wait': 17, 'colsample_bylevel': 0.5433025847171756, 'l2_leaf_reg': 12.370778092370706, 'n_estimators': 1830, 'learning_rate': 0.09850392912079792}. Best is trial 23 with value: 1.7042935976632214.\u001b[0m\n",
      "\u001b[32m[I 2023-01-06 08:42:52,634]\u001b[0m Trial 33 finished with value: 1.7172206698830823 and parameters: {'depth': 9, 'subsample': 0.666122096267917, 'od_wait': 13, 'colsample_bylevel': 0.5042292426708813, 'l2_leaf_reg': 16.207063706170683, 'n_estimators': 2069, 'learning_rate': 0.0785411458388192}. Best is trial 23 with value: 1.7042935976632214.\u001b[0m\n",
      "\u001b[32m[I 2023-01-06 09:10:37,229]\u001b[0m Trial 34 finished with value: 1.7212117579683803 and parameters: {'depth': 9, 'subsample': 0.6071706223217631, 'od_wait': 13, 'colsample_bylevel': 0.5585188736213615, 'l2_leaf_reg': 28.705364749626078, 'n_estimators': 2120, 'learning_rate': 0.07960413906836004}. Best is trial 23 with value: 1.7042935976632214.\u001b[0m\n",
      "\u001b[32m[I 2023-01-06 09:10:45,081]\u001b[0m Trial 35 finished with value: 2.138235364156987 and parameters: {'depth': 8, 'subsample': 0.6593517028800943, 'od_wait': 12, 'colsample_bylevel': 0.5052027316885636, 'l2_leaf_reg': 16.808842690493968, 'n_estimators': 2337, 'learning_rate': 0.01909109009916124}. Best is trial 23 with value: 1.7042935976632214.\u001b[0m\n",
      "\u001b[32m[I 2023-01-06 09:40:03,312]\u001b[0m Trial 36 finished with value: 1.7184985023461166 and parameters: {'depth': 10, 'subsample': 0.6264644103866799, 'od_wait': 14, 'colsample_bylevel': 0.5787441010025551, 'l2_leaf_reg': 23.900097978655946, 'n_estimators': 2497, 'learning_rate': 0.07811494565390996}. Best is trial 23 with value: 1.7042935976632214.\u001b[0m\n",
      "\u001b[32m[I 2023-01-06 09:40:11,193]\u001b[0m Trial 37 finished with value: 2.1224417533306505 and parameters: {'depth': 8, 'subsample': 0.7465935077512307, 'od_wait': 21, 'colsample_bylevel': 0.5249434961494611, 'l2_leaf_reg': 43.91814972400221, 'n_estimators': 1966, 'learning_rate': 0.05736053141096378}. Best is trial 23 with value: 1.7042935976632214.\u001b[0m\n",
      "\u001b[32m[I 2023-01-06 09:40:19,554]\u001b[0m Trial 38 finished with value: 2.1356400558531536 and parameters: {'depth': 9, 'subsample': 0.5880860730616533, 'od_wait': 17, 'colsample_bylevel': 0.5432788007615602, 'l2_leaf_reg': 36.24940899995929, 'n_estimators': 1399, 'learning_rate': 0.024968437867963083}. Best is trial 23 with value: 1.7042935976632214.\u001b[0m\n",
      "\u001b[32m[I 2023-01-06 09:40:27,028]\u001b[0m Trial 39 finished with value: 2.1276319374179473 and parameters: {'depth': 7, 'subsample': 0.6828786157528378, 'od_wait': 13, 'colsample_bylevel': 0.6398272183159341, 'l2_leaf_reg': 10.549437086515288, 'n_estimators': 1113, 'learning_rate': 0.043744044637348906}. Best is trial 23 with value: 1.7042935976632214.\u001b[0m\n",
      "\u001b[32m[I 2023-01-06 09:40:56,755]\u001b[0m Trial 40 finished with value: 2.0860780049221646 and parameters: {'depth': 8, 'subsample': 0.5594277825635595, 'od_wait': 17, 'colsample_bylevel': 0.587307806099081, 'l2_leaf_reg': 31.140681766153286, 'n_estimators': 2185, 'learning_rate': 0.07849070436946891}. Best is trial 23 with value: 1.7042935976632214.\u001b[0m\n",
      "\u001b[32m[I 2023-01-06 10:09:38,914]\u001b[0m Trial 41 finished with value: 1.7186326580322682 and parameters: {'depth': 10, 'subsample': 0.626367091716285, 'od_wait': 14, 'colsample_bylevel': 0.5659763152563562, 'l2_leaf_reg': 22.997107825308472, 'n_estimators': 2414, 'learning_rate': 0.07602292018177167}. Best is trial 23 with value: 1.7042935976632214.\u001b[0m\n",
      "\u001b[32m[I 2023-01-06 10:09:47,132]\u001b[0m Trial 42 finished with value: 2.1235513398873733 and parameters: {'depth': 10, 'subsample': 0.6443083403310166, 'od_wait': 15, 'colsample_bylevel': 0.5263708106791667, 'l2_leaf_reg': 26.289619910690963, 'n_estimators': 2481, 'learning_rate': 0.0538896064933526}. Best is trial 23 with value: 1.7042935976632214.\u001b[0m\n",
      "\u001b[32m[I 2023-01-06 10:09:55,550]\u001b[0m Trial 43 finished with value: 2.113077725916967 and parameters: {'depth': 10, 'subsample': 0.6131747873223036, 'od_wait': 18, 'colsample_bylevel': 0.5046340293849477, 'l2_leaf_reg': 17.244531094015592, 'n_estimators': 2244, 'learning_rate': 0.0707977436929533}. Best is trial 23 with value: 1.7042935976632214.\u001b[0m\n",
      "\u001b[32m[I 2023-01-06 10:11:17,833]\u001b[0m Trial 44 finished with value: 2.079484124629391 and parameters: {'depth': 9, 'subsample': 0.6630972788131596, 'od_wait': 21, 'colsample_bylevel': 0.5476011586451551, 'l2_leaf_reg': 23.37514801278156, 'n_estimators': 2313, 'learning_rate': 0.08855971380884374}. Best is trial 23 with value: 1.7042935976632214.\u001b[0m\n",
      "\u001b[32m[I 2023-01-06 10:11:26,330]\u001b[0m Trial 45 finished with value: 2.121033600982158 and parameters: {'depth': 9, 'subsample': 0.5729981838363705, 'od_wait': 15, 'colsample_bylevel': 0.5760293464828146, 'l2_leaf_reg': 35.28343108293319, 'n_estimators': 2070, 'learning_rate': 0.05873742522349629}. Best is trial 23 with value: 1.7042935976632214.\u001b[0m\n",
      "\u001b[32m[I 2023-01-06 10:11:34,567]\u001b[0m Trial 46 finished with value: 2.1434945863271238 and parameters: {'depth': 10, 'subsample': 0.6902209312222451, 'od_wait': 12, 'colsample_bylevel': 0.5241673682001078, 'l2_leaf_reg': 27.71598050701732, 'n_estimators': 1880, 'learning_rate': 0.007237885442744464}. Best is trial 23 with value: 1.7042935976632214.\u001b[0m\n",
      "\u001b[32m[I 2023-01-06 10:12:06,533]\u001b[0m Trial 47 finished with value: 2.083388175732707 and parameters: {'depth': 8, 'subsample': 0.7550157628597249, 'od_wait': 14, 'colsample_bylevel': 0.6244192802533977, 'l2_leaf_reg': 40.01924965515262, 'n_estimators': 1633, 'learning_rate': 0.08705690834208597}. Best is trial 23 with value: 1.7042935976632214.\u001b[0m\n",
      "\u001b[32m[I 2023-01-06 10:12:14,789]\u001b[0m Trial 48 finished with value: 2.140379892674372 and parameters: {'depth': 9, 'subsample': 0.5239741235500438, 'od_wait': 25, 'colsample_bylevel': 0.5473313038954466, 'l2_leaf_reg': 6.171677534146969, 'n_estimators': 1728, 'learning_rate': 0.014009706357023788}. Best is trial 23 with value: 1.7042935976632214.\u001b[0m\n",
      "\u001b[32m[I 2023-01-06 10:12:23,116]\u001b[0m Trial 49 finished with value: 2.1261803764918534 and parameters: {'depth': 10, 'subsample': 0.5923491330976357, 'od_wait': 16, 'colsample_bylevel': 0.6059971942195859, 'l2_leaf_reg': 30.577022222189363, 'n_estimators': 2398, 'learning_rate': 0.04645812686290485}. Best is trial 23 with value: 1.7042935976632214.\u001b[0m\n",
      "\u001b[32m[I 2023-01-06 10:12:30,962]\u001b[0m Trial 50 finished with value: 2.116435253647804 and parameters: {'depth': 8, 'subsample': 0.8003920033207057, 'od_wait': 22, 'colsample_bylevel': 0.5006971824099218, 'l2_leaf_reg': 22.69335465012433, 'n_estimators': 2193, 'learning_rate': 0.07242004065767653}. Best is trial 23 with value: 1.7042935976632214.\u001b[0m\n",
      "\u001b[32m[I 2023-01-06 10:12:42,163]\u001b[0m Trial 51 finished with value: 2.0886883869745683 and parameters: {'depth': 6, 'subsample': 0.8447008521780468, 'od_wait': 12, 'colsample_bylevel': 0.7362084635090064, 'l2_leaf_reg': 12.894767648248015, 'n_estimators': 1348, 'learning_rate': 0.09737801649811681}. Best is trial 23 with value: 1.7042935976632214.\u001b[0m\n",
      "\u001b[32m[I 2023-01-06 10:41:43,958]\u001b[0m Trial 52 finished with value: 1.721191913289458 and parameters: {'depth': 9, 'subsample': 0.6705504517402464, 'od_wait': 42, 'colsample_bylevel': 0.853564790128727, 'l2_leaf_reg': 16.224382930591304, 'n_estimators': 1590, 'learning_rate': 0.08453672710188184}. Best is trial 23 with value: 1.7042935976632214.\u001b[0m\n",
      "\u001b[32m[I 2023-01-06 10:41:52,426]\u001b[0m Trial 53 finished with value: 2.0934948490066403 and parameters: {'depth': 5, 'subsample': 0.7173366818538717, 'od_wait': 37, 'colsample_bylevel': 0.8933767842114677, 'l2_leaf_reg': 19.708079273226197, 'n_estimators': 1942, 'learning_rate': 0.09920374947077835}. Best is trial 23 with value: 1.7042935976632214.\u001b[0m\n",
      "\u001b[32m[I 2023-01-06 10:42:01,116]\u001b[0m Trial 54 finished with value: 2.1144979532859938 and parameters: {'depth': 9, 'subsample': 0.6233466560385497, 'od_wait': 10, 'colsample_bylevel': 0.819323673615394, 'l2_leaf_reg': 2.648351304649214, 'n_estimators': 2068, 'learning_rate': 0.07046058912599444}. Best is trial 23 with value: 1.7042935976632214.\u001b[0m\n",
      "\u001b[32m[I 2023-01-06 10:42:10,003]\u001b[0m Trial 55 finished with value: 2.119499572630423 and parameters: {'depth': 10, 'subsample': 0.9859855629458705, 'od_wait': 25, 'colsample_bylevel': 0.7038955663309783, 'l2_leaf_reg': 14.265397167340128, 'n_estimators': 1180, 'learning_rate': 0.06224290278795246}. Best is trial 23 with value: 1.7042935976632214.\u001b[0m\n",
      "\u001b[32m[I 2023-01-06 10:42:22,562]\u001b[0m Trial 56 finished with value: 2.0903897123066075 and parameters: {'depth': 7, 'subsample': 0.643655750989983, 'od_wait': 19, 'colsample_bylevel': 0.7575179457110996, 'l2_leaf_reg': 10.225231957405786, 'n_estimators': 1487, 'learning_rate': 0.08619425172679311}. Best is trial 23 with value: 1.7042935976632214.\u001b[0m\n",
      "\u001b[32m[I 2023-01-06 10:42:29,438]\u001b[0m Trial 57 finished with value: 2.1184291964390627 and parameters: {'depth': 5, 'subsample': 0.8940264906514197, 'od_wait': 45, 'colsample_bylevel': 0.5190602752645503, 'l2_leaf_reg': 18.173744162290316, 'n_estimators': 903, 'learning_rate': 0.07228262912703119}. Best is trial 23 with value: 1.7042935976632214.\u001b[0m\n",
      "\u001b[32m[I 2023-01-06 10:42:37,304]\u001b[0m Trial 58 finished with value: 2.124413261156942 and parameters: {'depth': 8, 'subsample': 0.6003628408137008, 'od_wait': 30, 'colsample_bylevel': 0.6578537629554507, 'l2_leaf_reg': 21.304387572009457, 'n_estimators': 1886, 'learning_rate': 0.05115501295820207}. Best is trial 23 with value: 1.7042935976632214.\u001b[0m\n",
      "\u001b[32m[I 2023-01-06 10:42:43,407]\u001b[0m Trial 59 finished with value: 2.1250505138221323 and parameters: {'depth': 3, 'subsample': 0.7303550106680712, 'od_wait': 16, 'colsample_bylevel': 0.904805710704092, 'l2_leaf_reg': 12.167289845027845, 'n_estimators': 1715, 'learning_rate': 0.06228987235097887}. Best is trial 23 with value: 1.7042935976632214.\u001b[0m\n",
      "\u001b[32m[I 2023-01-06 10:44:45,518]\u001b[0m Trial 60 finished with value: 2.078066603164885 and parameters: {'depth': 9, 'subsample': 0.9621657345047527, 'od_wait': 50, 'colsample_bylevel': 0.9594081369829557, 'l2_leaf_reg': 7.998527868246096, 'n_estimators': 2250, 'learning_rate': 0.089110914571267}. Best is trial 23 with value: 1.7042935976632214.\u001b[0m\n",
      "\u001b[32m[I 2023-01-06 10:44:54,356]\u001b[0m Trial 61 finished with value: 2.110298921749626 and parameters: {'depth': 10, 'subsample': 0.622150277282275, 'od_wait': 11, 'colsample_bylevel': 0.5711753447586234, 'l2_leaf_reg': 23.302287932527882, 'n_estimators': 2434, 'learning_rate': 0.07726554038140912}. Best is trial 23 with value: 1.7042935976632214.\u001b[0m\n",
      "\u001b[32m[I 2023-01-06 10:45:03,250]\u001b[0m Trial 62 finished with value: 2.1095401993197904 and parameters: {'depth': 10, 'subsample': 0.6387051307535003, 'od_wait': 14, 'colsample_bylevel': 0.5553061746684578, 'l2_leaf_reg': 25.140419244366406, 'n_estimators': 2487, 'learning_rate': 0.07662933502037424}. Best is trial 23 with value: 1.7042935976632214.\u001b[0m\n",
      "\u001b[32m[I 2023-01-06 11:09:38,679]\u001b[0m Trial 63 finished with value: 1.720308577192559 and parameters: {'depth': 10, 'subsample': 0.6993895851072964, 'od_wait': 14, 'colsample_bylevel': 0.589845689492112, 'l2_leaf_reg': 27.269813192915, 'n_estimators': 2369, 'learning_rate': 0.09144151453145166}. Best is trial 23 with value: 1.7042935976632214.\u001b[0m\n",
      "\u001b[32m[I 2023-01-06 11:10:13,325]\u001b[0m Trial 64 finished with value: 2.0836707643269547 and parameters: {'depth': 9, 'subsample': 0.675614946603605, 'od_wait': 13, 'colsample_bylevel': 0.5339108126451227, 'l2_leaf_reg': 16.314231614911293, 'n_estimators': 2107, 'learning_rate': 0.08171535764639501}. Best is trial 23 with value: 1.7042935976632214.\u001b[0m\n",
      "\u001b[32m[I 2023-01-06 11:10:20,504]\u001b[0m Trial 65 finished with value: 2.1321216152952376 and parameters: {'depth': 6, 'subsample': 0.6554321398346139, 'od_wait': 18, 'colsample_bylevel': 0.5160433410599147, 'l2_leaf_reg': 19.924460986864972, 'n_estimators': 2317, 'learning_rate': 0.03472317057329048}. Best is trial 23 with value: 1.7042935976632214.\u001b[0m\n",
      "\u001b[32m[I 2023-01-06 11:10:29,215]\u001b[0m Trial 66 finished with value: 2.116878742604359 and parameters: {'depth': 10, 'subsample': 0.6291502561438846, 'od_wait': 20, 'colsample_bylevel': 0.5612197743980104, 'l2_leaf_reg': 29.74410655192238, 'n_estimators': 2008, 'learning_rate': 0.06531552990770728}. Best is trial 23 with value: 1.7042935976632214.\u001b[0m\n",
      "\u001b[32m[I 2023-01-06 11:10:37,872]\u001b[0m Trial 67 finished with value: 2.113747579509547 and parameters: {'depth': 9, 'subsample': 0.5763463399635732, 'od_wait': 11, 'colsample_bylevel': 0.7985571814786443, 'l2_leaf_reg': 21.82780966703465, 'n_estimators': 2395, 'learning_rate': 0.07289073424453836}. Best is trial 23 with value: 1.7042935976632214.\u001b[0m\n",
      "\u001b[32m[I 2023-01-06 11:12:22,391]\u001b[0m Trial 68 finished with value: 2.077108407378918 and parameters: {'depth': 10, 'subsample': 0.8392621953808805, 'od_wait': 24, 'colsample_bylevel': 0.5442935541988914, 'l2_leaf_reg': 24.186682563873024, 'n_estimators': 1818, 'learning_rate': 0.09251649643092494}. Best is trial 23 with value: 1.7042935976632214.\u001b[0m\n",
      "\u001b[32m[I 2023-01-06 11:39:10,124]\u001b[0m Trial 69 finished with value: 1.7119676832857151 and parameters: {'depth': 9, 'subsample': 0.6526127773221465, 'od_wait': 16, 'colsample_bylevel': 0.5144548067339932, 'l2_leaf_reg': 15.308440722681155, 'n_estimators': 2205, 'learning_rate': 0.09895119808351399}. Best is trial 23 with value: 1.7042935976632214.\u001b[0m\n",
      "\u001b[32m[I 2023-01-06 11:39:16,858]\u001b[0m Trial 70 finished with value: 2.10808498112638 and parameters: {'depth': 4, 'subsample': 0.688152272316469, 'od_wait': 18, 'colsample_bylevel': 0.5155847899455822, 'l2_leaf_reg': 42.392150594597936, 'n_estimators': 2028, 'learning_rate': 0.09848849751125917}. Best is trial 23 with value: 1.7042935976632214.\u001b[0m\n",
      "\u001b[32m[I 2023-01-06 11:39:52,546]\u001b[0m Trial 71 finished with value: 2.0830251290895143 and parameters: {'depth': 9, 'subsample': 0.6177348048972763, 'od_wait': 16, 'colsample_bylevel': 0.5355164606554338, 'l2_leaf_reg': 14.868095791002967, 'n_estimators': 225, 'learning_rate': 0.08205168621844486}. Best is trial 23 with value: 1.7042935976632214.\u001b[0m\n",
      "\u001b[32m[I 2023-01-06 11:40:18,934]\u001b[0m Trial 72 finished with value: 2.0838800209247976 and parameters: {'depth': 8, 'subsample': 0.6521497028361195, 'od_wait': 14, 'colsample_bylevel': 0.5116127967138147, 'l2_leaf_reg': 18.16918103995738, 'n_estimators': 2181, 'learning_rate': 0.08942774639972362}. Best is trial 23 with value: 1.7042935976632214.\u001b[0m\n",
      "\u001b[32m[I 2023-01-06 11:40:27,591]\u001b[0m Trial 73 finished with value: 2.1210937659667897 and parameters: {'depth': 9, 'subsample': 0.7010378296027895, 'od_wait': 15, 'colsample_bylevel': 0.5749244963424839, 'l2_leaf_reg': 49.59642082229673, 'n_estimators': 2237, 'learning_rate': 0.059037230117589226}. Best is trial 23 with value: 1.7042935976632214.\u001b[0m\n",
      "\u001b[32m[I 2023-01-06 11:40:35,882]\u001b[0m Trial 74 finished with value: 2.1343116545251335 and parameters: {'depth': 10, 'subsample': 0.6010606033449136, 'od_wait': 20, 'colsample_bylevel': 0.5329303847589971, 'l2_leaf_reg': 11.484557531533229, 'n_estimators': 2302, 'learning_rate': 0.027093072329493068}. Best is trial 23 with value: 1.7042935976632214.\u001b[0m\n",
      "\u001b[32m[I 2023-01-06 11:40:44,422]\u001b[0m Trial 75 finished with value: 2.115838526736244 and parameters: {'depth': 9, 'subsample': 0.6679142100566673, 'od_wait': 17, 'colsample_bylevel': 0.513972379132637, 'l2_leaf_reg': 26.455369986300287, 'n_estimators': 2137, 'learning_rate': 0.06851344714358651}. Best is trial 23 with value: 1.7042935976632214.\u001b[0m\n",
      "\u001b[32m[I 2023-01-06 11:40:52,585]\u001b[0m Trial 76 finished with value: 2.1131078319168646 and parameters: {'depth': 8, 'subsample': 0.6380719504437568, 'od_wait': 13, 'colsample_bylevel': 0.8351251494394846, 'l2_leaf_reg': 15.411759231283536, 'n_estimators': 1404, 'learning_rate': 0.07674127769955359}. Best is trial 23 with value: 1.7042935976632214.\u001b[0m\n",
      "\u001b[32m[I 2023-01-06 11:41:00,008]\u001b[0m Trial 77 finished with value: 2.110358312401694 and parameters: {'depth': 7, 'subsample': 0.6504168585000832, 'od_wait': 12, 'colsample_bylevel': 0.501358979888745, 'l2_leaf_reg': 13.970994819972061, 'n_estimators': 2498, 'learning_rate': 0.08234857026839992}. Best is trial 23 with value: 1.7042935976632214.\u001b[0m\n",
      "\u001b[32m[I 2023-01-06 11:41:08,224]\u001b[0m Trial 78 finished with value: 2.1442408728113365 and parameters: {'depth': 9, 'subsample': 0.5494215517769141, 'od_wait': 27, 'colsample_bylevel': 0.6100947477622197, 'l2_leaf_reg': 8.473826996952027, 'n_estimators': 1645, 'learning_rate': 0.005443661787609599}. Best is trial 23 with value: 1.7042935976632214.\u001b[0m\n",
      "\u001b[32m[I 2023-01-06 12:05:27,743]\u001b[0m Trial 79 finished with value: 1.7176201883700102 and parameters: {'depth': 10, 'subsample': 0.6749154461398446, 'od_wait': 22, 'colsample_bylevel': 0.5563512745580094, 'l2_leaf_reg': 20.323519593079002, 'n_estimators': 1575, 'learning_rate': 0.09988582389702907}. Best is trial 23 with value: 1.7042935976632214.\u001b[0m\n",
      "\u001b[32m[I 2023-01-06 12:05:59,526]\u001b[0m Trial 80 finished with value: 2.079192008197309 and parameters: {'depth': 8, 'subsample': 0.7157735475059747, 'od_wait': 22, 'colsample_bylevel': 0.5514929868159737, 'l2_leaf_reg': 17.416539339345736, 'n_estimators': 1825, 'learning_rate': 0.09958768197212686}. Best is trial 23 with value: 1.7042935976632214.\u001b[0m\n",
      "\u001b[32m[I 2023-01-06 12:07:21,291]\u001b[0m Trial 81 finished with value: 2.0783103931010722 and parameters: {'depth': 10, 'subsample': 0.6792602623939723, 'od_wait': 19, 'colsample_bylevel': 0.5675793039502713, 'l2_leaf_reg': 19.77063907935869, 'n_estimators': 1548, 'learning_rate': 0.09140042317309573}. Best is trial 23 with value: 1.7042935976632214.\u001b[0m\n",
      "\u001b[32m[I 2023-01-06 12:07:29,812]\u001b[0m Trial 82 finished with value: 2.1126113245718128 and parameters: {'depth': 10, 'subsample': 0.6313730243138083, 'od_wait': 32, 'colsample_bylevel': 0.5344064491674932, 'l2_leaf_reg': 21.981436148697462, 'n_estimators': 1313, 'learning_rate': 0.07523127925593333}. Best is trial 23 with value: 1.7042935976632214.\u001b[0m\n",
      "\u001b[32m[I 2023-01-06 12:34:24,484]\u001b[0m Trial 83 finished with value: 1.719893711628965 and parameters: {'depth': 10, 'subsample': 0.6637640704702806, 'od_wait': 21, 'colsample_bylevel': 0.5834934561178046, 'l2_leaf_reg': 20.431573021617805, 'n_estimators': 1442, 'learning_rate': 0.08558837256663288}. Best is trial 23 with value: 1.7042935976632214.\u001b[0m\n",
      "\u001b[32m[I 2023-01-06 12:34:58,881]\u001b[0m Trial 84 finished with value: 2.080262365601594 and parameters: {'depth': 9, 'subsample': 0.6933490282266647, 'od_wait': 16, 'colsample_bylevel': 0.5207447634922137, 'l2_leaf_reg': 22.94176272369665, 'n_estimators': 1758, 'learning_rate': 0.09413804170268264}. Best is trial 23 with value: 1.7042935976632214.\u001b[0m\n",
      "\u001b[32m[I 2023-01-06 12:35:07,364]\u001b[0m Trial 85 finished with value: 2.117109509181884 and parameters: {'depth': 10, 'subsample': 0.5927487335436812, 'od_wait': 34, 'colsample_bylevel': 0.5582372433350131, 'l2_leaf_reg': 38.18986322615643, 'n_estimators': 1531, 'learning_rate': 0.06862119876906798}. Best is trial 23 with value: 1.7042935976632214.\u001b[0m\n",
      "\u001b[32m[I 2023-01-06 12:35:15,506]\u001b[0m Trial 86 finished with value: 2.142273827564758 and parameters: {'depth': 9, 'subsample': 0.7417357074286183, 'od_wait': 18, 'colsample_bylevel': 0.5010568578012777, 'l2_leaf_reg': 18.978810031509468, 'n_estimators': 2435, 'learning_rate': 0.00977938037491273}. Best is trial 23 with value: 1.7042935976632214.\u001b[0m\n",
      "\u001b[32m[I 2023-01-06 12:38:13,835]\u001b[0m Trial 87 finished with value: 2.0793023717020285 and parameters: {'depth': 10, 'subsample': 0.6101308218349332, 'od_wait': 15, 'colsample_bylevel': 0.5362064213273522, 'l2_leaf_reg': 15.465711102251332, 'n_estimators': 1593, 'learning_rate': 0.08276046073738695}. Best is trial 23 with value: 1.7042935976632214.\u001b[0m\n",
      "\u001b[32m[I 2023-01-06 12:38:22,351]\u001b[0m Trial 88 finished with value: 2.122952547071538 and parameters: {'depth': 9, 'subsample': 0.6749397012625001, 'od_wait': 10, 'colsample_bylevel': 0.6818178072170685, 'l2_leaf_reg': 13.276358462077692, 'n_estimators': 1932, 'learning_rate': 0.05356216492584694}. Best is trial 23 with value: 1.7042935976632214.\u001b[0m\n",
      "\u001b[32m[I 2023-01-06 12:38:29,233]\u001b[0m Trial 89 finished with value: 2.102562892268428 and parameters: {'depth': 4, 'subsample': 0.764267768527911, 'od_wait': 22, 'colsample_bylevel': 0.716156308960599, 'l2_leaf_reg': 27.747732643840422, 'n_estimators': 2340, 'learning_rate': 0.09973786321635927}. Best is trial 23 with value: 1.7042935976632214.\u001b[0m\n",
      "\u001b[32m[I 2023-01-06 12:38:37,828]\u001b[0m Trial 90 finished with value: 2.1196428104640743 and parameters: {'depth': 10, 'subsample': 0.923403133146572, 'od_wait': 28, 'colsample_bylevel': 0.6001785972128484, 'l2_leaf_reg': 25.595558707717668, 'n_estimators': 1678, 'learning_rate': 0.06195945324926025}. Best is trial 23 with value: 1.7042935976632214.\u001b[0m\n",
      "\u001b[32m[I 2023-01-06 12:39:17,214]\u001b[0m Trial 91 finished with value: 2.082246555652956 and parameters: {'depth': 9, 'subsample': 0.7098168845917378, 'od_wait': 11, 'colsample_bylevel': 0.5244531113718263, 'l2_leaf_reg': 17.147830809190065, 'n_estimators': 1777, 'learning_rate': 0.08857457199921395}. Best is trial 23 with value: 1.7042935976632214.\u001b[0m\n",
      "\u001b[32m[I 2023-01-06 12:39:23,737]\u001b[0m Trial 92 finished with value: 2.115851947525125 and parameters: {'depth': 5, 'subsample': 0.7060816227342627, 'od_wait': 12, 'colsample_bylevel': 0.5000956147392468, 'l2_leaf_reg': 18.81159092414, 'n_estimators': 1214, 'learning_rate': 0.07952232981999129}. Best is trial 23 with value: 1.7042935976632214.\u001b[0m\n",
      "\u001b[32m[I 2023-01-06 12:39:32,073]\u001b[0m Trial 93 finished with value: 2.118074127928872 and parameters: {'depth': 9, 'subsample': 0.6581688068260594, 'od_wait': 14, 'colsample_bylevel': 0.5136525215218647, 'l2_leaf_reg': 23.898280040809688, 'n_estimators': 1889, 'learning_rate': 0.06623529092552785}. Best is trial 23 with value: 1.7042935976632214.\u001b[0m\n",
      "\u001b[32m[I 2023-01-06 12:39:40,731]\u001b[0m Trial 94 finished with value: 2.114309790987446 and parameters: {'depth': 9, 'subsample': 0.6427029018496163, 'od_wait': 10, 'colsample_bylevel': 0.5467028690633078, 'l2_leaf_reg': 21.400190053694637, 'n_estimators': 2216, 'learning_rate': 0.07304747364271617}. Best is trial 23 with value: 1.7042935976632214.\u001b[0m\n",
      "\u001b[32m[I 2023-01-06 12:39:58,795]\u001b[0m Trial 95 finished with value: 2.086102143072915 and parameters: {'depth': 8, 'subsample': 0.6822255504654472, 'od_wait': 13, 'colsample_bylevel': 0.5267139048821776, 'l2_leaf_reg': 15.937862090046204, 'n_estimators': 2095, 'learning_rate': 0.09282394957055136}. Best is trial 23 with value: 1.7042935976632214.\u001b[0m\n",
      "\u001b[32m[I 2023-01-06 12:40:07,358]\u001b[0m Trial 96 finished with value: 2.1371202914970038 and parameters: {'depth': 10, 'subsample': 0.6289799774511067, 'od_wait': 17, 'colsample_bylevel': 0.5104468281371684, 'l2_leaf_reg': 20.781005275489377, 'n_estimators': 1369, 'learning_rate': 0.0209514957889689}. Best is trial 23 with value: 1.7042935976632214.\u001b[0m\n",
      "\u001b[32m[I 2023-01-06 12:40:15,727]\u001b[0m Trial 97 finished with value: 2.108274615711083 and parameters: {'depth': 8, 'subsample': 0.6614102978320988, 'od_wait': 15, 'colsample_bylevel': 0.5413366989759697, 'l2_leaf_reg': 17.680885414233146, 'n_estimators': 1700, 'learning_rate': 0.08515450361896791}. Best is trial 23 with value: 1.7042935976632214.\u001b[0m\n",
      "\u001b[32m[I 2023-01-06 12:40:24,480]\u001b[0m Trial 98 finished with value: 2.111057634005534 and parameters: {'depth': 9, 'subsample': 0.7228556214999251, 'od_wait': 11, 'colsample_bylevel': 0.5674599558226936, 'l2_leaf_reg': 18.96882744837077, 'n_estimators': 2430, 'learning_rate': 0.07925533985274452}. Best is trial 23 with value: 1.7042935976632214.\u001b[0m\n",
      "\u001b[32m[I 2023-01-06 12:40:32,785]\u001b[0m Trial 99 finished with value: 2.116289933292733 and parameters: {'depth': 10, 'subsample': 0.6928080162348401, 'od_wait': 12, 'colsample_bylevel': 0.6203939307900956, 'l2_leaf_reg': 34.456830887270016, 'n_estimators': 2280, 'learning_rate': 0.0702705947536683}. Best is trial 23 with value: 1.7042935976632214.\u001b[0m\n"
     ]
    }
   ],
   "source": [
    "study_cat = optuna.create_study(direction=\"minimize\", study_name=\"cat\",pruner=optuna.pruners.MedianPruner(n_warmup_steps=5, interval_steps=1, n_startup_trials=1))\n",
    "study_cat.optimize(objective_cat, n_trials=100)"
   ]
  },
  {
   "cell_type": "code",
   "execution_count": 42,
   "metadata": {},
   "outputs": [
    {
     "name": "stdout",
     "output_type": "stream",
     "text": [
      "0:\tlearn: 38328.0536733\ttest: 38299.1697802\tbest: 38299.1697802 (0)\ttotal: 193ms\tremaining: 4m 20s\n",
      "300:\tlearn: 27311.0384474\ttest: 28892.5178804\tbest: 28892.5178804 (300)\ttotal: 47.4s\tremaining: 2m 45s\n",
      "600:\tlearn: 27179.2769050\ttest: 28787.6957393\tbest: 28787.5176191 (596)\ttotal: 1m 35s\tremaining: 1m 58s\n",
      "900:\tlearn: 27110.9514428\ttest: 28766.2777517\tbest: 28766.1055705 (860)\ttotal: 2m 24s\tremaining: 1m 12s\n",
      "1200:\tlearn: 27058.7081969\ttest: 28729.9331274\tbest: 28729.6364232 (1194)\ttotal: 3m 15s\tremaining: 24.3s\n",
      "1349:\tlearn: 27034.8766710\ttest: 28735.4068792\tbest: 28729.6364232 (1194)\ttotal: 3m 42s\tremaining: 0us\n",
      "\n",
      "bestTest = 28729.63642\n",
      "bestIteration = 1194\n",
      "\n",
      "Shrink model to first 1195 iterations.\n",
      "Fold:  1\n",
      "RMSLE:  1.4457956852304537\n",
      "0:\tlearn: 37557.4469456\ttest: 47490.4790876\tbest: 47490.4790876 (0)\ttotal: 171ms\tremaining: 3m 50s\n",
      "300:\tlearn: 26518.9400591\ttest: 34946.8280232\tbest: 34945.2183407 (299)\ttotal: 46.3s\tremaining: 2m 41s\n",
      "600:\tlearn: 26379.7594957\ttest: 34860.9347012\tbest: 34859.8316495 (597)\ttotal: 1m 31s\tremaining: 1m 54s\n",
      "900:\tlearn: 26314.8509030\ttest: 34844.8592311\tbest: 34840.0526569 (805)\ttotal: 2m 20s\tremaining: 1m 10s\n",
      "1200:\tlearn: 26260.7593540\ttest: 34826.5675511\tbest: 34824.5650124 (1189)\ttotal: 3m 11s\tremaining: 23.8s\n",
      "1349:\tlearn: 26237.4201714\ttest: 34821.3673366\tbest: 34821.3673366 (1349)\ttotal: 3m 38s\tremaining: 0us\n",
      "\n",
      "bestTest = 34821.36734\n",
      "bestIteration = 1349\n",
      "\n",
      "Fold:  2\n",
      "RMSLE:  1.8748229520971413\n",
      "0:\tlearn: 39188.1401591\ttest: 33153.8447979\tbest: 33153.8447979 (0)\ttotal: 180ms\tremaining: 4m 3s\n",
      "300:\tlearn: 28047.0894862\ttest: 21959.3274291\tbest: 21949.7548571 (263)\ttotal: 47.4s\tremaining: 2m 45s\n",
      "600:\tlearn: 27909.6143300\ttest: 21903.5952048\tbest: 21895.7788827 (581)\ttotal: 1m 36s\tremaining: 2m\n",
      "900:\tlearn: 27828.8815579\ttest: 21907.3756811\tbest: 21895.6835117 (623)\ttotal: 2m 29s\tremaining: 1m 14s\n",
      "1200:\tlearn: 27768.9466420\ttest: 21893.2865107\tbest: 21891.5784835 (1003)\ttotal: 3m 21s\tremaining: 25s\n",
      "1349:\tlearn: 27739.6395985\ttest: 21897.2139472\tbest: 21887.7559134 (1236)\ttotal: 3m 48s\tremaining: 0us\n",
      "\n",
      "bestTest = 21887.75591\n",
      "bestIteration = 1236\n",
      "\n",
      "Shrink model to first 1237 iterations.\n",
      "Fold:  3\n",
      "RMSLE:  1.828290271787192\n",
      "0:\tlearn: 38995.8479315\ttest: 35305.9675717\tbest: 35305.9675717 (0)\ttotal: 172ms\tremaining: 3m 52s\n",
      "300:\tlearn: 27796.1877483\ttest: 23829.4609215\tbest: 23813.3729280 (216)\ttotal: 47s\tremaining: 2m 43s\n",
      "600:\tlearn: 27663.7687519\ttest: 23823.2662947\tbest: 23813.3729280 (216)\ttotal: 1m 35s\tremaining: 1m 59s\n",
      "Stopped by overfitting detector  (500 iterations wait)\n",
      "\n",
      "bestTest = 23813.37293\n",
      "bestIteration = 216\n",
      "\n",
      "Shrink model to first 217 iterations.\n",
      "Fold:  4\n",
      "RMSLE:  1.761960282668336\n",
      "0:\tlearn: 38836.7507334\ttest: 36696.0201365\tbest: 36696.0201365 (0)\ttotal: 169ms\tremaining: 3m 47s\n",
      "300:\tlearn: 27471.7497858\ttest: 26907.5474855\tbest: 26907.5474855 (300)\ttotal: 46.8s\tremaining: 2m 43s\n",
      "600:\tlearn: 27350.8840526\ttest: 26854.0549389\tbest: 26853.4071565 (594)\ttotal: 1m 35s\tremaining: 1m 59s\n",
      "900:\tlearn: 27288.9152225\ttest: 26845.3559255\tbest: 26844.4935039 (891)\ttotal: 2m 25s\tremaining: 1m 12s\n",
      "1200:\tlearn: 27240.3961493\ttest: 26828.4696371\tbest: 26828.4696371 (1200)\ttotal: 3m 16s\tremaining: 24.4s\n",
      "1349:\tlearn: 27216.3735848\ttest: 26822.6286777\tbest: 26822.6286777 (1349)\ttotal: 3m 40s\tremaining: 0us\n",
      "\n",
      "bestTest = 26822.62868\n",
      "bestIteration = 1349\n",
      "\n",
      "Fold:  5\n",
      "RMSLE:  1.5739590594920132\n",
      "0:\tlearn: 38589.2771057\ttest: 39056.9875988\tbest: 39056.9875988 (0)\ttotal: 164ms\tremaining: 3m 41s\n",
      "300:\tlearn: 27332.2644973\ttest: 28487.7376794\tbest: 28485.4957215 (292)\ttotal: 45.2s\tremaining: 2m 37s\n",
      "600:\tlearn: 27214.4665439\ttest: 28431.7507514\tbest: 28427.1533240 (544)\ttotal: 1m 31s\tremaining: 1m 53s\n",
      "900:\tlearn: 27140.2731207\ttest: 28372.7087731\tbest: 28372.4661887 (899)\ttotal: 2m 18s\tremaining: 1m 9s\n",
      "1200:\tlearn: 27086.3837288\ttest: 28337.4579163\tbest: 28337.4249161 (1198)\ttotal: 3m 8s\tremaining: 23.4s\n",
      "1349:\tlearn: 27060.6399665\ttest: 28345.6608645\tbest: 28337.0869611 (1202)\ttotal: 3m 33s\tremaining: 0us\n",
      "\n",
      "bestTest = 28337.08696\n",
      "bestIteration = 1202\n",
      "\n",
      "Shrink model to first 1203 iterations.\n",
      "Fold:  6\n",
      "RMSLE:  1.6834622893467321\n",
      "0:\tlearn: 39120.1435226\ttest: 33707.7311565\tbest: 33707.7311565 (0)\ttotal: 168ms\tremaining: 3m 47s\n",
      "300:\tlearn: 27545.5146821\ttest: 26251.6024851\tbest: 26146.8811429 (102)\ttotal: 44.2s\tremaining: 2m 34s\n",
      "600:\tlearn: 27408.8603683\ttest: 26364.5144795\tbest: 26146.8811429 (102)\ttotal: 1m 29s\tremaining: 1m 51s\n",
      "Stopped by overfitting detector  (500 iterations wait)\n",
      "\n",
      "bestTest = 26146.88114\n",
      "bestIteration = 102\n",
      "\n",
      "Shrink model to first 103 iterations.\n",
      "Fold:  7\n",
      "RMSLE:  1.8240936319646621\n",
      "0:\tlearn: 38212.9043693\ttest: 42377.9901247\tbest: 42377.9901247 (0)\ttotal: 151ms\tremaining: 3m 23s\n",
      "300:\tlearn: 26848.7663001\ttest: 32291.4894373\tbest: 32291.4894373 (300)\ttotal: 43.5s\tremaining: 2m 31s\n",
      "600:\tlearn: 26725.8739933\ttest: 32213.5544741\tbest: 32210.5462249 (589)\ttotal: 1m 26s\tremaining: 1m 48s\n",
      "900:\tlearn: 26658.7662436\ttest: 32200.7742958\tbest: 32200.7742958 (900)\ttotal: 2m 13s\tremaining: 1m 6s\n",
      "1200:\tlearn: 26601.0415936\ttest: 32184.3894965\tbest: 32184.3894965 (1200)\ttotal: 3m 1s\tremaining: 22.6s\n",
      "1349:\tlearn: 26577.4577872\ttest: 32178.2326132\tbest: 32177.8916857 (1339)\ttotal: 3m 24s\tremaining: 0us\n",
      "\n",
      "bestTest = 32177.89169\n",
      "bestIteration = 1339\n",
      "\n",
      "Shrink model to first 1340 iterations.\n",
      "Fold:  8\n",
      "RMSLE:  1.7351583381556825\n",
      "0:\tlearn: 38593.6172546\ttest: 38926.7777451\tbest: 38926.7777451 (0)\ttotal: 162ms\tremaining: 3m 38s\n",
      "300:\tlearn: 27450.7381291\ttest: 27331.1701990\tbest: 27331.1701990 (300)\ttotal: 42.9s\tremaining: 2m 29s\n",
      "600:\tlearn: 27320.2629782\ttest: 27211.6972999\tbest: 27211.6550545 (597)\ttotal: 1m 27s\tremaining: 1m 49s\n",
      "900:\tlearn: 27246.9696517\ttest: 27163.3512869\tbest: 27163.3512869 (900)\ttotal: 2m 13s\tremaining: 1m 6s\n",
      "1200:\tlearn: 27189.5435475\ttest: 27141.4708509\tbest: 27137.9343902 (1161)\ttotal: 2m 59s\tremaining: 22.3s\n",
      "1349:\tlearn: 27163.7527755\ttest: 27139.9823300\tbest: 27135.4852082 (1244)\ttotal: 3m 22s\tremaining: 0us\n",
      "\n",
      "bestTest = 27135.48521\n",
      "bestIteration = 1244\n",
      "\n",
      "Shrink model to first 1245 iterations.\n",
      "Fold:  9\n",
      "RMSLE:  1.6297357017362317\n",
      "0:\tlearn: 38560.8150314\ttest: 39331.9313039\tbest: 39331.9313039 (0)\ttotal: 145ms\tremaining: 3m 15s\n",
      "300:\tlearn: 27244.0457877\ttest: 28902.8283431\tbest: 28902.8283431 (300)\ttotal: 43.8s\tremaining: 2m 32s\n",
      "600:\tlearn: 27103.0083560\ttest: 28860.1947546\tbest: 28859.4988120 (547)\ttotal: 1m 28s\tremaining: 1m 50s\n",
      "900:\tlearn: 27020.1179764\ttest: 28853.3808028\tbest: 28851.7010242 (859)\ttotal: 2m 15s\tremaining: 1m 7s\n",
      "1200:\tlearn: 26957.3168589\ttest: 28848.5420202\tbest: 28848.0878863 (1011)\ttotal: 3m 3s\tremaining: 22.7s\n",
      "1349:\tlearn: 26932.2233104\ttest: 28850.6745251\tbest: 28848.0878863 (1011)\ttotal: 3m 27s\tremaining: 0us\n",
      "\n",
      "bestTest = 28848.08789\n",
      "bestIteration = 1011\n",
      "\n",
      "Shrink model to first 1012 iterations.\n",
      "Fold:  10\n",
      "RMSLE:  1.7031355393857686\n"
     ]
    }
   ],
   "source": [
    "rmsle_cat = []\n",
    "models_cat = []\n",
    "fold_cat = 1\n",
    "for train_index, test_index in gkf.split(X, y,groups=group):\n",
    "    \n",
    "    \n",
    "    X_train,X_val = X.iloc[train_index],X.iloc[test_index]\n",
    "    y_train,y_val = y.iloc[train_index],y.iloc[test_index]\n",
    "    \n",
    "    model = CatBoostRegressor(**study_cat.best_params)\n",
    "    model.fit(X_train,y_train,eval_set=[(X_val,y_val)],cat_features=cat_cols,\n",
    "                early_stopping_rounds=500,verbose=300)\n",
    "\n",
    "    y_pred = model.predict(X_val)\n",
    "    y_pred = np.where(y_pred<0,0,y_pred)\n",
    "    print(\"Fold: \", fold_cat)\n",
    "    \n",
    "    score = np.sqrt(mean_squared_log_error(y_val, y_pred))\n",
    "    rmsle_cat.append(score)\n",
    "    print(\"RMSLE: \", score)\n",
    "    models_cat.append(model)\n",
    "    \n",
    "    fold_cat += 1\n",
    "    "
   ]
  },
  {
   "cell_type": "code",
   "execution_count": 43,
   "metadata": {},
   "outputs": [
    {
     "data": {
      "text/plain": [
       "[1.4457956852304537,\n",
       " 1.8748229520971413,\n",
       " 1.828290271787192,\n",
       " 1.761960282668336,\n",
       " 1.5739590594920132,\n",
       " 1.6834622893467321,\n",
       " 1.8240936319646621,\n",
       " 1.7351583381556825,\n",
       " 1.6297357017362317,\n",
       " 1.7031355393857686]"
      ]
     },
     "execution_count": 43,
     "metadata": {},
     "output_type": "execute_result"
    }
   ],
   "source": [
    "rmsle_cat"
   ]
  },
  {
   "cell_type": "code",
   "execution_count": 44,
   "metadata": {},
   "outputs": [
    {
     "data": {
      "text/plain": [
       "(1.7060413751864214, 0.12363552990994679)"
      ]
     },
     "execution_count": 44,
     "metadata": {},
     "output_type": "execute_result"
    }
   ],
   "source": [
    "np.mean(rmsle_cat),np.std(rmsle_cat)"
   ]
  },
  {
   "cell_type": "code",
   "execution_count": 45,
   "metadata": {},
   "outputs": [],
   "source": [
    "sub_cat = []\n",
    "sub_lgbm = []\n",
    "\n",
    "for model in models_cat:\n",
    "    sub_pred = model.predict(df_test[X.columns])\n",
    "    sub_pred = np.where(sub_pred < 0, 0, sub_pred)\n",
    "    sub_cat.append(sub_pred)\n",
    "\n",
    "for model in models_lgbm:\n",
    "    sub_pred = model.predict(df_test[X.columns])\n",
    "    sub_pred = np.where(sub_pred < 0, 0, sub_pred)\n",
    "    sub_lgbm.append(sub_pred)\n",
    "    "
   ]
  },
  {
   "cell_type": "code",
   "execution_count": 46,
   "metadata": {},
   "outputs": [],
   "source": [
    "sub_cat = np.mean(sub_cat, axis=0)\n",
    "sub_lgbm = np.mean(sub_lgbm, axis=0)\n",
    "\n",
    "sub = sub_lgbm + sub_cat\n",
    "sub = sub/2"
   ]
  },
  {
   "cell_type": "code",
   "execution_count": 47,
   "metadata": {},
   "outputs": [],
   "source": [
    "submission = pd.read_csv(\"sample_submission.csv\")\n",
    "submission[\"Litres\"] = sub"
   ]
  },
  {
   "cell_type": "code",
   "execution_count": 48,
   "metadata": {},
   "outputs": [],
   "source": [
    "submission.to_csv(\"submission.csv\",index=False)"
   ]
  },
  {
   "cell_type": "code",
   "execution_count": null,
   "metadata": {},
   "outputs": [],
   "source": []
  }
 ],
 "metadata": {
  "kernelspec": {
   "display_name": "Python 3",
   "language": "python",
   "name": "python3"
  },
  "language_info": {
   "codemirror_mode": {
    "name": "ipython",
    "version": 3
   },
   "file_extension": ".py",
   "mimetype": "text/x-python",
   "name": "python",
   "nbconvert_exporter": "python",
   "pygments_lexer": "ipython3",
   "version": "3.8.10 (tags/v3.8.10:3d8993a, May  3 2021, 11:48:03) [MSC v.1928 64 bit (AMD64)]"
  },
  "orig_nbformat": 4,
  "vscode": {
   "interpreter": {
    "hash": "3b86cf26b111134157ebe845dcff7287e37fbcdfe2e6a1ab798ab9bf32d5b708"
   }
  }
 },
 "nbformat": 4,
 "nbformat_minor": 2
}
